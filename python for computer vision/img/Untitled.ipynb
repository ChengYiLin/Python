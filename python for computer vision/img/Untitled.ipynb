{
 "cells": [
  {
   "cell_type": "code",
   "execution_count": 11,
   "metadata": {},
   "outputs": [],
   "source": [
    "import tensorflow as tf\n",
    "import numpy as np\n",
    "\n",
    "# create data \n",
    "x_data = np.random.rand(100).astype(np.float32)\n",
    "y_data = 0.1 * x +3"
   ]
  },
  {
   "cell_type": "code",
   "execution_count": 12,
   "metadata": {},
   "outputs": [],
   "source": [
    "weight = tf.Variable(tf.random_uniform([1],-1,1))\n",
    "biases = tf.Variable(tf.zeros([1]))\n",
    "\n",
    "y = weight*x_data + biases\n",
    "\n",
    "loss = tf.reduce_mean( tf.square(y-y_data) )\n",
    "optimizer = tf.train.GradientDescentOptimizer(learning_rate=0.001)\n",
    "train = optimizer.minimize(loss)\n",
    "\n",
    "init = tf.global_variables_initializer()"
   ]
  },
  {
   "cell_type": "code",
   "execution_count": 13,
   "metadata": {},
   "outputs": [],
   "source": [
    "sess = tf.Session()\n",
    "sess.run(init)"
   ]
  },
  {
   "cell_type": "code",
   "execution_count": 14,
   "metadata": {},
   "outputs": [
    {
     "name": "stdout",
     "output_type": "stream",
     "text": [
      "0 [0.15833075] [0.00597117]\n",
      "20 [0.20732619] [0.12248173]\n",
      "40 [0.2539019] [0.23362139]\n",
      "60 [0.29817104] [0.3396404]\n",
      "80 [0.34024146] [0.44077733]\n",
      "100 [0.38021603] [0.53725964]\n",
      "120 [0.41819283] [0.6293043]\n",
      "140 [0.45426512] [0.7171179]\n",
      "160 [0.48852217] [0.8008978]\n",
      "180 [0.521049] [0.8808318]\n",
      "200 [0.55192655] [0.95709896]\n"
     ]
    }
   ],
   "source": [
    "for step in range(201):\n",
    "    sess.run(train)\n",
    "    if step%20 == 0:\n",
    "        print(step, sess.run(weight),sess.run(biases))"
   ]
  }
 ],
 "metadata": {
  "kernelspec": {
   "display_name": "Python 3",
   "language": "python",
   "name": "python3"
  },
  "language_info": {
   "codemirror_mode": {
    "name": "ipython",
    "version": 3
   },
   "file_extension": ".py",
   "mimetype": "text/x-python",
   "name": "python",
   "nbconvert_exporter": "python",
   "pygments_lexer": "ipython3",
   "version": "3.7.3"
  }
 },
 "nbformat": 4,
 "nbformat_minor": 4
}
