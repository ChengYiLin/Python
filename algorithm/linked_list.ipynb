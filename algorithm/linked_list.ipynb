{
 "cells": [
  {
   "cell_type": "markdown",
   "metadata": {},
   "source": [
    "# Linked Lisk by Python"
   ]
  },
  {
   "cell_type": "code",
   "execution_count": 17,
   "metadata": {},
   "outputs": [],
   "source": [
    "import sys\n",
    "import array as arr\n",
    "import numpy as np"
   ]
  },
  {
   "cell_type": "markdown",
   "metadata": {},
   "source": [
    "## Single Linked List"
   ]
  },
  {
   "cell_type": "markdown",
   "metadata": {},
   "source": [
    "![](https://media.geeksforgeeks.org/wp-content/uploads/singly-linkedlist.png)"
   ]
  },
  {
   "cell_type": "markdown",
   "metadata": {},
   "source": [
    "### Node"
   ]
  },
  {
   "cell_type": "code",
   "execution_count": 27,
   "metadata": {},
   "outputs": [],
   "source": [
    "class ListNode:\n",
    "    def __init__(self, data=None, nextNode=None):\n",
    "        self.data = data\n",
    "        self.nextNode = nextNode\n",
    "    \n",
    "    def __str__(self):\n",
    "        return str(self.data)\n",
    "    \n",
    "    def __repr__(self):\n",
    "        return repr(self.data)"
   ]
  },
  {
   "cell_type": "markdown",
   "metadata": {},
   "source": [
    "### Linked List"
   ]
  },
  {
   "cell_type": "code",
   "execution_count": 28,
   "metadata": {},
   "outputs": [],
   "source": [
    "class singleLinkedList:\n",
    "    def __init__(self):\n",
    "        self.head = None\n",
    "    \n",
    "    # Print the Single Linked List\n",
    "    def __repr__(self):\n",
    "        linkedlist = []\n",
    "        currentNode = self.head\n",
    "        while currentNode:\n",
    "            linkedlist.append(currentNode.data)\n",
    "            currentNode = currentNode.nextNode\n",
    "        return repr(linkedlist)\n",
    "    \n",
    "    def listsize(self):\n",
    "        linkedlist = []\n",
    "        currentNode = self.head\n",
    "        while currentNode:\n",
    "            linkedlist.append(sys.getsizeof(currentNode.data))\n",
    "            currentNode = currentNode.nextNode\n",
    "        return repr(linkedlist)\n",
    "    \n",
    "    def memoryaddr(self):\n",
    "        linkedlist = []\n",
    "        currentNode = self.head\n",
    "        while currentNode:\n",
    "            linkedlist.append(hex(id(currentNode.data)))\n",
    "            currentNode = currentNode.nextNode\n",
    "        return repr(linkedlist)\n",
    "    \n",
    "    # Add the Node behind the list\n",
    "    def prepend(self, data):\n",
    "        self.head = ListNode(data=data, nextNode=self.head)\n",
    "    \n",
    "    # Add the Node after the list\n",
    "    def append(self, data):\n",
    "        if self.head==None:\n",
    "            self.head = ListNode(data=data)\n",
    "            return\n",
    "        else:\n",
    "            currentNode = self.head\n",
    "            while currentNode.nextNode:\n",
    "                currentNode = currentNode.nextNode\n",
    "            currentNode.nextNode = ListNode(data=data)\n",
    "    \n",
    "    # Find the value, return Index        \n",
    "    def find(self, data):\n",
    "        nowIndex = 0\n",
    "        currentNode = self.head      \n",
    "        # wheather the linked list is empty\n",
    "        if currentNode==None:\n",
    "            return 'The Linked List is empty'\n",
    "        \n",
    "        while currentNode and currentNode.data!=data:\n",
    "            currentNode = currentNode.nextNode\n",
    "            nowIndex+=1\n",
    "        return nowIndex if currentNode!=None else 'Not Find'\n",
    "    \n",
    "    # Get the value by Index        \n",
    "    def get(self, index):\n",
    "        nowIndex = 0\n",
    "        currentNode = self.head      \n",
    "        # wheather the linked list is empty\n",
    "        if currentNode==None:\n",
    "            return 'The Linked List is empty'\n",
    "        \n",
    "        while currentNode and nowIndex!=index:\n",
    "            currentNode = currentNode.nextNode\n",
    "            nowIndex+=1\n",
    "        return currentNode.data if currentNode!=None else 'Not Find'\n",
    "    \n",
    "    # Insert the value by Index\n",
    "    def insert(self, data, index):\n",
    "        nowIndex = 0\n",
    "        currentNode = self.head \n",
    "        \n",
    "        # when inser index is 0\n",
    "        if index==0:\n",
    "            self.head = ListNode(data=data, nextNode=currentNode)\n",
    "            return self\n",
    "        else:\n",
    "            while currentNode and nowIndex+1!=index:\n",
    "                currentNode = currentNode.nextNode\n",
    "                nowIndex+=1\n",
    "            # if not in the list\n",
    "            if currentNode==None:\n",
    "                return 'Index is out of the list'\n",
    "            else:    \n",
    "                currentNode.nextNode = ListNode(data=data, nextNode=currentNode.nextNode)\n",
    "                return self\n",
    "    \n",
    "    def remove(self, data):\n",
    "        previousNode = None\n",
    "        currentNode = self.head\n",
    "        \n",
    "        # wheather the linked list is empty\n",
    "        if currentNode==None:\n",
    "            return 'The Linked List is empty'\n",
    "        \n",
    "        while currentNode and currentNode.data!=data:\n",
    "            previousNode = currentNode\n",
    "            currentNode = currentNode.nextNode\n",
    "        \n",
    "        if previousNode==None:\n",
    "            self.head = currentNode.nextNode\n",
    "        else:\n",
    "            previousNode.nextNode = currentNode.nextNode\n",
    "            currentNode = None\n",
    "        return self\n",
    "        "
   ]
  },
  {
   "cell_type": "markdown",
   "metadata": {},
   "source": [
    "### Demo"
   ]
  },
  {
   "cell_type": "code",
   "execution_count": 29,
   "metadata": {},
   "outputs": [],
   "source": [
    "LinkedList = singleLinkedList()"
   ]
  },
  {
   "cell_type": "code",
   "execution_count": 30,
   "metadata": {},
   "outputs": [
    {
     "data": {
      "text/plain": [
       "[]"
      ]
     },
     "execution_count": 30,
     "metadata": {},
     "output_type": "execute_result"
    }
   ],
   "source": [
    "LinkedList"
   ]
  },
  {
   "cell_type": "markdown",
   "metadata": {},
   "source": [
    "#### append"
   ]
  },
  {
   "cell_type": "code",
   "execution_count": 31,
   "metadata": {},
   "outputs": [
    {
     "data": {
      "text/plain": [
       "[False, 40, 'QQ', 'Q2222']"
      ]
     },
     "execution_count": 31,
     "metadata": {},
     "output_type": "execute_result"
    }
   ],
   "source": [
    "LinkedList.append(False)\n",
    "LinkedList.append(40)\n",
    "LinkedList.append('QQ')\n",
    "LinkedList.append('Q2222')\n",
    "LinkedList"
   ]
  },
  {
   "cell_type": "markdown",
   "metadata": {},
   "source": [
    "#### prepend "
   ]
  },
  {
   "cell_type": "code",
   "execution_count": 32,
   "metadata": {},
   "outputs": [
    {
     "data": {
      "text/plain": [
       "['AppWorks', False, 40, 'QQ', 'Q2222']"
      ]
     },
     "execution_count": 32,
     "metadata": {},
     "output_type": "execute_result"
    }
   ],
   "source": [
    "LinkedList.prepend('AppWorks')\n",
    "LinkedList"
   ]
  },
  {
   "cell_type": "markdown",
   "metadata": {},
   "source": [
    "#### find\n",
    "*give value, return index*"
   ]
  },
  {
   "cell_type": "code",
   "execution_count": 33,
   "metadata": {},
   "outputs": [
    {
     "data": {
      "text/plain": [
       "2"
      ]
     },
     "execution_count": 33,
     "metadata": {},
     "output_type": "execute_result"
    }
   ],
   "source": [
    "LinkedList.find(40)"
   ]
  },
  {
   "cell_type": "markdown",
   "metadata": {},
   "source": [
    "#### get\n",
    "*give index, return value*"
   ]
  },
  {
   "cell_type": "code",
   "execution_count": 34,
   "metadata": {},
   "outputs": [
    {
     "data": {
      "text/plain": [
       "40"
      ]
     },
     "execution_count": 34,
     "metadata": {},
     "output_type": "execute_result"
    }
   ],
   "source": [
    "LinkedList.get(2)"
   ]
  },
  {
   "cell_type": "markdown",
   "metadata": {},
   "source": [
    "#### insert"
   ]
  },
  {
   "cell_type": "code",
   "execution_count": 25,
   "metadata": {},
   "outputs": [
    {
     "name": "stdout",
     "output_type": "stream",
     "text": [
      "before: ['AppWorks', False, 40, 'QQ', 'Q2222']\n",
      "after : ['AppWorks', False, 400, 40, 'QQ', 'Q2222']\n"
     ]
    }
   ],
   "source": [
    "print(f'before: {LinkedList}')\n",
    "print(f'after : {LinkedList.insert(data=400, index=2)}')"
   ]
  },
  {
   "cell_type": "markdown",
   "metadata": {},
   "source": [
    "#### remove"
   ]
  },
  {
   "cell_type": "code",
   "execution_count": 26,
   "metadata": {},
   "outputs": [
    {
     "data": {
      "text/plain": [
       "['AppWorks', False, 40, 'QQ', 'Q2222']"
      ]
     },
     "execution_count": 26,
     "metadata": {},
     "output_type": "execute_result"
    }
   ],
   "source": [
    "LinkedList.remove(400)"
   ]
  },
  {
   "cell_type": "markdown",
   "metadata": {},
   "source": [
    "## HomeWork"
   ]
  },
  {
   "cell_type": "markdown",
   "metadata": {},
   "source": [
    "### Try to make a Doubly Linked List\n",
    "\n",
    "![](https://media.geeksforgeeks.org/wp-content/cdn-uploads/gq/2014/03/DLL1.png)"
   ]
  },
  {
   "cell_type": "code",
   "execution_count": null,
   "metadata": {},
   "outputs": [],
   "source": []
  },
  {
   "cell_type": "code",
   "execution_count": null,
   "metadata": {},
   "outputs": [],
   "source": []
  },
  {
   "cell_type": "code",
   "execution_count": null,
   "metadata": {},
   "outputs": [],
   "source": []
  },
  {
   "cell_type": "code",
   "execution_count": null,
   "metadata": {},
   "outputs": [],
   "source": []
  },
  {
   "cell_type": "code",
   "execution_count": null,
   "metadata": {},
   "outputs": [],
   "source": []
  },
  {
   "cell_type": "code",
   "execution_count": null,
   "metadata": {},
   "outputs": [],
   "source": []
  },
  {
   "cell_type": "code",
   "execution_count": 12,
   "metadata": {},
   "outputs": [],
   "source": [
    "linkedList = singleLinkedList()\n",
    "linkedList.append(3)\n",
    "linkedList.append(50)\n",
    "linkedList.append(88)\n",
    "linkedList.append(100)"
   ]
  },
  {
   "cell_type": "code",
   "execution_count": 13,
   "metadata": {},
   "outputs": [
    {
     "data": {
      "text/plain": [
       "\"['0x5618f8a0fa40', '0x5618f8a10020', '0x5618f8a104e0', '0x5618f8a10660']\""
      ]
     },
     "execution_count": 13,
     "metadata": {},
     "output_type": "execute_result"
    }
   ],
   "source": [
    "linkedList.memoryaddr()"
   ]
  },
  {
   "cell_type": "code",
   "execution_count": 14,
   "metadata": {},
   "outputs": [
    {
     "data": {
      "text/plain": [
       "'[28, 28, 28, 28]'"
      ]
     },
     "execution_count": 14,
     "metadata": {},
     "output_type": "execute_result"
    }
   ],
   "source": [
    "linkedList.listsize()"
   ]
  },
  {
   "cell_type": "markdown",
   "metadata": {},
   "source": [
    "### Array"
   ]
  },
  {
   "cell_type": "code",
   "execution_count": 15,
   "metadata": {},
   "outputs": [
    {
     "data": {
      "text/plain": [
       "['0x5618f8a0fa40', '0x5618f8a10020', '0x5618f8a104e0', '0x5618f8a10660']"
      ]
     },
     "execution_count": 15,
     "metadata": {},
     "output_type": "execute_result"
    }
   ],
   "source": [
    "[hex(id(i)) for i in arr.array('i', [3, 50, 88, 100])]"
   ]
  },
  {
   "cell_type": "code",
   "execution_count": 16,
   "metadata": {},
   "outputs": [
    {
     "data": {
      "text/plain": [
       "[28, 28, 28, 28]"
      ]
     },
     "execution_count": 16,
     "metadata": {},
     "output_type": "execute_result"
    }
   ],
   "source": [
    "[sys.getsizeof(i) for i in arr.array('i', [3, 50, 88, 100])]"
   ]
  },
  {
   "cell_type": "code",
   "execution_count": null,
   "metadata": {},
   "outputs": [],
   "source": []
  }
 ],
 "metadata": {
  "kernelspec": {
   "display_name": "Python 3",
   "language": "python",
   "name": "python3"
  },
  "language_info": {
   "codemirror_mode": {
    "name": "ipython",
    "version": 3
   },
   "file_extension": ".py",
   "mimetype": "text/x-python",
   "name": "python",
   "nbconvert_exporter": "python",
   "pygments_lexer": "ipython3",
   "version": "3.7.8"
  }
 },
 "nbformat": 4,
 "nbformat_minor": 4
}
