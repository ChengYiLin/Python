{
 "cells": [
  {
   "cell_type": "markdown",
   "metadata": {},
   "source": [
    "# Knight's Tour Problem by “Dynamic” WARNSDORFF Algorithm"
   ]
  },
  {
   "cell_type": "markdown",
   "metadata": {},
   "source": [
    "<p>Knight’s Tour (騎⼠旅程問題) 是指在按照西洋棋中騎士的規定走法走遍整個棋盤的每一個方格，而且每個網格只能夠經過一次。</p>\n",
    "<p>如果使用 Depth-first Search algorithm (深度優先搜尋演算法)， 當路徑搜尋遇到 dead-end 的問題時，會採⽤ backtracking (回溯) ⽅式解決該問題。</p>\n",
    "<p>但這種的計算效能不高，因此 Warnsdorff 提出一套演算法來提升 Knight’s Tour 搜尋的效能。<br>\n",
    "雖然如此，問題是：“Static” Warnsdorff rules 仍然無法避免搜尋時可能遇到 dead-end，必須 “回溯” (backtracking) 搜尋。</p>\n",
    "<p>因此，本篇內容使用 “Dynamic” Warnsdorff 演算法，藉由動態更新各棋盤格點的 degree值，<br>\n",
    "來協助避開搜尋時遇到 dead-end 的問題，在無需回溯的情況下，快速求解騎⼠旅程問題。</p>\n",
    "\n",
    "<p>在解決 Knight's Tour 問題之前，我們必須先來了解一下<span style=\"font-weight: bolder; margin: 0 10px;\">Warnsdorff’s Rule:</span></p>\n",
    "<ol>\n",
    "    <li>我們可以開始於棋盤中的任一格</li>\n",
    "    <li>我們一律移往附近且未曾前往過的格子 ( 因為每個棋格只能走一次 )</li>\n",
    "</ol>\n",
    "\n",
    "<p>再經由以下 <span style=\"font-weight: bolder; margin: 0 10px;\">Algorithm</span> 找出騎士的路徑</p>"
   ]
  },
  {
   "cell_type": "markdown",
   "metadata": {},
   "source": [
    "## Step 1: Creating a degree map "
   ]
  },
  {
   "cell_type": "markdown",
   "metadata": {},
   "source": [
    "<p>騎士的移動方式有 8 種，但受限於棋盤的邊界，每一格的移動方式就未必有 8 種那麼多。</p>\n",
    "<p>Degree map 是將每一格可能的移動方式數目標註在每一格，例如位於四角的棋格只有 2 種移動方式，標註為 2。</p>"
   ]
  },
  {
   "cell_type": "code",
   "execution_count": 1,
   "metadata": {},
   "outputs": [],
   "source": [
    "def create_degree_map(num):\n",
    "    import numpy as np\n",
    "    degree_map = np.ones((num,num))+7\n",
    "\n",
    "    # 最上列 和 最下列 都先減 4(被邊界限制住: 上4 下 4)\n",
    "    degree_map[[0,num-1]]-=4\n",
    "\n",
    "    # 第一行 和 最後一行 都先減 4(被邊界限制住: 左4、右4)\n",
    "    for i in range(1,num-1): degree_map[i][[0,num-1]]-=4\n",
    "    degree_map[0][[0,num-1]]-=2; degree_map[num-1][[0,num-1]]-=2 #四角減2 因和上下重疊\n",
    "\n",
    "    # 第二行及倒數第二行減 2 ( 左左上、左左下  及 右右上、右右下)\n",
    "    for i in range(1,num-1): degree_map[i][[1,num-2]]-=2\n",
    "    # 第二行及倒數第二行 的 第一列和最後一列減 1 (因之前處理過其中一個方向了)\n",
    "    for i in [0,num-1]: degree_map[i][[1,num-2]]-=1\n",
    "\n",
    "    # 第二列及倒數第二列減 2 ( 左左上、右右上  及 左左下 、右右下)\n",
    "    for i in [1,num-2]: degree_map[i][list(range(1,num-1))]-=2\n",
    "    # 第二列及倒數第二列 的 第一行及倒數第一行減 1 (因之前處理過其中一個方向了)\n",
    "    for i in [1,num-2]: degree_map[i][[0,num-1]]-=1\n",
    "    \n",
    "    return degree_map"
   ]
  },
  {
   "cell_type": "code",
   "execution_count": 2,
   "metadata": {},
   "outputs": [
    {
     "name": "stdout",
     "output_type": "stream",
     "text": [
      "[[2. 3. 4. 4. 4. 4. 3. 2.]\n",
      " [3. 4. 6. 6. 6. 6. 4. 3.]\n",
      " [4. 6. 8. 8. 8. 8. 6. 4.]\n",
      " [4. 6. 8. 8. 8. 8. 6. 4.]\n",
      " [4. 6. 8. 8. 8. 8. 6. 4.]\n",
      " [4. 6. 8. 8. 8. 8. 6. 4.]\n",
      " [3. 4. 6. 6. 6. 6. 4. 3.]\n",
      " [2. 3. 4. 4. 4. 4. 3. 2.]]\n"
     ]
    }
   ],
   "source": [
    "num = 8\n",
    "degree_map = create_degree_map(num).copy()\n",
    "print(degree_map)"
   ]
  },
  {
   "cell_type": "markdown",
   "metadata": {},
   "source": [
    "## STEP 2 : Creating the 8 possible moves."
   ]
  },
  {
   "cell_type": "markdown",
   "metadata": {},
   "source": [
    "<p>正如上一步所說，騎士的移動方式有 8 種，這邊我們要將這 8 種走法存成陣列方便我們做運算</p>"
   ]
  },
  {
   "cell_type": "code",
   "execution_count": 3,
   "metadata": {},
   "outputs": [],
   "source": [
    "move = [(1,2),(2,1),(2,-1),(1,-2),(-1,-2),(-2,-1),(-2,1),(-1,2)]"
   ]
  },
  {
   "cell_type": "markdown",
   "metadata": {},
   "source": [
    "# STEP 3 : Initiating the start position of Knight."
   ]
  },
  {
   "cell_type": "markdown",
   "metadata": {},
   "source": [
    "我們可以為騎士選擇任一棋格為起始點"
   ]
  },
  {
   "cell_type": "code",
   "execution_count": 4,
   "metadata": {},
   "outputs": [],
   "source": [
    "import random\n",
    "import numpy as np\n",
    "\n",
    "start_site_col = random.randint(0,num-1)\n",
    "start_site_row = random.randint(0,num-1)"
   ]
  },
  {
   "cell_type": "code",
   "execution_count": 5,
   "metadata": {},
   "outputs": [
    {
     "name": "stdout",
     "output_type": "stream",
     "text": [
      "Start site : (7,2)\n"
     ]
    }
   ],
   "source": [
    "print(f'Start site : ({start_site_col},{start_site_row})')"
   ]
  },
  {
   "cell_type": "markdown",
   "metadata": {},
   "source": [
    "# STEP 4 : Looping for finding the Hamiltonian Path for Knight’s Tour."
   ]
  },
  {
   "cell_type": "markdown",
   "metadata": {},
   "source": [
    "<p>在這邊有幾項規則需要特別注意</p>\n",
    "<ol>\n",
    "    <li>確認每一格的移動是否會超出邊界</li>\n",
    "    <li>找出騎士的下一個移動點</li>\n",
    "    <li>在每一的移動必須更新我們的 degree map </li>\n",
    "</ol>"
   ]
  },
  {
   "cell_type": "markdown",
   "metadata": {},
   "source": [
    "### function"
   ]
  },
  {
   "cell_type": "code",
   "execution_count": 6,
   "metadata": {},
   "outputs": [],
   "source": [
    "# 找出所有可走的移動方式\n",
    "def available_move_way(start_site_col, start_site_row,degree_map):\n",
    "    move = [(1,2),(2,1),(2,-1),(1,-2),(-1,-2),(-2,-1),(-2,1),(-1,2)]\n",
    "    available=[]\n",
    "    for i,j in move:\n",
    "        if (start_site_col+i)<0 or (start_site_col+i)>=num or (start_site_row+j)<0 or (start_site_row+j)>=num:\n",
    "            continue\n",
    "        else:\n",
    "            # 若可走的點的 degree 為 0，則將不列入可走範圍中\n",
    "            if degree_map[start_site_col+i][start_site_row+j]==0:\n",
    "                continue\n",
    "            else:\n",
    "                available.append((i,j))\n",
    "    return available"
   ]
  },
  {
   "cell_type": "code",
   "execution_count": 7,
   "metadata": {},
   "outputs": [
    {
     "data": {
      "text/plain": [
       "[(-1, -2), (-2, -1), (-2, 1), (-1, 2)]"
      ]
     },
     "execution_count": 7,
     "metadata": {},
     "output_type": "execute_result"
    }
   ],
   "source": [
    "available_move_way(start_site_col,start_site_row,degree_map)"
   ]
  },
  {
   "cell_type": "code",
   "execution_count": 8,
   "metadata": {},
   "outputs": [],
   "source": [
    "def print_out_function(array):\n",
    "    for i in range(len(array)):\n",
    "        for j in range(len(array[i])):\n",
    "            print(array[i][j],end='\\t')\n",
    "        print()"
   ]
  },
  {
   "cell_type": "markdown",
   "metadata": {},
   "source": [
    " "
   ]
  },
  {
   "cell_type": "markdown",
   "metadata": {},
   "source": [
    "### Code"
   ]
  },
  {
   "cell_type": "code",
   "execution_count": 9,
   "metadata": {},
   "outputs": [
    {
     "name": "stdout",
     "output_type": "stream",
     "text": [
      "44.0\t5.0\t64.0\t55.0\t42.0\t7.0\t38.0\t61.0\t\n",
      "53.0\t26.0\t43.0\t6.0\t59.0\t62.0\t41.0\t8.0\t\n",
      "4.0\t45.0\t54.0\t63.0\t56.0\t39.0\t60.0\t37.0\t\n",
      "25.0\t52.0\t27.0\t58.0\t35.0\t50.0\t9.0\t40.0\t\n",
      "18.0\t3.0\t46.0\t51.0\t28.0\t57.0\t36.0\t49.0\t\n",
      "21.0\t24.0\t19.0\t34.0\t47.0\t32.0\t13.0\t10.0\t\n",
      "2.0\t17.0\t22.0\t29.0\t12.0\t15.0\t48.0\t31.0\t\n",
      "23.0\t20.0\t1.0\t16.0\t33.0\t30.0\t11.0\t14.0\t\n"
     ]
    }
   ],
   "source": [
    "Hamiltonian_Path = np.ones((num,num))\n",
    "\n",
    "for i in range(num*num):\n",
    "    # 先將每一步的次序紀錄在我們的路徑陣列中\n",
    "    Hamiltonian_Path[start_site_col][start_site_row]+=i\n",
    "    \n",
    "    # 在 degree map 中，將每一次的起始點的 degree 設定為 0\n",
    "    degree_map[start_site_col][start_site_row] = 0\n",
    "    \n",
    "    # 該起始點周圍的點也要同時做動態的更改，同時也要記錄它的位置是哪些點\n",
    "    possible_move_way=[]\n",
    "    for j,k in available_move_way(start_site_col,start_site_row,degree_map): \n",
    "        degree_map[start_site_col+j][start_site_row+k]-=1\n",
    "        possible_move_way.append((start_site_col+j, start_site_row+k))\n",
    "        \n",
    "    # 選擇 degree 最小的棋格為移動方向； 若 degree 相同，選擇排序最接近的\n",
    "    possible_move_degree = [degree_map[i][j] for i,j in possible_move_way]\n",
    "    possible_move = {i:j for i,j in zip(possible_move_way,possible_move_degree)}\n",
    "    possible_move_min = [i for i in possible_move if possible_move[i]==min(possible_move.values())]\n",
    "    \n",
    "    if len(possible_move_min)==0:\n",
    "        break\n",
    "    else:\n",
    "        start_site_col,start_site_row = possible_move_min[0]\n",
    "        \n",
    "print_out_function(Hamiltonian_Path)"
   ]
  },
  {
   "cell_type": "markdown",
   "metadata": {},
   "source": [
    "<h2 style=\"color:red\">以上Code 的合併</h2>"
   ]
  },
  {
   "cell_type": "code",
   "execution_count": 10,
   "metadata": {},
   "outputs": [
    {
     "name": "stdout",
     "output_type": "stream",
     "text": [
      "Please input the size of chessboard : 8\n",
      "Random Start site : \t(7,6)\n",
      "\n",
      "Degree map : \n",
      "\n",
      "2\t3\t4\t4\t4\t4\t3\t2\t\n",
      "3\t4\t6\t6\t6\t6\t4\t3\t\n",
      "4\t6\t8\t8\t8\t8\t6\t4\t\n",
      "4\t6\t8\t8\t8\t8\t6\t4\t\n",
      "4\t6\t8\t8\t8\t8\t6\t4\t\n",
      "4\t6\t8\t8\t8\t8\t6\t4\t\n",
      "3\t4\t6\t6\t6\t6\t4\t3\t\n",
      "2\t3\t4\t4\t4\t4\t3\t2\t\n",
      "\n",
      "Hamiltonian_Path : \n",
      "\n",
      "64\t31\t12\t35\t60\t49\t10\t37\t\n",
      "13\t34\t61\t50\t11\t36\t55\t48\t\n",
      "30\t63\t32\t59\t54\t51\t38\t9\t\n",
      "33\t14\t45\t62\t39\t56\t47\t52\t\n",
      "44\t29\t58\t25\t46\t53\t8\t23\t\n",
      "15\t18\t43\t40\t57\t24\t5\t2\t\n",
      "28\t41\t20\t17\t26\t3\t22\t7\t\n",
      "19\t16\t27\t42\t21\t6\t1\t4\t\n"
     ]
    }
   ],
   "source": [
    "import random\n",
    "import numpy as np\n",
    "import sys\n",
    "\n",
    "#============================\n",
    "#          Funciton\n",
    "#============================\n",
    "def create_degree_map(num):\n",
    "    import numpy as np\n",
    "    degree_map = np.ones((num,num))+7\n",
    "\n",
    "    # 最上列 和 最下列 都先減 4(被邊界限制住: 上4 下 4)\n",
    "    degree_map[[0,num-1]]-=4\n",
    "\n",
    "    # 第一行 和 最後一行 都先減 4(被邊界限制住: 左4、右4)\n",
    "    for i in range(1,num-1): degree_map[i][[0,num-1]]-=4\n",
    "    degree_map[0][[0,num-1]]-=2; degree_map[num-1][[0,num-1]]-=2 #四角減2 因和上下重疊\n",
    "\n",
    "    # 第二行及倒數第二行減 2 ( 左左上、左左下  及 右右上、右右下)\n",
    "    for i in range(1,num-1): degree_map[i][[1,num-2]]-=2\n",
    "    # 第二行及倒數第二行 的 第一列和最後一列減 1 (因之前處理過其中一個方向了)\n",
    "    for i in [0,num-1]: degree_map[i][[1,num-2]]-=1\n",
    "\n",
    "    # 第二列及倒數第二列減 2 ( 左左上、右右上  及 左左下 、右右下)\n",
    "    for i in [1,num-2]: degree_map[i][list(range(1,num-1))]-=2\n",
    "    # 第二列及倒數第二列 的 第一行及倒數第一行減 1 (因之前處理過其中一個方向了)\n",
    "    for i in [1,num-2]: degree_map[i][[0,num-1]]-=1\n",
    "    \n",
    "    return degree_map\n",
    "\n",
    "# 找出所有可走的移動方式\n",
    "def available_move_way(start_site_col, start_site_row,degree_map):\n",
    "    move = [(1,2),(2,1),(2,-1),(1,-2),(-1,-2),(-2,-1),(-2,1),(-1,2)]\n",
    "    available=[]\n",
    "    for i,j in move:\n",
    "        if (start_site_col+i)<0 or (start_site_col+i)>=num or (start_site_row+j)<0 or (start_site_row+j)>=num:\n",
    "            continue\n",
    "        else:\n",
    "            # 若可走的點的 degree 為 0，則將不列入可走範圍中\n",
    "            if degree_map[start_site_col+i][start_site_row+j]==0:\n",
    "                continue\n",
    "            else:\n",
    "                available.append((i,j))\n",
    "    return available\n",
    "\n",
    "def print_out_function(array):\n",
    "    for i in range(len(array)):\n",
    "        for j in range(len(array[i])):\n",
    "            print(int(array[i][j]),end='\\t')\n",
    "        print()\n",
    "#============================\n",
    "#       Function End\n",
    "#============================\n",
    "\n",
    "num = int(input('Please input the size of chessboard : '))\n",
    "if num<8 or num>30: \n",
    "    print('Your input is Out Of Range !!!')\n",
    "    sys.exit()\n",
    "    \n",
    "\n",
    "start_site_col = random.randint(0,num-1)\n",
    "start_site_row = random.randint(0,num-1)\n",
    "print(f'Random Start site : \\t({start_site_col},{start_site_row})')\n",
    "\n",
    "degree_map = create_degree_map(num).copy()\n",
    "print('\\nDegree map : \\n')\n",
    "print_out_function(degree_map)\n",
    "\n",
    "Hamiltonian_Path = np.ones((num,num))\n",
    "\n",
    "for i in range(num*num):\n",
    "    # 先將每一步的次序紀錄在我們的路徑陣列中\n",
    "    Hamiltonian_Path[start_site_col][start_site_row]+=i\n",
    "    \n",
    "    # 在 degree map 中，將每一次的起始點的 degree 設定為 0\n",
    "    degree_map[start_site_col][start_site_row] = 0\n",
    "    \n",
    "    # 該起始點周圍的點也要同時做動態的更改，同時也要記錄它的位置是哪些點\n",
    "    possible_move_way=[]\n",
    "    for j,k in available_move_way(start_site_col,start_site_row,degree_map): \n",
    "        degree_map[start_site_col+j][start_site_row+k]-=1\n",
    "        possible_move_way.append((start_site_col+j, start_site_row+k))\n",
    "        \n",
    "    # 選擇 degree 最小的棋格為移動方向； 若 degree 相同，選擇排序最接近的\n",
    "    possible_move_degree = [degree_map[i][j] for i,j in possible_move_way]\n",
    "    possible_move = {i:j for i,j in zip(possible_move_way,possible_move_degree)}\n",
    "    possible_move_min = [i for i in possible_move if possible_move[i]==min(possible_move.values())]\n",
    "    \n",
    "    if len(possible_move_min)==0: break\n",
    "    else: start_site_col,start_site_row = possible_move_min[0]\n",
    "\n",
    "print('\\nHamiltonian_Path : \\n')\n",
    "print_out_function(Hamiltonian_Path)"
   ]
  },
  {
   "cell_type": "code",
   "execution_count": null,
   "metadata": {},
   "outputs": [],
   "source": []
  }
 ],
 "metadata": {
  "kernelspec": {
   "display_name": "Python 3",
   "language": "python",
   "name": "python3"
  },
  "language_info": {
   "codemirror_mode": {
    "name": "ipython",
    "version": 3
   },
   "file_extension": ".py",
   "mimetype": "text/x-python",
   "name": "python",
   "nbconvert_exporter": "python",
   "pygments_lexer": "ipython3",
   "version": "3.7.1"
  }
 },
 "nbformat": 4,
 "nbformat_minor": 2
}
