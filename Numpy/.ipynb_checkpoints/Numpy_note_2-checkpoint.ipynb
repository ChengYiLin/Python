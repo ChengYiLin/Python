{
 "cells": [
  {
   "cell_type": "markdown",
   "metadata": {},
   "source": [
    "# Numpy學習筆記"
   ]
  },
  {
   "cell_type": "code",
   "execution_count": 1,
   "metadata": {},
   "outputs": [
    {
     "data": {
      "text/plain": [
       "'1.15.3'"
      ]
     },
     "execution_count": 1,
     "metadata": {},
     "output_type": "execute_result"
    }
   ],
   "source": [
    "import numpy as np\n",
    "np.__version__"
   ]
  },
  {
   "cell_type": "markdown",
   "metadata": {},
   "source": [
    "## Numpy 陣列中的計算"
   ]
  },
  {
   "cell_type": "markdown",
   "metadata": {},
   "source": [
    "在 Numpy 的計算可以非常快速，也可能會非常慢。"
   ]
  },
  {
   "cell_type": "markdown",
   "metadata": {},
   "source": [
    "要讓計算速度快速的關鍵在於**向量化**，主要是使用 Numpy 的 ufuncs 進行，在重複性計算可以加快效率。"
   ]
  },
  {
   "cell_type": "markdown",
   "metadata": {},
   "source": [
    "### 迴圈緩慢因素"
   ]
  },
  {
   "cell_type": "markdown",
   "metadata": {},
   "source": [
    "python 是動態性直譯器的本質，所以有相當的彈性，但是也造成運算順序無法像 C 或 Java 一樣可以被編譯成機器碼再加以執行。"
   ]
  },
  {
   "cell_type": "markdown",
   "metadata": {},
   "source": [
    "所以有很多專案來彌補這項缺失，像是 Cython, PyPy 以及 Numba，但使用人數還是無法超越 CPython。"
   ]
  },
  {
   "cell_type": "code",
   "execution_count": 14,
   "metadata": {},
   "outputs": [
    {
     "data": {
      "text/plain": [
       "array([0.16666667, 1.        , 0.25      , ..., 0.125     , 0.5       ,\n",
       "       0.5       ])"
      ]
     },
     "execution_count": 14,
     "metadata": {},
     "output_type": "execute_result"
    }
   ],
   "source": [
    "np.random.seed(0)\n",
    "\n",
    "def loop_test(values):\n",
    "    output = np.empty(len(values))\n",
    "    for i in range(len(values)):\n",
    "        output[i] = 1/values[i]\n",
    "    return output\n",
    "\n",
    "values = np.random.randint(1,10,10000000)\n",
    "loop_test(values)"
   ]
  },
  {
   "cell_type": "code",
   "execution_count": 15,
   "metadata": {},
   "outputs": [
    {
     "name": "stdout",
     "output_type": "stream",
     "text": [
      "3.67 s ± 184 ms per loop (mean ± std. dev. of 7 runs, 1 loop each)\n"
     ]
    }
   ],
   "source": [
    "# 看一下 loop 所花費的運算時間\n",
    "%timeit loop_test(values)"
   ]
  },
  {
   "cell_type": "markdown",
   "metadata": {},
   "source": [
    "跑迴圈用 for 來寫是相當直觀的寫法，但這種寫法有一個缺點，就是每一次跑 loop 都要進行函式的派送，"
   ]
  },
  {
   "cell_type": "markdown",
   "metadata": {},
   "source": [
    "所以每次都會浪費一些時間在做函式的動態查找，最後造成整體的運算速度下降~"
   ]
  },
  {
   "cell_type": "markdown",
   "metadata": {},
   "source": [
    "因此如果我們使用**編譯過**的函式，那麼計算速度就會快很多了~"
   ]
  },
  {
   "cell_type": "markdown",
   "metadata": {},
   "source": [
    "### 使用 UFuncs"
   ]
  },
  {
   "cell_type": "markdown",
   "metadata": {},
   "source": [
    "透過 UFunncs 在 Numpy 中進行向量化運算"
   ]
  },
  {
   "cell_type": "markdown",
   "metadata": {},
   "source": [
    "#### 一維運算"
   ]
  },
  {
   "cell_type": "code",
   "execution_count": 17,
   "metadata": {},
   "outputs": [
    {
     "data": {
      "text/plain": [
       "array([0.        , 0.5       , 0.66666667, 0.75      , 0.8       ])"
      ]
     },
     "execution_count": 17,
     "metadata": {},
     "output_type": "execute_result"
    }
   ],
   "source": [
    "np.arange(5)/np.arange(1,6)"
   ]
  },
  {
   "cell_type": "markdown",
   "metadata": {},
   "source": [
    "#### 二維運算"
   ]
  },
  {
   "cell_type": "code",
   "execution_count": 22,
   "metadata": {},
   "outputs": [
    {
     "data": {
      "text/plain": [
       "array([[ 0,  1,  4],\n",
       "       [ 9, 16, 25],\n",
       "       [36, 49, 64]], dtype=int32)"
      ]
     },
     "execution_count": 22,
     "metadata": {},
     "output_type": "execute_result"
    }
   ],
   "source": [
    "x = np.arange(9).reshape(3,3)\n",
    "x**2"
   ]
  },
  {
   "cell_type": "markdown",
   "metadata": {},
   "source": [
    "#### 基本運算"
   ]
  },
  {
   "cell_type": "code",
   "execution_count": 33,
   "metadata": {},
   "outputs": [
    {
     "name": "stdout",
     "output_type": "stream",
     "text": [
      "x  :\t [0 1 2 3 4]\n",
      "x+5:\t [5 6 7 8 9]\n",
      "x-5:\t [-5 -4 -3 -2 -1]\n",
      "x*5:\t [ 0  5 10 15 20]\n",
      "x/5:\t [0.  0.2 0.4 0.6 0.8]\n",
      "x**5:\t [ 0  1  4  9 16]\n",
      "x%5:\t [0 1 0 1 0]\n"
     ]
    }
   ],
   "source": [
    "x = np.arange(5)\n",
    "\n",
    "# +-*/\n",
    "print(\"x  :\\t\",x)\n",
    "print(\"x+5:\\t\",x+5)   # 加\n",
    "print(\"x-5:\\t\",x-5)   # 減\n",
    "print(\"x*5:\\t\",x*5)   # 乘\n",
    "print(\"x/5:\\t\",x/5)   # 除\n",
    "print(\"x**5:\\t\",x**2) # 次方\n",
    "print(\"x%5:\\t\",x%2)   # 取餘數"
   ]
  },
  {
   "cell_type": "code",
   "execution_count": 35,
   "metadata": {},
   "outputs": [
    {
     "name": "stdout",
     "output_type": "stream",
     "text": [
      "x  :\t [0 1 2 3 4]\n",
      "x+5:\t [5 6 7 8 9]\n",
      "x-5:\t [-5 -4 -3 -2 -1]\n",
      "x*5:\t [ 0  5 10 15 20]\n",
      "x/5:\t [0.  0.2 0.4 0.6 0.8]\n",
      "x**5:\t [ 0  1  4  9 16]\n",
      "x%5:\t [0 1 0 1 0]\n"
     ]
    }
   ],
   "source": [
    "x = np.arange(5)\n",
    "\n",
    "# +-*/ 函式版\n",
    "print(\"x  :\\t\",x)\n",
    "print(\"x+5:\\t\",np.add(x,5))   # 加\n",
    "print(\"x-5:\\t\",np.subtract(x,5))   # 減\n",
    "print(\"x*5:\\t\",np.multiply(x,5))   # 乘\n",
    "print(\"x/5:\\t\",np.divide(x,5))   # 除\n",
    "print(\"x**5:\\t\",np.power(x,2)) # 次方\n",
    "print(\"x%5:\\t\",np.mod(x,2))   # 取餘數"
   ]
  },
  {
   "cell_type": "markdown",
   "metadata": {},
   "source": [
    "#### 絕對值"
   ]
  },
  {
   "cell_type": "code",
   "execution_count": 31,
   "metadata": {},
   "outputs": [
    {
     "name": "stdout",
     "output_type": "stream",
     "text": [
      "x   :\t [-2 -1  0  1  2]\n",
      "abs :\t [2 1 0 1 2]\n"
     ]
    }
   ],
   "source": [
    "x = np.arange(-2,3)\n",
    "\n",
    "# 絕對值\n",
    "print(\"x   :\\t\",x)\n",
    "print(\"abs :\\t\",abs(x))"
   ]
  },
  {
   "cell_type": "markdown",
   "metadata": {},
   "source": [
    "#### 三角函數"
   ]
  },
  {
   "cell_type": "code",
   "execution_count": 46,
   "metadata": {},
   "outputs": [
    {
     "name": "stdout",
     "output_type": "stream",
     "text": [
      "theta  :\t [0.         1.57079633 3.14159265]\n",
      "sin(theta):\t [0.0000000e+00 1.0000000e+00 1.2246468e-16]\n",
      "cos(theta):\t [ 1.000000e+00  6.123234e-17 -1.000000e+00]\n",
      "tan(theta):\t [ 0.00000000e+00  1.63312394e+16 -1.22464680e-16]\n"
     ]
    }
   ],
   "source": [
    "# 先定義想要看的角度 30、60、90\n",
    "theta = np.linspace(0,np.pi,3)  \n",
    "\n",
    "# 看三角函數( sin, cos, tan )\n",
    "print(\"theta  :\\t\",theta)\n",
    "print(\"sin(theta):\\t\",np.sin(theta))\n",
    "print(\"cos(theta):\\t\",np.cos(theta))\n",
    "print(\"tan(theta):\\t\",np.tan(theta))"
   ]
  },
  {
   "cell_type": "code",
   "execution_count": 48,
   "metadata": {},
   "outputs": [
    {
     "name": "stdout",
     "output_type": "stream",
     "text": [
      "x        :\t [-1, 0, 1]\n",
      "arcsin(x):\t [-1.57079633  0.          1.57079633]\n",
      "arccos(x):\t [3.14159265 1.57079633 0.        ]\n",
      "arctan(x):\t [-0.78539816  0.          0.78539816]\n"
     ]
    }
   ],
   "source": [
    "x = [-1,0,1]\n",
    "\n",
    "# 看反三角函數( sin, cos, tan )\n",
    "print(\"x        :\\t\",x)\n",
    "print(\"arcsin(x):\\t\",np.arcsin(x))\n",
    "print(\"arccos(x):\\t\",np.arccos(x))\n",
    "print(\"arctan(x):\\t\",np.arctan(x))"
   ]
  },
  {
   "cell_type": "markdown",
   "metadata": {},
   "source": [
    "#### 指數"
   ]
  },
  {
   "cell_type": "code",
   "execution_count": 49,
   "metadata": {},
   "outputs": [
    {
     "name": "stdout",
     "output_type": "stream",
     "text": [
      "x    :\t [1, 2, 3]\n",
      "e^x  :\t [ 2.71828183  7.3890561  20.08553692]\n",
      "2^x  :\t [2. 4. 8.]\n",
      "3^x  :\t [ 3  9 27]\n"
     ]
    }
   ],
   "source": [
    "x = [1,2,3]\n",
    "print(\"x    :\\t\",x)\n",
    "print(\"e^x  :\\t\",np.exp(x))\n",
    "print(\"2^x  :\\t\",np.exp2(x))\n",
    "print(\"3^x  :\\t\",np.power(3,x))"
   ]
  },
  {
   "cell_type": "markdown",
   "metadata": {},
   "source": [
    "#### 對數"
   ]
  },
  {
   "cell_type": "code",
   "execution_count": 50,
   "metadata": {},
   "outputs": [
    {
     "name": "stdout",
     "output_type": "stream",
     "text": [
      "x       :\t [1, 2, 3, 4]\n",
      "ln(x)   :\t [0.         0.69314718 1.09861229 1.38629436]\n",
      "log2(x) :\t [0.        1.        1.5849625 2.       ]\n",
      "log10(x):\t [0.         0.30103    0.47712125 0.60205999]\n"
     ]
    }
   ],
   "source": [
    "x = [1,2,3,4]\n",
    "print(\"x       :\\t\",x)\n",
    "print(\"ln(x)   :\\t\",np.log(x))\n",
    "print(\"log2(x) :\\t\",np.log2(x))\n",
    "print(\"log10(x):\\t\",np.log10(x))"
   ]
  },
  {
   "cell_type": "markdown",
   "metadata": {},
   "source": [
    "### 進階的 UFuncs"
   ]
  },
  {
   "cell_type": "markdown",
   "metadata": {},
   "source": [
    "#### 設定輸出"
   ]
  },
  {
   "cell_type": "code",
   "execution_count": 51,
   "metadata": {},
   "outputs": [
    {
     "name": "stdout",
     "output_type": "stream",
     "text": [
      "[ 0. 10. 20. 30. 40.]\n"
     ]
    }
   ],
   "source": [
    "x = np.arange(5)\n",
    "ans = np.empty(5)\n",
    "\n",
    "np.multiply(x,10,out=ans)\n",
    "print(ans)"
   ]
  },
  {
   "cell_type": "code",
   "execution_count": 54,
   "metadata": {},
   "outputs": [
    {
     "name": "stdout",
     "output_type": "stream",
     "text": [
      "[2. 0. 2. 0. 2. 0. 2. 0. 2. 0.]\n"
     ]
    }
   ],
   "source": [
    "# 將輸出的運算結果插入在 ans 的偶數位\n",
    "x   = np.ones(5)\n",
    "ans = np.zeros(10)\n",
    "\n",
    "np.add(x,1,out=ans[::2]) \n",
    "print(ans)"
   ]
  },
  {
   "cell_type": "markdown",
   "metadata": {},
   "source": [
    "這種設定輸出的方式，運算的過程為 先建立一個暫時性的陣列運算完成，再進行第二次操作把結果安插在 ans 的設定位置上"
   ]
  },
  {
   "cell_type": "markdown",
   "metadata": {},
   "source": [
    "在小型資料的運算可能沒甚麼，但在大量資料運算時，就能夠節省記憶體的用量，省下一些空間"
   ]
  },
  {
   "cell_type": "markdown",
   "metadata": {},
   "source": [
    "#### 聚合"
   ]
  },
  {
   "cell_type": "code",
   "execution_count": 59,
   "metadata": {},
   "outputs": [
    {
     "name": "stdout",
     "output_type": "stream",
     "text": [
      "x        : [1 2 3 4 5]\n",
      "總和     : 15\n",
      "總乘積   : 120\n",
      "元素遞減 : -13\n"
     ]
    }
   ],
   "source": [
    "x = np.arange(1,6)\n",
    "print(\"x        :\",x)\n",
    "print(\"總和     :\",np.add.reduce(x))       # 1+2+3+4+5\n",
    "print(\"總乘積   :\",np.multiply.reduce(x))  # 1*2*3*4*5\n",
    "print(\"元素遞減 :\",np.subtract.reduce(x))  # 1-2-3-4-5"
   ]
  },
  {
   "cell_type": "code",
   "execution_count": 63,
   "metadata": {},
   "outputs": [
    {
     "name": "stdout",
     "output_type": "stream",
     "text": [
      "x        : [1 2 3 4 5]\n",
      "總和     : [ 1  3  6 10 15]\n",
      "總乘積   : [  1   2   6  24 120]\n",
      "元素遞減 : [  1  -1  -4  -8 -13]\n"
     ]
    }
   ],
   "source": [
    "# 想要儲存中間每一個運算過程\n",
    "print(\"x        :\",x)\n",
    "print(\"總和     :\",np.add.accumulate(x))       # 1+2+3+4+\n",
    "print(\"總乘積   :\",np.multiply.accumulate(x))  # 1*2*3*4*5\n",
    "print(\"元素遞減 :\",np.subtract.accumulate(x))  # 1-2-3-4-5"
   ]
  },
  {
   "cell_type": "markdown",
   "metadata": {},
   "source": [
    "#### 聚合進階"
   ]
  },
  {
   "cell_type": "code",
   "execution_count": 68,
   "metadata": {},
   "outputs": [
    {
     "name": "stdout",
     "output_type": "stream",
     "text": [
      "sum:     47.981182005647064\n",
      "np.sum:  47.98118200564708\n",
      "min:     0.0008473944078550844\n",
      "np.min:  0.0008473944078550844\n",
      "max:     0.9784662184384482\n",
      "np.max:  0.9784662184384482\n"
     ]
    }
   ],
   "source": [
    "L = np.random.random(100)\n",
    "print(\"sum:    \",sum(L))\n",
    "print(\"np.sum: \",np.sum(L))\n",
    "print(\"min:    \",min(L))\n",
    "print(\"np.min: \",np.min(L))\n",
    "print(\"max:    \",max(L))\n",
    "print(\"np.max: \",np.max(L))"
   ]
  },
  {
   "cell_type": "code",
   "execution_count": 67,
   "metadata": {},
   "outputs": [
    {
     "name": "stdout",
     "output_type": "stream",
     "text": [
      "86.3 ms ± 1.56 ms per loop (mean ± std. dev. of 7 runs, 10 loops each)\n",
      "1.26 ms ± 20.8 µs per loop (mean ± std. dev. of 7 runs, 1000 loops each)\n"
     ]
    }
   ],
   "source": [
    "# 看比較\n",
    "big_array = np.random.randn(np.power(10,6))\n",
    "%timeit sum(big_array)\n",
    "%timeit np.sum(big_array)"
   ]
  },
  {
   "cell_type": "markdown",
   "metadata": {},
   "source": [
    "#### 其他聚合函式"
   ]
  },
  {
   "cell_type": "code",
   "execution_count": 75,
   "metadata": {},
   "outputs": [
    {
     "data": {
      "text/plain": [
       "False"
      ]
     },
     "execution_count": 75,
     "metadata": {},
     "output_type": "execute_result"
    }
   ],
   "source": [
    "np.sum(L)           # 所有元素加總            \n",
    "np.prod(L)          # 所有元素乘積\n",
    "np.mean(L)          # 所有元素平均值\n",
    "np.std(L)           # 所有元素標準差\n",
    "np.var(L)           # 所有元素變異值\n",
    "np.min(L)           # 所有元素最小值\n",
    "np.max(L)           # 所有元素最大值\n",
    "np.argmin(L)        # 所有元素最小值索引\n",
    "np.argmax(L)        # 所有元素最大值索引\n",
    "np.median(L)        # 所有元素的中位數\n",
    "np.percentile(L,50) # 所有元素中的第 x 分位數  (第50百分位數)\n",
    "\n",
    "a = np.array([1,2,3])\n",
    "b = np.array([4,2,4])\n",
    "np.any(a==b)           # 所有元素有任一值是 True,回傳 True\n",
    "np.all(a==b)           # 所有元素全部的值是 True,回傳 True"
   ]
  },
  {
   "cell_type": "markdown",
   "metadata": {},
   "source": [
    "### 陣列上的計算: Broadcasting"
   ]
  },
  {
   "cell_type": "markdown",
   "metadata": {},
   "source": [
    "broadcasting 可以看做是使用 binary ufuncs (加減乘除等) 在不同大小的陣列上進行運算"
   ]
  },
  {
   "cell_type": "markdown",
   "metadata": {},
   "source": [
    "#### binary 運算"
   ]
  },
  {
   "cell_type": "code",
   "execution_count": 76,
   "metadata": {},
   "outputs": [
    {
     "data": {
      "text/plain": [
       "array([5, 7, 9])"
      ]
     },
     "execution_count": 76,
     "metadata": {},
     "output_type": "execute_result"
    }
   ],
   "source": [
    "a = np.array([1,2,3])\n",
    "b = np.array([4,5,6])\n",
    "a+b"
   ]
  },
  {
   "cell_type": "markdown",
   "metadata": {},
   "source": [
    "#### broadcasting 運算"
   ]
  },
  {
   "cell_type": "code",
   "execution_count": 77,
   "metadata": {},
   "outputs": [
    {
     "data": {
      "text/plain": [
       "array([6, 7, 8])"
      ]
     },
     "execution_count": 77,
     "metadata": {},
     "output_type": "execute_result"
    }
   ],
   "source": [
    "a+5"
   ]
  },
  {
   "cell_type": "markdown",
   "metadata": {},
   "source": [
    "可以想像乘將 5 拉長為 [5,5,5] 來做運算"
   ]
  },
  {
   "cell_type": "markdown",
   "metadata": {},
   "source": [
    "一維陣列也可以轉換成二維陣列去做運算"
   ]
  },
  {
   "cell_type": "code",
   "execution_count": 79,
   "metadata": {},
   "outputs": [
    {
     "data": {
      "text/plain": [
       "array([[1., 2., 3.],\n",
       "       [1., 2., 3.],\n",
       "       [1., 2., 3.]])"
      ]
     },
     "execution_count": 79,
     "metadata": {},
     "output_type": "execute_result"
    }
   ],
   "source": [
    "c = np.zeros((3,3))\n",
    "c+a"
   ]
  },
  {
   "cell_type": "markdown",
   "metadata": {},
   "source": [
    "#### broadcasting 示意圖"
   ]
  },
  {
   "cell_type": "code",
   "execution_count": 80,
   "metadata": {},
   "outputs": [
    {
     "data": {
      "text/html": [
       "<img src=\"https://jakevdp.github.io/PythonDataScienceHandbook/figures/02.05-broadcasting.png\" width=\"500\"/>"
      ],
      "text/plain": [
       "<IPython.core.display.Image object>"
      ]
     },
     "execution_count": 80,
     "metadata": {},
     "output_type": "execute_result"
    }
   ],
   "source": [
    "# jupyte notebook 秀出圖片的方法\n",
    "from IPython.display import Image\n",
    "path = \"https://jakevdp.github.io/PythonDataScienceHandbook/figures/02.05-broadcasting.png\"\n",
    "Image(url=path,width = 500)"
   ]
  }
 ],
 "metadata": {
  "kernelspec": {
   "display_name": "Python 3",
   "language": "python",
   "name": "python3"
  },
  "language_info": {
   "codemirror_mode": {
    "name": "ipython",
    "version": 3
   },
   "file_extension": ".py",
   "mimetype": "text/x-python",
   "name": "python",
   "nbconvert_exporter": "python",
   "pygments_lexer": "ipython3",
   "version": "3.7.1"
  }
 },
 "nbformat": 4,
 "nbformat_minor": 2
}
