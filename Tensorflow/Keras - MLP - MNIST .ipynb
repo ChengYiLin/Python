{
 "cells": [
  {
   "cell_type": "markdown",
   "metadata": {},
   "source": [
    "# Keras MLP 辨識手寫數字\n",
    "\n"
   ]
  },
  {
   "cell_type": "markdown",
   "metadata": {},
   "source": [
    "MLP 的建立步驟依序為: 資料預處理 >> 建立模型 >> 訓練模型 >> 評估模型準確率 >> 進行預測"
   ]
  },
  {
   "cell_type": "markdown",
   "metadata": {},
   "source": [
    "## <font color='blue'>資料預處理</font>"
   ]
  },
  {
   "cell_type": "markdown",
   "metadata": {},
   "source": [
    "### step1 載入套件"
   ]
  },
  {
   "cell_type": "code",
   "execution_count": 1,
   "metadata": {},
   "outputs": [
    {
     "name": "stderr",
     "output_type": "stream",
     "text": [
      "Using TensorFlow backend.\n"
     ]
    }
   ],
   "source": [
    "from keras.utils import np_utils\n",
    "import numpy as np\n",
    "np.random.seed(10)"
   ]
  },
  {
   "cell_type": "markdown",
   "metadata": {},
   "source": [
    "### step2 讀取 mnist 資料"
   ]
  },
  {
   "cell_type": "code",
   "execution_count": 2,
   "metadata": {},
   "outputs": [
    {
     "data": {
      "text/plain": [
       "(60000, 28, 28)"
      ]
     },
     "execution_count": 2,
     "metadata": {},
     "output_type": "execute_result"
    }
   ],
   "source": [
    "from keras.datasets import  mnist\n",
    "(x_train_image,y_train_label),(x_test_image,y_test_label) = mnist.load_data()\n",
    "x_train_image.shape"
   ]
  },
  {
   "cell_type": "markdown",
   "metadata": {},
   "source": [
    "### step3 將 features 使用 reshape 去做轉換"
   ]
  },
  {
   "cell_type": "code",
   "execution_count": 3,
   "metadata": {},
   "outputs": [],
   "source": [
    "x_train = x_train_image.reshape(60000,784).astype('float32')\n",
    "x_test  = x_test_image.reshape(10000,784).astype('float32')"
   ]
  },
  {
   "cell_type": "markdown",
   "metadata": {},
   "source": [
    "### step4 將 features 進行標準化"
   ]
  },
  {
   "cell_type": "code",
   "execution_count": 4,
   "metadata": {},
   "outputs": [],
   "source": [
    "x_train_normalize = x_train/255\n",
    "x_test_normalize = x_test/255"
   ]
  },
  {
   "cell_type": "markdown",
   "metadata": {},
   "source": [
    "### step5 將 label 的資料以 One-hot encoding 轉換"
   ]
  },
  {
   "cell_type": "code",
   "execution_count": 5,
   "metadata": {},
   "outputs": [],
   "source": [
    "y_train_Onehot = np_utils.to_categorical(y_train_label)\n",
    "y_test_Onehot  = np_utils.to_categorical(y_test_label)"
   ]
  },
  {
   "cell_type": "markdown",
   "metadata": {},
   "source": [
    "  "
   ]
  },
  {
   "cell_type": "markdown",
   "metadata": {},
   "source": [
    "## <font color='blue'>建立模型</font>"
   ]
  },
  {
   "cell_type": "markdown",
   "metadata": {},
   "source": [
    "### step 1 匯入所需模組"
   ]
  },
  {
   "cell_type": "code",
   "execution_count": 6,
   "metadata": {},
   "outputs": [],
   "source": [
    "from keras.models import Sequential\n",
    "from keras.layers import  Dense"
   ]
  },
  {
   "cell_type": "markdown",
   "metadata": {},
   "source": [
    "### step2 建立 Sequential 模組"
   ]
  },
  {
   "cell_type": "code",
   "execution_count": 7,
   "metadata": {},
   "outputs": [],
   "source": [
    "# 建立一個線性堆疊模組，後許只需要 model.add() 慢慢一層一層加上去\n",
    "model = Sequential()"
   ]
  },
  {
   "cell_type": "markdown",
   "metadata": {},
   "source": [
    "### step3 建立輸入層和隱藏層"
   ]
  },
  {
   "cell_type": "markdown",
   "metadata": {},
   "source": [
    "使用 model.add 方式加入 Dense 神經網路層，它的特色是上層和下層的神經元都能完全連結"
   ]
  },
  {
   "cell_type": "code",
   "execution_count": 8,
   "metadata": {},
   "outputs": [],
   "source": [
    "# Dense 層需要輸入以下的參數\n",
    "model.add(Dense(units=256,                       #隱藏層的神經元有 256 個 \n",
    "                input_dim=784,                   #輸入層的神經元有 784 個 \n",
    "                kernel_initializer='normal',     #使用 normal distribution 的方式來分配亂數，初始化 weight(權重) 和 bias(偏差)\n",
    "                activation = 'relu'))            #使用激活函式 relu"
   ]
  },
  {
   "cell_type": "markdown",
   "metadata": {},
   "source": [
    "### step 4 建立輸出層"
   ]
  },
  {
   "cell_type": "code",
   "execution_count": 9,
   "metadata": {},
   "outputs": [],
   "source": [
    "model.add(Dense(units=10,\n",
    "                kernel_initializer='normal',\n",
    "                activation = 'softmax'))"
   ]
  },
  {
   "cell_type": "markdown",
   "metadata": {},
   "source": [
    "### step 5 查看模型摘要"
   ]
  },
  {
   "cell_type": "code",
   "execution_count": 10,
   "metadata": {},
   "outputs": [
    {
     "name": "stdout",
     "output_type": "stream",
     "text": [
      "_________________________________________________________________\n",
      "Layer (type)                 Output Shape              Param #   \n",
      "=================================================================\n",
      "dense_1 (Dense)              (None, 256)               200960    \n",
      "_________________________________________________________________\n",
      "dense_2 (Dense)              (None, 10)                2570      \n",
      "=================================================================\n",
      "Total params: 203,530\n",
      "Trainable params: 203,530\n",
      "Non-trainable params: 0\n",
      "_________________________________________________________________\n",
      "None\n"
     ]
    }
   ],
   "source": [
    "print(model.summary())"
   ]
  },
  {
   "cell_type": "markdown",
   "metadata": {},
   "source": [
    "我們可以看到共有兩層 layer ，分別是 隱藏層(256個神經元) 跟 輸出層(10個神經元)"
   ]
  },
  {
   "cell_type": "markdown",
   "metadata": {},
   "source": [
    "另外，因為隱藏層跟輸入層一起建立，所以沒有輸入層"
   ]
  },
  {
   "cell_type": "markdown",
   "metadata": {},
   "source": [
    "Param 的計算公式為: 上層神經元數 * 下層神經元數 + 下層神經元數\n"
   ]
  },
  {
   "cell_type": "markdown",
   "metadata": {},
   "source": [
    "Dense1 = 784*256+256\n",
    "\n",
    "Dense2 = 256*10 +10"
   ]
  },
  {
   "cell_type": "markdown",
   "metadata": {},
   "source": [
    "## <font color='blue'>進行訓練</font>"
   ]
  },
  {
   "cell_type": "markdown",
   "metadata": {},
   "source": [
    "建立玩模型之後，接著就是要不斷的反覆訓練，使用的方法為 **反向傳播算法(Back Propagation)**"
   ]
  },
  {
   "cell_type": "markdown",
   "metadata": {},
   "source": [
    "### step1 定義訓練方式"
   ]
  },
  {
   "cell_type": "markdown",
   "metadata": {},
   "source": [
    "使用 compile 方式訓練模型"
   ]
  },
  {
   "cell_type": "code",
   "execution_count": 11,
   "metadata": {},
   "outputs": [],
   "source": [
    "model.compile(loss='categorical_crossentropy',   # loss =, 設定損失函數，在 Deep learning 通常用 cross entropy 效果比較好\n",
    "              optimizer = 'adam',                # optimizer =, 設定訓練時的最優化方法，使用 adam 方法可使訓練更快收斂，提高準確率\n",
    "              metrics = ['accuracy'])            # metrics =, 設定評估模型的方式 為 準確率 accuracy"
   ]
  },
  {
   "cell_type": "markdown",
   "metadata": {},
   "source": [
    "### step2 開始訓練"
   ]
  },
  {
   "cell_type": "code",
   "execution_count": 12,
   "metadata": {},
   "outputs": [
    {
     "name": "stdout",
     "output_type": "stream",
     "text": [
      "Train on 48000 samples, validate on 12000 samples\n",
      "Epoch 1/10\n",
      " - 6s - loss: 0.4434 - acc: 0.8813 - val_loss: 0.2193 - val_acc: 0.9400\n",
      "Epoch 2/10\n",
      " - 4s - loss: 0.1916 - acc: 0.9452 - val_loss: 0.1558 - val_acc: 0.9556\n",
      "Epoch 3/10\n",
      " - 4s - loss: 0.1358 - acc: 0.9616 - val_loss: 0.1264 - val_acc: 0.9645\n",
      "Epoch 4/10\n",
      " - 4s - loss: 0.1030 - acc: 0.9704 - val_loss: 0.1127 - val_acc: 0.9675\n",
      "Epoch 5/10\n",
      " - 4s - loss: 0.0812 - acc: 0.9775 - val_loss: 0.0986 - val_acc: 0.9716\n",
      "Epoch 6/10\n",
      " - 4s - loss: 0.0661 - acc: 0.9815 - val_loss: 0.0940 - val_acc: 0.9719\n",
      "Epoch 7/10\n",
      " - 4s - loss: 0.0545 - acc: 0.9850 - val_loss: 0.0912 - val_acc: 0.9738\n",
      "Epoch 8/10\n",
      " - 3s - loss: 0.0457 - acc: 0.9879 - val_loss: 0.0830 - val_acc: 0.9762\n",
      "Epoch 9/10\n",
      " - 3s - loss: 0.0381 - acc: 0.9902 - val_loss: 0.0821 - val_acc: 0.9767\n",
      "Epoch 10/10\n",
      " - 4s - loss: 0.0316 - acc: 0.9921 - val_loss: 0.0803 - val_acc: 0.9769\n"
     ]
    }
   ],
   "source": [
    "train_history = model.fit(x = x_train_normalize,  # x 為 特徵值\n",
    "                          y = y_train_Onehot,     # y 為 label值\n",
    "                          validation_split=0.2,   # 設定訓練與驗證資料的比例，0.2代表拿其中的 20% 作為驗證用的，其餘 80% 為訓練用的\n",
    "                          epochs = 10,            # 執行的訓練週期， = 10 代表訓練 10 個循環\n",
    "                          batch_size = 200,       # 每一個循環所跑的資料\n",
    "                          verbose = 2)            # 設定顯示的訓練過程(等一下會 print 出來的方式)"
   ]
  },
  {
   "cell_type": "markdown",
   "metadata": {},
   "source": [
    "我們可以看到總共跑了 10 次 (epochs = 10)，而每一次 loss(誤差) 越來越小，而acc(準確度)越來越高"
   ]
  },
  {
   "cell_type": "markdown",
   "metadata": {},
   "source": [
    "### 讓我們看看訓練的過程"
   ]
  },
  {
   "cell_type": "code",
   "execution_count": 13,
   "metadata": {},
   "outputs": [],
   "source": [
    "import matplotlib.pyplot as plt \n",
    "\n",
    "# train_history 為訓練過程所產生的資料\n",
    "# train 為 80%訓練用的資料的執行結果， validation 為20%用來驗證的資料的執行結果\n",
    "def show_train_history(train_history, train, validation):       \n",
    "    plt.plot(train_history.history[train])\n",
    "    plt.plot(train_history.history[validation])\n",
    "    plt.title('Train history')\n",
    "    plt.ylabel(train)\n",
    "    plt.xlabel('Epoch')\n",
    "    plt.legend(['train', 'validation'], loc='upper left')\n",
    "    plt.show()"
   ]
  },
  {
   "cell_type": "markdown",
   "metadata": {},
   "source": [
    "#### 準確率"
   ]
  },
  {
   "cell_type": "code",
   "execution_count": 14,
   "metadata": {},
   "outputs": [
    {
     "data": {
      "image/png": "[encoded data removed]",
      "text/plain": [
       "<Figure size 432x288 with 1 Axes>"
      ]
     },
     "metadata": {
      "needs_background": "light"
     },
     "output_type": "display_data"
    }
   ],
   "source": [
    "show_train_history(train_history, 'acc', 'val_acc')"
   ]
  },
  {
   "cell_type": "markdown",
   "metadata": {},
   "source": [
    "我們可以看到後來 80% 訓練用的資料的準確度，比20%驗證用資料的準確度高"
   ]
  },
  {
   "cell_type": "markdown",
   "metadata": {},
   "source": [
    "這是因為訓練是拿 80% 的資料去訓練，拿訓練過的資料去看準確率當然比較高\n",
    "\n",
    "就好像老師出了100題題庫給學生練習，考試從這些題庫裡面出 一樣意思"
   ]
  },
  {
   "cell_type": "markdown",
   "metadata": {},
   "source": [
    "而驗證用的資料就好像老師考試就出那些從沒教過的考題，所以學生的成績當然沒那麼高，但這比較客觀"
   ]
  },
  {
   "cell_type": "markdown",
   "metadata": {},
   "source": [
    "<font color='red'>如果說訓練的資料準確率一直上升，而驗證資料的準確率卻不變，這個現象稱之為 overfitting 過度擬合，我們的資料就有輕微的這種現象</font>"
   ]
  },
  {
   "cell_type": "markdown",
   "metadata": {},
   "source": [
    "造成的結果就是學生考試考題庫的考題很高分，但遇到現實的問題就 GG ~"
   ]
  },
  {
   "cell_type": "markdown",
   "metadata": {},
   "source": [
    "#### 誤差值"
   ]
  },
  {
   "cell_type": "code",
   "execution_count": 15,
   "metadata": {},
   "outputs": [
    {
     "data": {
      "image/png": "[encoded data removed]",
      "text/plain": [
       "<Figure size 432x288 with 1 Axes>"
      ]
     },
     "metadata": {
      "needs_background": "light"
     },
     "output_type": "display_data"
    }
   ],
   "source": [
    "show_train_history(train_history,'loss','val_loss')"
   ]
  },
  {
   "cell_type": "markdown",
   "metadata": {},
   "source": [
    "## <font color='blue'>以 test data 來看準確率</font>"
   ]
  },
  {
   "cell_type": "code",
   "execution_count": 16,
   "metadata": {},
   "outputs": [
    {
     "name": "stdout",
     "output_type": "stream",
     "text": [
      "10000/10000 [==============================] - 1s 75us/step\n",
      "\n",
      "accuracy: [0.07430348430718295, 0.9764]\n"
     ]
    }
   ],
   "source": [
    "scores = model.evaluate(x_test_normalize,y_test_Onehot)\n",
    "print()\n",
    "print(f'accuracy: {scores}')"
   ]
  },
  {
   "cell_type": "markdown",
   "metadata": {},
   "source": [
    "## <font color='blue'>進行預測</font>"
   ]
  },
  {
   "cell_type": "markdown",
   "metadata": {},
   "source": [
    "前幾個步驟我們已經建立玩模型，並完全訓練完了，那我們可以來進行給 input 來預測"
   ]
  },
  {
   "cell_type": "code",
   "execution_count": 17,
   "metadata": {},
   "outputs": [],
   "source": [
    "prediction = model.predict_classes(x_test)"
   ]
  },
  {
   "cell_type": "code",
   "execution_count": 18,
   "metadata": {},
   "outputs": [
    {
     "data": {
      "text/plain": [
       "array([7, 2, 1, ..., 4, 5, 6], dtype=int64)"
      ]
     },
     "execution_count": 18,
     "metadata": {},
     "output_type": "execute_result"
    }
   ],
   "source": [
    "prediction"
   ]
  },
  {
   "cell_type": "markdown",
   "metadata": {},
   "source": [
    "我們用圖形來看結果，用前面所用的看 data 函式"
   ]
  },
  {
   "cell_type": "code",
   "execution_count": 19,
   "metadata": {},
   "outputs": [],
   "source": [
    "import matplotlib.pyplot as plt\n",
    "\n",
    "\n",
    "def shoe_multiple_image(images, labels, prediction, idx, num=10):\n",
    "    fig = plt.gcf()\n",
    "    fig.set_size_inches(12,14)\n",
    "    \n",
    "    # 大於25張只秀出 25 張\n",
    "    if num>25:\n",
    "        num =25\n",
    "    \n",
    "    for i in range(num):\n",
    "        ax = plt.subplot(5,5, 1+i)            # 建立 subgraph 子圖形為5行5列\n",
    "        ax.imshow(images[idx], cmap='binary') # 劃出 subgraph 子圖形\n",
    "        \n",
    "        title = \"label=\" + str(labels[idx])   # 設定 子圖形 title\n",
    "        if len(prediction)>0:                 # 若有預測值，再加入子圖形 title\n",
    "            title+=\",predict =\" + str(prediction[idx])\n",
    "        \n",
    "        ax.set_title(title, fontsize=10)      # 把 title 加上去\n",
    "        ax.set_xticks([])                     # 設定不顯示刻度\n",
    "        ax.set_yticks([])                     # 設定不顯示刻度\n",
    "        \n",
    "        idx+=1                                # 讀取下一筆\n",
    "        \n",
    "    plt.show()"
   ]
  },
  {
   "cell_type": "code",
   "execution_count": 20,
   "metadata": {},
   "outputs": [
    {
     "data": {
      "image/png": "[encoded data removed]",
      "text/plain": [
       "<Figure size 864x1008 with 10 Axes>"
      ]
     },
     "metadata": {},
     "output_type": "display_data"
    }
   ],
   "source": [
    "# 從第 340 筆資料看到第 349 張\n",
    "shoe_multiple_image(x_test_image, y_test_label, prediction, idx = 340, num=10)"
   ]
  },
  {
   "cell_type": "markdown",
   "metadata": {},
   "source": [
    "## <font color='blue'>顯示混淆矩陣</font>"
   ]
  },
  {
   "cell_type": "markdown",
   "metadata": {},
   "source": [
    "從上面的例子中我們可以看到有一個錯誤，真實是5，但結果是3，\n",
    "\n",
    "如果我們想要看那些數字預測比較高，而哪一些數字比較容易混淆，我們可以使用混淆矩陣來檢視我們的資料"
   ]
  },
  {
   "cell_type": "markdown",
   "metadata": {},
   "source": [
    "混淆矩陣(confusion matrix)也被稱之為誤差矩陣(error matrix)，可以讓我們以視覺化的方式來了解監督式學習的結果，看 model 使否混淆哪幾類"
   ]
  },
  {
   "cell_type": "markdown",
   "metadata": {},
   "source": [
    "### 使用 pandas crosstab 建立 confusion matrix"
   ]
  },
  {
   "cell_type": "code",
   "execution_count": 21,
   "metadata": {},
   "outputs": [
    {
     "data": {
      "text/html": [
       "<div>\n",
       "<style scoped>\n",
       "    .dataframe tbody tr th:only-of-type {\n",
       "        vertical-align: middle;\n",
       "    }\n",
       "\n",
       "    .dataframe tbody tr th {\n",
       "        vertical-align: top;\n",
       "    }\n",
       "\n",
       "    .dataframe thead th {\n",
       "        text-align: right;\n",
       "    }\n",
       "</style>\n",
       "<table border=\"1\" class=\"dataframe\">\n",
       "  <thead>\n",
       "    <tr style=\"text-align: right;\">\n",
       "      <th>prediction</th>\n",
       "      <th>0</th>\n",
       "      <th>1</th>\n",
       "      <th>2</th>\n",
       "      <th>3</th>\n",
       "      <th>4</th>\n",
       "      <th>5</th>\n",
       "      <th>6</th>\n",
       "      <th>7</th>\n",
       "      <th>8</th>\n",
       "      <th>9</th>\n",
       "    </tr>\n",
       "    <tr>\n",
       "      <th>label</th>\n",
       "      <th></th>\n",
       "      <th></th>\n",
       "      <th></th>\n",
       "      <th></th>\n",
       "      <th></th>\n",
       "      <th></th>\n",
       "      <th></th>\n",
       "      <th></th>\n",
       "      <th></th>\n",
       "      <th></th>\n",
       "    </tr>\n",
       "  </thead>\n",
       "  <tbody>\n",
       "    <tr>\n",
       "      <th>0</th>\n",
       "      <td>971</td>\n",
       "      <td>0</td>\n",
       "      <td>1</td>\n",
       "      <td>1</td>\n",
       "      <td>1</td>\n",
       "      <td>0</td>\n",
       "      <td>2</td>\n",
       "      <td>1</td>\n",
       "      <td>3</td>\n",
       "      <td>0</td>\n",
       "    </tr>\n",
       "    <tr>\n",
       "      <th>1</th>\n",
       "      <td>0</td>\n",
       "      <td>1124</td>\n",
       "      <td>4</td>\n",
       "      <td>0</td>\n",
       "      <td>0</td>\n",
       "      <td>1</td>\n",
       "      <td>2</td>\n",
       "      <td>0</td>\n",
       "      <td>4</td>\n",
       "      <td>0</td>\n",
       "    </tr>\n",
       "    <tr>\n",
       "      <th>2</th>\n",
       "      <td>5</td>\n",
       "      <td>0</td>\n",
       "      <td>1011</td>\n",
       "      <td>1</td>\n",
       "      <td>1</td>\n",
       "      <td>0</td>\n",
       "      <td>2</td>\n",
       "      <td>4</td>\n",
       "      <td>7</td>\n",
       "      <td>1</td>\n",
       "    </tr>\n",
       "    <tr>\n",
       "      <th>3</th>\n",
       "      <td>0</td>\n",
       "      <td>0</td>\n",
       "      <td>3</td>\n",
       "      <td>991</td>\n",
       "      <td>0</td>\n",
       "      <td>2</td>\n",
       "      <td>0</td>\n",
       "      <td>3</td>\n",
       "      <td>6</td>\n",
       "      <td>5</td>\n",
       "    </tr>\n",
       "    <tr>\n",
       "      <th>4</th>\n",
       "      <td>1</td>\n",
       "      <td>0</td>\n",
       "      <td>5</td>\n",
       "      <td>1</td>\n",
       "      <td>961</td>\n",
       "      <td>0</td>\n",
       "      <td>3</td>\n",
       "      <td>0</td>\n",
       "      <td>2</td>\n",
       "      <td>9</td>\n",
       "    </tr>\n",
       "    <tr>\n",
       "      <th>5</th>\n",
       "      <td>3</td>\n",
       "      <td>0</td>\n",
       "      <td>0</td>\n",
       "      <td>17</td>\n",
       "      <td>1</td>\n",
       "      <td>853</td>\n",
       "      <td>7</td>\n",
       "      <td>1</td>\n",
       "      <td>7</td>\n",
       "      <td>3</td>\n",
       "    </tr>\n",
       "    <tr>\n",
       "      <th>6</th>\n",
       "      <td>5</td>\n",
       "      <td>3</td>\n",
       "      <td>3</td>\n",
       "      <td>1</td>\n",
       "      <td>4</td>\n",
       "      <td>3</td>\n",
       "      <td>937</td>\n",
       "      <td>0</td>\n",
       "      <td>2</td>\n",
       "      <td>0</td>\n",
       "    </tr>\n",
       "    <tr>\n",
       "      <th>7</th>\n",
       "      <td>0</td>\n",
       "      <td>5</td>\n",
       "      <td>12</td>\n",
       "      <td>7</td>\n",
       "      <td>1</td>\n",
       "      <td>0</td>\n",
       "      <td>0</td>\n",
       "      <td>990</td>\n",
       "      <td>5</td>\n",
       "      <td>8</td>\n",
       "    </tr>\n",
       "    <tr>\n",
       "      <th>8</th>\n",
       "      <td>4</td>\n",
       "      <td>0</td>\n",
       "      <td>3</td>\n",
       "      <td>5</td>\n",
       "      <td>1</td>\n",
       "      <td>1</td>\n",
       "      <td>2</td>\n",
       "      <td>2</td>\n",
       "      <td>955</td>\n",
       "      <td>1</td>\n",
       "    </tr>\n",
       "    <tr>\n",
       "      <th>9</th>\n",
       "      <td>3</td>\n",
       "      <td>5</td>\n",
       "      <td>0</td>\n",
       "      <td>11</td>\n",
       "      <td>8</td>\n",
       "      <td>2</td>\n",
       "      <td>1</td>\n",
       "      <td>4</td>\n",
       "      <td>5</td>\n",
       "      <td>970</td>\n",
       "    </tr>\n",
       "  </tbody>\n",
       "</table>\n",
       "</div>"
      ],
      "text/plain": [
       "prediction    0     1     2    3    4    5    6    7    8    9\n",
       "label                                                         \n",
       "0           971     0     1    1    1    0    2    1    3    0\n",
       "1             0  1124     4    0    0    1    2    0    4    0\n",
       "2             5     0  1011    1    1    0    2    4    7    1\n",
       "3             0     0     3  991    0    2    0    3    6    5\n",
       "4             1     0     5    1  961    0    3    0    2    9\n",
       "5             3     0     0   17    1  853    7    1    7    3\n",
       "6             5     3     3    1    4    3  937    0    2    0\n",
       "7             0     5    12    7    1    0    0  990    5    8\n",
       "8             4     0     3    5    1    1    2    2  955    1\n",
       "9             3     5     0   11    8    2    1    4    5  970"
      ]
     },
     "execution_count": 21,
     "metadata": {},
     "output_type": "execute_result"
    }
   ],
   "source": [
    "import pandas as pd\n",
    "pd.crosstab(y_test_label,prediction,rownames=['label'],colnames=['prediction'])"
   ]
  },
  {
   "cell_type": "markdown",
   "metadata": {},
   "source": [
    "**<font color='red'>對角線的數字是預測正確的數量</font>**"
   ]
  },
  {
   "cell_type": "markdown",
   "metadata": {},
   "source": [
    "**<font color='red'>非對角線代表的是預測錯誤的標籤數量</font>**"
   ]
  },
  {
   "cell_type": "markdown",
   "metadata": {},
   "source": [
    "### 建立 label 和 prediction  的tabel"
   ]
  },
  {
   "cell_type": "code",
   "execution_count": 22,
   "metadata": {},
   "outputs": [
    {
     "data": {
      "text/html": [
       "<div>\n",
       "<style scoped>\n",
       "    .dataframe tbody tr th:only-of-type {\n",
       "        vertical-align: middle;\n",
       "    }\n",
       "\n",
       "    .dataframe tbody tr th {\n",
       "        vertical-align: top;\n",
       "    }\n",
       "\n",
       "    .dataframe thead th {\n",
       "        text-align: right;\n",
       "    }\n",
       "</style>\n",
       "<table border=\"1\" class=\"dataframe\">\n",
       "  <thead>\n",
       "    <tr style=\"text-align: right;\">\n",
       "      <th></th>\n",
       "      <th>label</th>\n",
       "      <th>prediction</th>\n",
       "    </tr>\n",
       "  </thead>\n",
       "  <tbody>\n",
       "    <tr>\n",
       "      <th>0</th>\n",
       "      <td>7</td>\n",
       "      <td>7</td>\n",
       "    </tr>\n",
       "    <tr>\n",
       "      <th>1</th>\n",
       "      <td>2</td>\n",
       "      <td>2</td>\n",
       "    </tr>\n",
       "    <tr>\n",
       "      <th>2</th>\n",
       "      <td>1</td>\n",
       "      <td>1</td>\n",
       "    </tr>\n",
       "    <tr>\n",
       "      <th>3</th>\n",
       "      <td>0</td>\n",
       "      <td>0</td>\n",
       "    </tr>\n",
       "    <tr>\n",
       "      <th>4</th>\n",
       "      <td>4</td>\n",
       "      <td>4</td>\n",
       "    </tr>\n",
       "  </tbody>\n",
       "</table>\n",
       "</div>"
      ],
      "text/plain": [
       "   label  prediction\n",
       "0      7           7\n",
       "1      2           2\n",
       "2      1           1\n",
       "3      0           0\n",
       "4      4           4"
      ]
     },
     "execution_count": 22,
     "metadata": {},
     "output_type": "execute_result"
    }
   ],
   "source": [
    "df = pd.DataFrame({'label':y_test_label, 'prediction':prediction})\n",
    "df.head()"
   ]
  },
  {
   "cell_type": "code",
   "execution_count": 23,
   "metadata": {},
   "outputs": [
    {
     "data": {
      "text/html": [
       "<div>\n",
       "<style scoped>\n",
       "    .dataframe tbody tr th:only-of-type {\n",
       "        vertical-align: middle;\n",
       "    }\n",
       "\n",
       "    .dataframe tbody tr th {\n",
       "        vertical-align: top;\n",
       "    }\n",
       "\n",
       "    .dataframe thead th {\n",
       "        text-align: right;\n",
       "    }\n",
       "</style>\n",
       "<table border=\"1\" class=\"dataframe\">\n",
       "  <thead>\n",
       "    <tr style=\"text-align: right;\">\n",
       "      <th></th>\n",
       "      <th>label</th>\n",
       "      <th>prediction</th>\n",
       "    </tr>\n",
       "  </thead>\n",
       "  <tbody>\n",
       "    <tr>\n",
       "      <th>340</th>\n",
       "      <td>5</td>\n",
       "      <td>3</td>\n",
       "    </tr>\n",
       "    <tr>\n",
       "      <th>720</th>\n",
       "      <td>5</td>\n",
       "      <td>8</td>\n",
       "    </tr>\n",
       "    <tr>\n",
       "      <th>951</th>\n",
       "      <td>5</td>\n",
       "      <td>4</td>\n",
       "    </tr>\n",
       "    <tr>\n",
       "      <th>1003</th>\n",
       "      <td>5</td>\n",
       "      <td>3</td>\n",
       "    </tr>\n",
       "    <tr>\n",
       "      <th>1032</th>\n",
       "      <td>5</td>\n",
       "      <td>8</td>\n",
       "    </tr>\n",
       "    <tr>\n",
       "      <th>1289</th>\n",
       "      <td>5</td>\n",
       "      <td>9</td>\n",
       "    </tr>\n",
       "    <tr>\n",
       "      <th>1378</th>\n",
       "      <td>5</td>\n",
       "      <td>6</td>\n",
       "    </tr>\n",
       "    <tr>\n",
       "      <th>1393</th>\n",
       "      <td>5</td>\n",
       "      <td>3</td>\n",
       "    </tr>\n",
       "    <tr>\n",
       "      <th>1447</th>\n",
       "      <td>5</td>\n",
       "      <td>6</td>\n",
       "    </tr>\n",
       "    <tr>\n",
       "      <th>1940</th>\n",
       "      <td>5</td>\n",
       "      <td>8</td>\n",
       "    </tr>\n",
       "    <tr>\n",
       "      <th>2035</th>\n",
       "      <td>5</td>\n",
       "      <td>3</td>\n",
       "    </tr>\n",
       "    <tr>\n",
       "      <th>2224</th>\n",
       "      <td>5</td>\n",
       "      <td>8</td>\n",
       "    </tr>\n",
       "    <tr>\n",
       "      <th>2526</th>\n",
       "      <td>5</td>\n",
       "      <td>3</td>\n",
       "    </tr>\n",
       "    <tr>\n",
       "      <th>2597</th>\n",
       "      <td>5</td>\n",
       "      <td>3</td>\n",
       "    </tr>\n",
       "    <tr>\n",
       "      <th>2810</th>\n",
       "      <td>5</td>\n",
       "      <td>3</td>\n",
       "    </tr>\n",
       "    <tr>\n",
       "      <th>2930</th>\n",
       "      <td>5</td>\n",
       "      <td>7</td>\n",
       "    </tr>\n",
       "    <tr>\n",
       "      <th>3117</th>\n",
       "      <td>5</td>\n",
       "      <td>3</td>\n",
       "    </tr>\n",
       "    <tr>\n",
       "      <th>3558</th>\n",
       "      <td>5</td>\n",
       "      <td>0</td>\n",
       "    </tr>\n",
       "    <tr>\n",
       "      <th>3776</th>\n",
       "      <td>5</td>\n",
       "      <td>8</td>\n",
       "    </tr>\n",
       "    <tr>\n",
       "      <th>3893</th>\n",
       "      <td>5</td>\n",
       "      <td>6</td>\n",
       "    </tr>\n",
       "    <tr>\n",
       "      <th>3902</th>\n",
       "      <td>5</td>\n",
       "      <td>3</td>\n",
       "    </tr>\n",
       "    <tr>\n",
       "      <th>4271</th>\n",
       "      <td>5</td>\n",
       "      <td>3</td>\n",
       "    </tr>\n",
       "    <tr>\n",
       "      <th>4355</th>\n",
       "      <td>5</td>\n",
       "      <td>3</td>\n",
       "    </tr>\n",
       "    <tr>\n",
       "      <th>4360</th>\n",
       "      <td>5</td>\n",
       "      <td>3</td>\n",
       "    </tr>\n",
       "    <tr>\n",
       "      <th>5937</th>\n",
       "      <td>5</td>\n",
       "      <td>3</td>\n",
       "    </tr>\n",
       "    <tr>\n",
       "      <th>5972</th>\n",
       "      <td>5</td>\n",
       "      <td>3</td>\n",
       "    </tr>\n",
       "    <tr>\n",
       "      <th>5981</th>\n",
       "      <td>5</td>\n",
       "      <td>9</td>\n",
       "    </tr>\n",
       "    <tr>\n",
       "      <th>5997</th>\n",
       "      <td>5</td>\n",
       "      <td>9</td>\n",
       "    </tr>\n",
       "    <tr>\n",
       "      <th>6028</th>\n",
       "      <td>5</td>\n",
       "      <td>3</td>\n",
       "    </tr>\n",
       "    <tr>\n",
       "      <th>6043</th>\n",
       "      <td>5</td>\n",
       "      <td>3</td>\n",
       "    </tr>\n",
       "    <tr>\n",
       "      <th>6598</th>\n",
       "      <td>5</td>\n",
       "      <td>3</td>\n",
       "    </tr>\n",
       "    <tr>\n",
       "      <th>7732</th>\n",
       "      <td>5</td>\n",
       "      <td>8</td>\n",
       "    </tr>\n",
       "    <tr>\n",
       "      <th>8062</th>\n",
       "      <td>5</td>\n",
       "      <td>8</td>\n",
       "    </tr>\n",
       "    <tr>\n",
       "      <th>8863</th>\n",
       "      <td>5</td>\n",
       "      <td>6</td>\n",
       "    </tr>\n",
       "    <tr>\n",
       "      <th>9719</th>\n",
       "      <td>5</td>\n",
       "      <td>0</td>\n",
       "    </tr>\n",
       "    <tr>\n",
       "      <th>9729</th>\n",
       "      <td>5</td>\n",
       "      <td>6</td>\n",
       "    </tr>\n",
       "    <tr>\n",
       "      <th>9749</th>\n",
       "      <td>5</td>\n",
       "      <td>6</td>\n",
       "    </tr>\n",
       "    <tr>\n",
       "      <th>9770</th>\n",
       "      <td>5</td>\n",
       "      <td>0</td>\n",
       "    </tr>\n",
       "    <tr>\n",
       "      <th>9982</th>\n",
       "      <td>5</td>\n",
       "      <td>6</td>\n",
       "    </tr>\n",
       "  </tbody>\n",
       "</table>\n",
       "</div>"
      ],
      "text/plain": [
       "      label  prediction\n",
       "340       5           3\n",
       "720       5           8\n",
       "951       5           4\n",
       "1003      5           3\n",
       "1032      5           8\n",
       "1289      5           9\n",
       "1378      5           6\n",
       "1393      5           3\n",
       "1447      5           6\n",
       "1940      5           8\n",
       "2035      5           3\n",
       "2224      5           8\n",
       "2526      5           3\n",
       "2597      5           3\n",
       "2810      5           3\n",
       "2930      5           7\n",
       "3117      5           3\n",
       "3558      5           0\n",
       "3776      5           8\n",
       "3893      5           6\n",
       "3902      5           3\n",
       "4271      5           3\n",
       "4355      5           3\n",
       "4360      5           3\n",
       "5937      5           3\n",
       "5972      5           3\n",
       "5981      5           9\n",
       "5997      5           9\n",
       "6028      5           3\n",
       "6043      5           3\n",
       "6598      5           3\n",
       "7732      5           8\n",
       "8062      5           8\n",
       "8863      5           6\n",
       "9719      5           0\n",
       "9729      5           6\n",
       "9749      5           6\n",
       "9770      5           0\n",
       "9982      5           6"
      ]
     },
     "execution_count": 23,
     "metadata": {},
     "output_type": "execute_result"
    }
   ],
   "source": [
    "# 顯示 label 是 5 但結果顯示不為 5 的資料\n",
    "df[(df.label==5) & (df.prediction!=5)]"
   ]
  },
  {
   "cell_type": "markdown",
   "metadata": {},
   "source": [
    "## <font color='blue'>如果我們把隱藏層增加成 1000 個神經元</font>"
   ]
  },
  {
   "cell_type": "code",
   "execution_count": 24,
   "metadata": {},
   "outputs": [
    {
     "name": "stdout",
     "output_type": "stream",
     "text": [
      "_________________________________________________________________\n",
      "Layer (type)                 Output Shape              Param #   \n",
      "=================================================================\n",
      "dense_3 (Dense)              (None, 1000)              785000    \n",
      "_________________________________________________________________\n",
      "dense_4 (Dense)              (None, 10)                10010     \n",
      "=================================================================\n",
      "Total params: 795,010\n",
      "Trainable params: 795,010\n",
      "Non-trainable params: 0\n",
      "_________________________________________________________________\n",
      "None\n"
     ]
    }
   ],
   "source": [
    "from keras.models import Sequential\n",
    "from keras.layers import  Dense\n",
    "\n",
    "# 建立一個線性堆疊模組，後許只需要 model.add() 慢慢一層一層加上去\n",
    "model = Sequential()\n",
    "\n",
    "# Dense 層需要輸入以下的參數\n",
    "model.add(Dense(units=1000,                       #隱藏層的神經元有 1000 個 \n",
    "                input_dim=784,                   #輸入層的神經元有 784 個 \n",
    "                kernel_initializer='normal',     #使用 normal distribution 的方式來分配亂數，初始化 weight(權重) 和 bias(偏差)\n",
    "                activation = 'relu'))            #使用激活函式 relu\n",
    "\n",
    "model.add(Dense(units=10,\n",
    "                kernel_initializer='normal',\n",
    "                activation = 'softmax'))\n",
    "\n",
    "print(model.summary())"
   ]
  },
  {
   "cell_type": "code",
   "execution_count": 25,
   "metadata": {},
   "outputs": [],
   "source": [
    "# 定義訓練方式\n",
    "model.compile(loss='categorical_crossentropy',   # loss =, 設定損失函數，在 Deep learning 通常用 cross entropy 效果比較好\n",
    "              optimizer = 'adam',                # optimizer =, 設定訓練時的最優化方法，使用 adam 方法可使訓練更快收斂，提高準確率\n",
    "              metrics = ['accuracy'])            # metrics =, 設定評估模型的方式 為 準確率 accuracy"
   ]
  },
  {
   "cell_type": "code",
   "execution_count": 26,
   "metadata": {},
   "outputs": [
    {
     "name": "stdout",
     "output_type": "stream",
     "text": [
      "Train on 48000 samples, validate on 12000 samples\n",
      "Epoch 1/10\n",
      " - 3s - loss: 0.2951 - acc: 0.9152 - val_loss: 0.1536 - val_acc: 0.9562\n",
      "Epoch 2/10\n",
      " - 4s - loss: 0.1154 - acc: 0.9672 - val_loss: 0.1208 - val_acc: 0.9637\n",
      "Epoch 3/10\n",
      " - 4s - loss: 0.0738 - acc: 0.9793 - val_loss: 0.0925 - val_acc: 0.9730\n",
      "Epoch 4/10\n",
      " - 4s - loss: 0.0521 - acc: 0.9854 - val_loss: 0.0823 - val_acc: 0.9743\n",
      "Epoch 5/10\n",
      " - 4s - loss: 0.0361 - acc: 0.9903 - val_loss: 0.0824 - val_acc: 0.9753\n",
      "Epoch 6/10\n",
      " - 4s - loss: 0.0247 - acc: 0.9939 - val_loss: 0.0743 - val_acc: 0.9789\n",
      "Epoch 7/10\n",
      " - 4s - loss: 0.0185 - acc: 0.9955 - val_loss: 0.0727 - val_acc: 0.9780\n",
      "Epoch 8/10\n",
      " - 4s - loss: 0.0137 - acc: 0.9968 - val_loss: 0.0742 - val_acc: 0.9791\n",
      "Epoch 9/10\n",
      " - 4s - loss: 0.0098 - acc: 0.9983 - val_loss: 0.0699 - val_acc: 0.9799\n",
      "Epoch 10/10\n",
      " - 4s - loss: 0.0069 - acc: 0.9991 - val_loss: 0.0811 - val_acc: 0.9767\n"
     ]
    }
   ],
   "source": [
    "train_history = model.fit(x = x_train_normalize,  # x 為 特徵值\n",
    "                          y = y_train_Onehot,     # y 為 label值\n",
    "                          validation_split=0.2,   # 設定訓練與驗證資料的比例，0.2代表拿其中的 20% 作為驗證用的，其餘 80% 為訓練用的\n",
    "                          epochs = 10,            # 執行的訓練週期， = 10 代表訓練 10 個循環\n",
    "                          batch_size = 200,       # 每一個循環所跑的資料\n",
    "                          verbose = 2)            # 設定顯示的訓練過程(等一下會 print 出來的方式)"
   ]
  },
  {
   "cell_type": "markdown",
   "metadata": {},
   "source": [
    "### 準確率"
   ]
  },
  {
   "cell_type": "code",
   "execution_count": 27,
   "metadata": {},
   "outputs": [
    {
     "data": {
      "image/png": "[encoded data removed]",
      "text/plain": [
       "<Figure size 432x288 with 1 Axes>"
      ]
     },
     "metadata": {
      "needs_background": "light"
     },
     "output_type": "display_data"
    }
   ],
   "source": [
    "show_train_history(train_history, 'acc', 'val_acc')"
   ]
  },
  {
   "cell_type": "code",
   "execution_count": 28,
   "metadata": {},
   "outputs": [
    {
     "name": "stdout",
     "output_type": "stream",
     "text": [
      "10000/10000 [==============================] - 1s 79us/step\n",
      "\n",
      "accuracy: [0.07203449426870794, 0.9793]\n"
     ]
    }
   ],
   "source": [
    "scores = model.evaluate(x_test_normalize,y_test_Onehot)\n",
    "print()\n",
    "print(f'accuracy: {scores}')"
   ]
  },
  {
   "cell_type": "markdown",
   "metadata": {},
   "source": [
    "我們可以看到，如果我們將隱藏層神經元的數量提升，準確率確實有上升"
   ]
  },
  {
   "cell_type": "markdown",
   "metadata": {},
   "source": [
    "## <font color='blue'>MLP 加入 DropOut 功能來避免 overfitting</font>"
   ]
  },
  {
   "cell_type": "markdown",
   "metadata": {},
   "source": [
    "Dropout(<font color='dark'>0.5</font>)功能是在每次的訓練過程中，會在隱藏層中隨機放棄 <font color='dark'>50%</font> ，以避免 overfitting 的現象"
   ]
  },
  {
   "cell_type": "markdown",
   "metadata": {},
   "source": [
    "### 在隱藏層後加入 Dropout"
   ]
  },
  {
   "cell_type": "code",
   "execution_count": 29,
   "metadata": {},
   "outputs": [
    {
     "name": "stdout",
     "output_type": "stream",
     "text": [
      "_________________________________________________________________\n",
      "Layer (type)                 Output Shape              Param #   \n",
      "=================================================================\n",
      "dense_5 (Dense)              (None, 1000)              785000    \n",
      "_________________________________________________________________\n",
      "dropout_1 (Dropout)          (None, 1000)              0         \n",
      "_________________________________________________________________\n",
      "dense_6 (Dense)              (None, 10)                10010     \n",
      "=================================================================\n",
      "Total params: 795,010\n",
      "Trainable params: 795,010\n",
      "Non-trainable params: 0\n",
      "_________________________________________________________________\n",
      "None\n"
     ]
    }
   ],
   "source": [
    "from keras.models import Sequential\n",
    "from keras.layers import Dense\n",
    "from keras.layers import Dropout     #匯入 Dropout 模組\n",
    "\n",
    "# 建立一個線性堆疊模組，後許只需要 model.add() 慢慢一層一層加上去\n",
    "model = Sequential()\n",
    "\n",
    "# Dense 層需要輸入以下的參數\n",
    "model.add(Dense(units=1000,                       #隱藏層的神經元有 1000 個 \n",
    "                input_dim=784,                   #輸入層的神經元有 784 個 \n",
    "                kernel_initializer='normal',     #使用 normal distribution 的方式來分配亂數，初始化 weight(權重) 和 bias(偏差)\n",
    "                activation = 'relu'))            #使用激活函式 relu\n",
    "\n",
    "# 加入 Dropout 功能\n",
    "model.add(Dropout(0.5))\n",
    "\n",
    "model.add(Dense(units=10,\n",
    "                kernel_initializer='normal',\n",
    "                activation = 'softmax'))\n",
    "\n",
    "print(model.summary())"
   ]
  },
  {
   "cell_type": "markdown",
   "metadata": {},
   "source": [
    "### 訓練資料"
   ]
  },
  {
   "cell_type": "code",
   "execution_count": 30,
   "metadata": {},
   "outputs": [],
   "source": [
    "# 定義訓練方式\n",
    "model.compile(loss='categorical_crossentropy',   # loss =, 設定損失函數，在 Deep learning 通常用 cross entropy 效果比較好\n",
    "              optimizer = 'adam',                # optimizer =, 設定訓練時的最優化方法，使用 adam 方法可使訓練更快收斂，提高準確率\n",
    "              metrics = ['accuracy'])            # metrics =, 設定評估模型的方式 為 準確率 accuracy"
   ]
  },
  {
   "cell_type": "code",
   "execution_count": 31,
   "metadata": {},
   "outputs": [
    {
     "name": "stdout",
     "output_type": "stream",
     "text": [
      "Train on 48000 samples, validate on 12000 samples\n",
      "Epoch 1/10\n",
      " - 4s - loss: 0.3573 - acc: 0.8928 - val_loss: 0.1623 - val_acc: 0.9543\n",
      "Epoch 2/10\n",
      " - 3s - loss: 0.1598 - acc: 0.9534 - val_loss: 0.1183 - val_acc: 0.9650\n",
      "Epoch 3/10\n",
      " - 4s - loss: 0.1155 - acc: 0.9663 - val_loss: 0.0972 - val_acc: 0.9700\n",
      "Epoch 4/10\n",
      " - 4s - loss: 0.0915 - acc: 0.9725 - val_loss: 0.0868 - val_acc: 0.9733\n",
      "Epoch 5/10\n",
      " - 4s - loss: 0.0743 - acc: 0.9773 - val_loss: 0.0790 - val_acc: 0.9768\n",
      "Epoch 6/10\n",
      " - 4s - loss: 0.0641 - acc: 0.9798 - val_loss: 0.0755 - val_acc: 0.9780\n",
      "Epoch 7/10\n",
      " - 4s - loss: 0.0548 - acc: 0.9838 - val_loss: 0.0752 - val_acc: 0.9784\n",
      "Epoch 8/10\n",
      " - 4s - loss: 0.0462 - acc: 0.9854 - val_loss: 0.0703 - val_acc: 0.9806\n",
      "Epoch 9/10\n",
      " - 4s - loss: 0.0412 - acc: 0.9873 - val_loss: 0.0683 - val_acc: 0.9806\n",
      "Epoch 10/10\n",
      " - 4s - loss: 0.0376 - acc: 0.9882 - val_loss: 0.0667 - val_acc: 0.9807\n"
     ]
    }
   ],
   "source": [
    "train_history = model.fit(x = x_train_normalize,  # x 為 特徵值\n",
    "                          y = y_train_Onehot,     # y 為 label值\n",
    "                          validation_split=0.2,   # 設定訓練與驗證資料的比例，0.2代表拿其中的 20% 作為驗證用的，其餘 80% 為訓練用的\n",
    "                          epochs = 10,            # 執行的訓練週期， = 10 代表訓練 10 個循環\n",
    "                          batch_size = 200,       # 每一個循環所跑的資料\n",
    "                          verbose = 2)            # 設定顯示的訓練過程(等一下會 print 出來的方式)"
   ]
  },
  {
   "cell_type": "markdown",
   "metadata": {},
   "source": [
    "### 準確度"
   ]
  },
  {
   "cell_type": "code",
   "execution_count": 32,
   "metadata": {},
   "outputs": [
    {
     "data": {
      "image/png": "[encoded data removed]",
      "text/plain": [
       "<Figure size 432x288 with 1 Axes>"
      ]
     },
     "metadata": {
      "needs_background": "light"
     },
     "output_type": "display_data"
    }
   ],
   "source": [
    "show_train_history(train_history, 'acc', 'val_acc')"
   ]
  },
  {
   "cell_type": "code",
   "execution_count": 33,
   "metadata": {},
   "outputs": [
    {
     "name": "stdout",
     "output_type": "stream",
     "text": [
      "10000/10000 [==============================] - 1s 83us/step\n",
      "\n",
      "accuracy: [0.0604944809850771, 0.9828]\n"
     ]
    }
   ],
   "source": [
    "scores = model.evaluate(x_test_normalize,y_test_Onehot)\n",
    "print()\n",
    "print(f'accuracy: {scores}')"
   ]
  },
  {
   "cell_type": "markdown",
   "metadata": {},
   "source": [
    "和我們上個例子相比，Dropout後的結果確實有縮短 train 和 validation 之間的差距(圖表)\n",
    "\n",
    "準確度也確實有所提升，從原本的 0.981 到 0.983"
   ]
  },
  {
   "cell_type": "markdown",
   "metadata": {},
   "source": [
    "## <font color='blue'>建立2層隱藏層來看看</font>"
   ]
  },
  {
   "cell_type": "code",
   "execution_count": 34,
   "metadata": {},
   "outputs": [
    {
     "name": "stdout",
     "output_type": "stream",
     "text": [
      "_________________________________________________________________\n",
      "Layer (type)                 Output Shape              Param #   \n",
      "=================================================================\n",
      "dense_7 (Dense)              (None, 1000)              785000    \n",
      "_________________________________________________________________\n",
      "dropout_2 (Dropout)          (None, 1000)              0         \n",
      "_________________________________________________________________\n",
      "dense_8 (Dense)              (None, 1000)              1001000   \n",
      "_________________________________________________________________\n",
      "dense_9 (Dense)              (None, 10)                10010     \n",
      "=================================================================\n",
      "Total params: 1,796,010\n",
      "Trainable params: 1,796,010\n",
      "Non-trainable params: 0\n",
      "_________________________________________________________________\n",
      "None\n"
     ]
    }
   ],
   "source": [
    "from keras.models import Sequential\n",
    "from keras.layers import Dense\n",
    "from keras.layers import Dropout     #匯入 Dropout 模組\n",
    "\n",
    "# 建立一個線性堆疊模組，後許只需要 model.add() 慢慢一層一層加上去\n",
    "model = Sequential()\n",
    "\n",
    "# Dense 層需要輸入以下的參數\n",
    "model.add(Dense(units=1000,                       #隱藏層的神經元有 1000 個 \n",
    "                input_dim=784,                   #輸入層的神經元有 784 個 \n",
    "                kernel_initializer='normal',     #使用 normal distribution 的方式來分配亂數，初始化 weight(權重) 和 bias(偏差)\n",
    "                activation = 'relu'))            #使用激活函式 relu\n",
    "\n",
    "# 加入 Dropout 功能\n",
    "model.add(Dropout(0.5))\n",
    "\n",
    "# 建立第二層隱藏層\n",
    "model.add(Dense(units=1000,                       #隱藏層的神經元有 1000 個 \n",
    "                kernel_initializer='normal',     #使用 normal distribution 的方式來分配亂數，初始化 weight(權重) 和 bias(偏差)\n",
    "                activation = 'relu'))            #使用激活函式 relu\n",
    "\n",
    "model.add(Dense(units=10,\n",
    "                kernel_initializer='normal',\n",
    "                activation = 'softmax'))\n",
    "\n",
    "print(model.summary())"
   ]
  },
  {
   "cell_type": "markdown",
   "metadata": {},
   "source": [
    "### 訓練開始"
   ]
  },
  {
   "cell_type": "code",
   "execution_count": 35,
   "metadata": {},
   "outputs": [],
   "source": [
    "# 定義訓練方式\n",
    "model.compile(loss='categorical_crossentropy',   # loss =, 設定損失函數，在 Deep learning 通常用 cross entropy 效果比較好\n",
    "              optimizer = 'adam',                # optimizer =, 設定訓練時的最優化方法，使用 adam 方法可使訓練更快收斂，提高準確率\n",
    "              metrics = ['accuracy'])            # metrics =, 設定評估模型的方式 為 準確率 accuracy"
   ]
  },
  {
   "cell_type": "code",
   "execution_count": 36,
   "metadata": {},
   "outputs": [
    {
     "name": "stdout",
     "output_type": "stream",
     "text": [
      "Train on 48000 samples, validate on 12000 samples\n",
      "Epoch 1/10\n",
      " - 6s - loss: 0.3160 - acc: 0.9027 - val_loss: 0.1218 - val_acc: 0.9633\n",
      "Epoch 2/10\n",
      " - 4s - loss: 0.1364 - acc: 0.9583 - val_loss: 0.0994 - val_acc: 0.9700\n",
      "Epoch 3/10\n",
      " - 5s - loss: 0.0992 - acc: 0.9683 - val_loss: 0.0898 - val_acc: 0.9736\n",
      "Epoch 4/10\n",
      " - 5s - loss: 0.0840 - acc: 0.9730 - val_loss: 0.0800 - val_acc: 0.9761\n",
      "Epoch 5/10\n",
      " - 5s - loss: 0.0684 - acc: 0.9782 - val_loss: 0.0785 - val_acc: 0.9763\n",
      "Epoch 6/10\n",
      " - 5s - loss: 0.0605 - acc: 0.9802 - val_loss: 0.0751 - val_acc: 0.9773\n",
      "Epoch 7/10\n",
      " - 6s - loss: 0.0551 - acc: 0.9818 - val_loss: 0.0739 - val_acc: 0.9771\n",
      "Epoch 8/10\n",
      " - 6s - loss: 0.0487 - acc: 0.9837 - val_loss: 0.0750 - val_acc: 0.9779\n",
      "Epoch 9/10\n",
      " - 6s - loss: 0.0453 - acc: 0.9851 - val_loss: 0.0762 - val_acc: 0.9788\n",
      "Epoch 10/10\n",
      " - 6s - loss: 0.0410 - acc: 0.9863 - val_loss: 0.0680 - val_acc: 0.9810\n"
     ]
    }
   ],
   "source": [
    "train_history = model.fit(x = x_train_normalize,  # x 為 特徵值\n",
    "                          y = y_train_Onehot,     # y 為 label值\n",
    "                          validation_split=0.2,   # 設定訓練與驗證資料的比例，0.2代表拿其中的 20% 作為驗證用的，其餘 80% 為訓練用的\n",
    "                          epochs = 10,            # 執行的訓練週期， = 10 代表訓練 10 個循環\n",
    "                          batch_size = 200,       # 每一個循環所跑的資料\n",
    "                          verbose = 2)            # 設定顯示的訓練過程(等一下會 print 出來的方式)"
   ]
  },
  {
   "cell_type": "markdown",
   "metadata": {},
   "source": [
    "### 準確度"
   ]
  },
  {
   "cell_type": "code",
   "execution_count": 37,
   "metadata": {},
   "outputs": [
    {
     "data": {
      "image/png": "[encoded data removed]",
      "text/plain": [
       "<Figure size 432x288 with 1 Axes>"
      ]
     },
     "metadata": {
      "needs_background": "light"
     },
     "output_type": "display_data"
    }
   ],
   "source": [
    "show_train_history(train_history, 'acc', 'val_acc')"
   ]
  },
  {
   "cell_type": "code",
   "execution_count": 38,
   "metadata": {},
   "outputs": [
    {
     "name": "stdout",
     "output_type": "stream",
     "text": [
      "10000/10000 [==============================] - 1s 99us/step\n",
      "\n",
      "accuracy: [0.06350918157306006, 0.9816]\n"
     ]
    }
   ],
   "source": [
    "scores = model.evaluate(x_test_normalize,y_test_Onehot)\n",
    "print()\n",
    "print(f'accuracy: {scores}')"
   ]
  },
  {
   "cell_type": "markdown",
   "metadata": {},
   "source": [
    "我們可以看到，建立多層隱藏層，能夠減少 overfitting 的現象，同時準確度也提升不少"
   ]
  },
  {
   "cell_type": "markdown",
   "metadata": {},
   "source": [
    "\n",
    "   "
   ]
  }
 ],
 "metadata": {
  "kernelspec": {
   "display_name": "my-project",
   "language": "python",
   "name": "my-project"
  },
  "language_info": {
   "codemirror_mode": {
    "name": "ipython",
    "version": 3
   },
   "file_extension": ".py",
   "mimetype": "text/x-python",
   "name": "python",
   "nbconvert_exporter": "python",
   "pygments_lexer": "ipython3",
   "version": "3.6.5"
  }
 },
 "nbformat": 4,
 "nbformat_minor": 2
}
