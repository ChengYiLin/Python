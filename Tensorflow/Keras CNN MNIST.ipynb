{
 "cells": [
  {
   "cell_type": "markdown",
   "metadata": {},
   "source": [
    "# Keras CNN MNIST "
   ]
  },
  {
   "cell_type": "markdown",
   "metadata": {},
   "source": [
    "## CNN v.s. MLP"
   ]
  },
  {
   "cell_type": "markdown",
   "metadata": {},
   "source": [
    "CNN 和 MLP 最大的不同點在於多了 **卷積層** 和 **池化層** 來做影像提取特徵的工作\n",
    "\n",
    "而這部分稱之為卷積運算\n",
    "\n",
    "以下用例子來做實際說明"
   ]
  },
  {
   "cell_type": "markdown",
   "metadata": {},
   "source": [
    "## <font color='blue'>資料預處理(Process)</font>"
   ]
  },
  {
   "cell_type": "markdown",
   "metadata": {},
   "source": [
    "### step 1. 匯入所需模組"
   ]
  },
  {
   "cell_type": "code",
   "execution_count": 1,
   "metadata": {},
   "outputs": [
    {
     "name": "stderr",
     "output_type": "stream",
     "text": [
      "Using TensorFlow backend.\n"
     ]
    }
   ],
   "source": [
    "from keras.datasets import mnist\n",
    "from keras.utils import np_utils\n",
    "import numpy as np\n",
    "np.random.seed(10)"
   ]
  },
  {
   "cell_type": "markdown",
   "metadata": {},
   "source": [
    "### step3. 讀取 mnist 資料"
   ]
  },
  {
   "cell_type": "code",
   "execution_count": 2,
   "metadata": {},
   "outputs": [],
   "source": [
    "(x_train,y_train), (x_test, y_test) = mnist.load_data()"
   ]
  },
  {
   "cell_type": "markdown",
   "metadata": {},
   "source": [
    "### step3. 將 features 轉換為 4 維矩陣"
   ]
  },
  {
   "cell_type": "markdown",
   "metadata": {},
   "source": [
    "將原本的資料 60000*28*28 轉換為 60000*28*28*1，之所以是 *1 因為影像的顏色為單色"
   ]
  },
  {
   "cell_type": "code",
   "execution_count": 3,
   "metadata": {},
   "outputs": [
    {
     "name": "stdout",
     "output_type": "stream",
     "text": [
      "x_train shape:  (60000, 28, 28)\n",
      "x_test shape:   (10000, 28, 28)\n"
     ]
    }
   ],
   "source": [
    "print('x_train shape: ',x_train.shape)\n",
    "print('x_test shape:  ',x_test.shape)"
   ]
  },
  {
   "cell_type": "code",
   "execution_count": 4,
   "metadata": {},
   "outputs": [],
   "source": [
    "x_train_4D = x_train.reshape(x_train.shape[0],28,28,1).astype('float32')\n",
    "x_test_4D  = x_test.reshape(x_test.shape[0],28,28,1).astype('float32')"
   ]
  },
  {
   "cell_type": "markdown",
   "metadata": {},
   "source": [
    "### step4. 將 features 進行標準化"
   ]
  },
  {
   "cell_type": "code",
   "execution_count": 5,
   "metadata": {},
   "outputs": [],
   "source": [
    "x_train_4D_normalize = x_train_4D / 255\n",
    "x_test_4D_normalize  = x_test_4D  / 255"
   ]
  },
  {
   "cell_type": "markdown",
   "metadata": {},
   "source": [
    "### step5. 將 label 值進行 Onehot encoding 轉換"
   ]
  },
  {
   "cell_type": "code",
   "execution_count": 6,
   "metadata": {},
   "outputs": [],
   "source": [
    "y_train_onehot = np_utils.to_categorical(y_train)\n",
    "y_test_onehot  = np_utils.to_categorical(y_test)"
   ]
  },
  {
   "cell_type": "markdown",
   "metadata": {},
   "source": [
    "## <font color='blue'>建立模型</font>"
   ]
  },
  {
   "cell_type": "markdown",
   "metadata": {},
   "source": [
    "### step1. 匯入建立模型所需模組"
   ]
  },
  {
   "cell_type": "code",
   "execution_count": 7,
   "metadata": {},
   "outputs": [],
   "source": [
    "from keras.models import  Sequential\n",
    "from keras.layers import Dense, Dropout, Flatten, Conv2D, MaxPool2D"
   ]
  },
  {
   "cell_type": "markdown",
   "metadata": {},
   "source": [
    "### step2. 建立 keras 的 Sequential 模型"
   ]
  },
  {
   "cell_type": "markdown",
   "metadata": {},
   "source": [
    "建立 Sequential 線性堆疊模型，之後只要用 model.add 慢慢堆下去"
   ]
  },
  {
   "cell_type": "code",
   "execution_count": 8,
   "metadata": {},
   "outputs": [],
   "source": [
    "model = Sequential()"
   ]
  },
  {
   "cell_type": "markdown",
   "metadata": {},
   "source": [
    "### step3. 建立 卷積層1 和 池化層1"
   ]
  },
  {
   "cell_type": "markdown",
   "metadata": {},
   "source": [
    "建立卷積層1 ， 加入 Conv2D 層至模型中"
   ]
  },
  {
   "cell_type": "code",
   "execution_count": 9,
   "metadata": {},
   "outputs": [],
   "source": [
    "model.add(Conv2D(filters=16,                # 建立 16 種濾鏡(filter weight) ， 所以能產生 16 個影像\n",
    "                 kernel_size=(5,5),         # 每個濾鏡的大小為 5*5 \n",
    "                 padding='same',            # 此設定方式是為了讓經過 卷積運算 的影像大小不變，維持 28*28\n",
    "                 input_shape = (28,28,1),   # 加入我們的輸入層，我們每張影像的維度為 28*28*1 (長、寬、單色)\n",
    "                 activation = 'relu'))      # 使用 relu 這激活函式"
   ]
  },
  {
   "cell_type": "markdown",
   "metadata": {},
   "source": [
    "建立池化層1 , 加入 MaxPooling2D 模型"
   ]
  },
  {
   "cell_type": "code",
   "execution_count": 10,
   "metadata": {},
   "outputs": [],
   "source": [
    "model.add(MaxPool2D(pool_size=(2,2)))"
   ]
  },
  {
   "cell_type": "markdown",
   "metadata": {},
   "source": [
    "#### 甚麼是 Maxpooling ?"
   ]
  },
  {
   "cell_type": "markdown",
   "metadata": {},
   "source": [
    "Max pooling 是一種將影像縮減取樣的方式之一，它的操作方式很簡單，以下圖為例子，現在我們有個 4 * 4 的矩陣，我們設定 pool szie 為 2 * 2，因此所有的矩陣都被區分為 4 大色塊，每個色塊中我們取最大的那個數值作為我們轉換後的值，因此原本 4 * 4 大小的矩陣，就被我們縮成 2 * 2 了"
   ]
  },
  {
   "cell_type": "markdown",
   "metadata": {},
   "source": [
    "![maxpooling](https://computersciencewiki.org/images/8/8a/MaxpoolSample2.png)"
   ]
  },
  {
   "cell_type": "markdown",
   "metadata": {},
   "source": [
    "Max pooling 的用意為合?\n",
    "\n",
    "<ol>\n",
    "    <li>減少需要處理的資料點，節省後續的運算時間</li>\n",
    "    <li>讓影像位置差異性降低，例如: 手寫數字7，在 28 * 28 的格紙中，數字的位置可能不固定，但是位置的不同不應該影響我們數字的判讀，於是用 Max pooling 的方式降低位置偏移所造成的誤差</li>\n",
    "    <li>參數的數量及計算量降低，一定程度上控制 overfitting 的狀況發生\n",
    "</ol>\n",
    "\n"
   ]
  },
  {
   "cell_type": "markdown",
   "metadata": {},
   "source": [
    "### step4. 建立 卷積層2 和 池化層2"
   ]
  },
  {
   "cell_type": "markdown",
   "metadata": {},
   "source": [
    "建立卷積層2 ， 加入 Conv2D 層至模型中"
   ]
  },
  {
   "cell_type": "code",
   "execution_count": 11,
   "metadata": {},
   "outputs": [],
   "source": [
    "model.add(Conv2D(filters=36,\n",
    "                 kernel_size=(5,5),\n",
    "                 padding ='same',\n",
    "                 activation='relu'))"
   ]
  },
  {
   "cell_type": "markdown",
   "metadata": {},
   "source": [
    "建立池化層1 , 加入 MaxPooling2D 模型"
   ]
  },
  {
   "cell_type": "code",
   "execution_count": 12,
   "metadata": {},
   "outputs": [],
   "source": [
    "model.add(MaxPool2D(pool_size=(2,2)))"
   ]
  },
  {
   "cell_type": "markdown",
   "metadata": {},
   "source": [
    "建立 Dropout 避免 overfitting 的狀況發生"
   ]
  },
  {
   "cell_type": "code",
   "execution_count": 13,
   "metadata": {},
   "outputs": [],
   "source": [
    "model.add(Dropout(0.25))"
   ]
  },
  {
   "cell_type": "markdown",
   "metadata": {},
   "source": [
    "### step5. 建立神經網路(平坦層、隱藏層、輸出層)"
   ]
  },
  {
   "cell_type": "markdown",
   "metadata": {},
   "source": [
    "加入 平坦層 ，將上一步的池化層 7 * 7 * 36 轉換為 1 維陣列， 也就是 1764 個神經元"
   ]
  },
  {
   "cell_type": "code",
   "execution_count": 14,
   "metadata": {},
   "outputs": [],
   "source": [
    "model.add(Flatten())"
   ]
  },
  {
   "cell_type": "markdown",
   "metadata": {},
   "source": [
    "建立隱藏層，共有 128 個神經元"
   ]
  },
  {
   "cell_type": "code",
   "execution_count": 15,
   "metadata": {},
   "outputs": [],
   "source": [
    "model.add(Dense(128, activation='relu'))"
   ]
  },
  {
   "cell_type": "markdown",
   "metadata": {},
   "source": [
    "使用 Dropout 來避免 overfitng 的狀況產生"
   ]
  },
  {
   "cell_type": "code",
   "execution_count": 16,
   "metadata": {},
   "outputs": [],
   "source": [
    "model.add(Dropout(0.5))"
   ]
  },
  {
   "cell_type": "markdown",
   "metadata": {},
   "source": [
    "最後建立輸出層，共 0 ~ 9 十個數字，也就是十個神經元"
   ]
  },
  {
   "cell_type": "code",
   "execution_count": 17,
   "metadata": {},
   "outputs": [],
   "source": [
    "model.add(Dense(10,activation='softmax'))"
   ]
  },
  {
   "cell_type": "markdown",
   "metadata": {},
   "source": [
    "#### step6. 查看模型摘要"
   ]
  },
  {
   "cell_type": "code",
   "execution_count": 18,
   "metadata": {},
   "outputs": [
    {
     "name": "stdout",
     "output_type": "stream",
     "text": [
      "_________________________________________________________________\n",
      "Layer (type)                 Output Shape              Param #   \n",
      "=================================================================\n",
      "conv2d_1 (Conv2D)            (None, 28, 28, 16)        416       \n",
      "_________________________________________________________________\n",
      "max_pooling2d_1 (MaxPooling2 (None, 14, 14, 16)        0         \n",
      "_________________________________________________________________\n",
      "conv2d_2 (Conv2D)            (None, 14, 14, 36)        14436     \n",
      "_________________________________________________________________\n",
      "max_pooling2d_2 (MaxPooling2 (None, 7, 7, 36)          0         \n",
      "_________________________________________________________________\n",
      "dropout_1 (Dropout)          (None, 7, 7, 36)          0         \n",
      "_________________________________________________________________\n",
      "flatten_1 (Flatten)          (None, 1764)              0         \n",
      "_________________________________________________________________\n",
      "dense_1 (Dense)              (None, 128)               225920    \n",
      "_________________________________________________________________\n",
      "dropout_2 (Dropout)          (None, 128)               0         \n",
      "_________________________________________________________________\n",
      "dense_2 (Dense)              (None, 10)                1290      \n",
      "=================================================================\n",
      "Total params: 242,062\n",
      "Trainable params: 242,062\n",
      "Non-trainable params: 0\n",
      "_________________________________________________________________\n",
      "None\n"
     ]
    }
   ],
   "source": [
    "print(model.summary())"
   ]
  },
  {
   "cell_type": "markdown",
   "metadata": {},
   "source": [
    "## <font color='blue'>進行訓練</font>"
   ]
  },
  {
   "cell_type": "markdown",
   "metadata": {},
   "source": [
    "### step1. 定義訓練方式"
   ]
  },
  {
   "cell_type": "code",
   "execution_count": 19,
   "metadata": {},
   "outputs": [],
   "source": [
    "model.compile(loss = 'categorical_crossentropy', # 設定我們的 loss function，在 deep learning 使用 cross entropy 效果比較好\n",
    "              optimizer = 'adam',                # 設定訓練時的優化方法，使用 adam 優化能夠使訓練更快收斂，提高準確率\n",
    "              metrics = ['accuracy'])            # 評估模型的方式為 accuracy 來做評斷"
   ]
  },
  {
   "cell_type": "markdown",
   "metadata": {},
   "source": [
    "### step2. 開始訓練"
   ]
  },
  {
   "cell_type": "code",
   "execution_count": 20,
   "metadata": {},
   "outputs": [
    {
     "name": "stdout",
     "output_type": "stream",
     "text": [
      "Train on 48000 samples, validate on 12000 samples\n",
      "Epoch 1/10\n",
      " - 9s - loss: 0.4897 - acc: 0.8477 - val_loss: 0.0962 - val_acc: 0.9723\n",
      "Epoch 2/10\n",
      " - 5s - loss: 0.1405 - acc: 0.9589 - val_loss: 0.0639 - val_acc: 0.9809\n",
      "Epoch 3/10\n",
      " - 5s - loss: 0.1028 - acc: 0.9689 - val_loss: 0.0511 - val_acc: 0.9841\n",
      "Epoch 4/10\n",
      " - 6s - loss: 0.0834 - acc: 0.9752 - val_loss: 0.0463 - val_acc: 0.9857\n",
      "Epoch 5/10\n",
      " - 6s - loss: 0.0716 - acc: 0.9777 - val_loss: 0.0399 - val_acc: 0.9884\n",
      "Epoch 6/10\n",
      " - 6s - loss: 0.0644 - acc: 0.9808 - val_loss: 0.0391 - val_acc: 0.9886\n",
      "Epoch 7/10\n",
      " - 6s - loss: 0.0566 - acc: 0.9825 - val_loss: 0.0436 - val_acc: 0.9877\n",
      "Epoch 8/10\n",
      " - 5s - loss: 0.0511 - acc: 0.9844 - val_loss: 0.0344 - val_acc: 0.9895\n",
      "Epoch 9/10\n",
      " - 5s - loss: 0.0454 - acc: 0.9863 - val_loss: 0.0338 - val_acc: 0.9901\n",
      "Epoch 10/10\n",
      " - 6s - loss: 0.0429 - acc: 0.9866 - val_loss: 0.0342 - val_acc: 0.9901\n"
     ]
    }
   ],
   "source": [
    "train_history = model.fit(x = x_train_4D_normalize,\n",
    "                          y = y_train_onehot,\n",
    "                          validation_split = 0.2,   # 設定 訓練 與 驗證 資料的比例，這邊設 0.2，代表是 8(train):2(validation)\n",
    "                          epochs = 10,              # 設定 10 次的訓練週期\n",
    "                          batch_size = 300,         # 每一批次為 300 筆資料\n",
    "                          verbose = 2)              # 設定顯示訓練過程的方式 "
   ]
  },
  {
   "cell_type": "markdown",
   "metadata": {},
   "source": [
    "### step3. 畫出 accuracy 執行結果"
   ]
  },
  {
   "cell_type": "code",
   "execution_count": 21,
   "metadata": {},
   "outputs": [],
   "source": [
    "import matplotlib.pyplot as plt \n",
    "\n",
    "# train_history 為訓練過程所產生的資料\n",
    "# train 為 80%訓練用的資料的執行結果， validation 為20%用來驗證的資料的執行結果\n",
    "def show_train_history(train_history, train, validation):       \n",
    "    plt.plot(train_history.history[train])\n",
    "    plt.plot(train_history.history[validation])\n",
    "    plt.title('Train history')\n",
    "    plt.ylabel(train)\n",
    "    plt.xlabel('Epoch')\n",
    "    plt.legend(['train', 'validation'], loc='upper left')\n",
    "    plt.show()"
   ]
  },
  {
   "cell_type": "code",
   "execution_count": 22,
   "metadata": {},
   "outputs": [
    {
     "data": {
      "image/png": "[encoded data removed]",
      "text/plain": [
       "<Figure size 432x288 with 1 Axes>"
      ]
     },
     "metadata": {
      "needs_background": "light"
     },
     "output_type": "display_data"
    }
   ],
   "source": [
    "show_train_history(train_history, 'acc', 'val_acc')"
   ]
  },
  {
   "cell_type": "markdown",
   "metadata": {},
   "source": [
    "### step4. 顯示 loss 誤差執行結果"
   ]
  },
  {
   "cell_type": "code",
   "execution_count": 23,
   "metadata": {},
   "outputs": [
    {
     "data": {
      "image/png": "[encoded data removed]",
      "text/plain": [
       "<Figure size 432x288 with 1 Axes>"
      ]
     },
     "metadata": {
      "needs_background": "light"
     },
     "output_type": "display_data"
    }
   ],
   "source": [
    "show_train_history(train_history,'loss','val_loss')"
   ]
  },
  {
   "cell_type": "markdown",
   "metadata": {},
   "source": [
    "## <font color='blue'>評估模型準確率</font>"
   ]
  },
  {
   "cell_type": "code",
   "execution_count": 24,
   "metadata": {},
   "outputs": [
    {
     "name": "stdout",
     "output_type": "stream",
     "text": [
      "10000/10000 [==============================] - 1s 102us/step\n",
      "[0.025764458023345652, 0.9906]\n"
     ]
    }
   ],
   "source": [
    "scores = model.evaluate(x_test_4D_normalize, y_test_onehot)\n",
    "print(scores)"
   ]
  },
  {
   "cell_type": "markdown",
   "metadata": {},
   "source": [
    "## <font color='blue'>進行預測</font>"
   ]
  },
  {
   "cell_type": "markdown",
   "metadata": {},
   "source": [
    "model.predict_classes 預測的是類別 ， model.predict 預測的是數值"
   ]
  },
  {
   "cell_type": "code",
   "execution_count": 25,
   "metadata": {},
   "outputs": [],
   "source": [
    "prediction = model.predict_classes(x_test_4D_normalize)"
   ]
  },
  {
   "cell_type": "code",
   "execution_count": 26,
   "metadata": {},
   "outputs": [
    {
     "data": {
      "text/plain": [
       "array([7, 2, 1, 0, 4, 1, 4, 9, 5, 9], dtype=int64)"
      ]
     },
     "execution_count": 26,
     "metadata": {},
     "output_type": "execute_result"
    }
   ],
   "source": [
    "prediction[:10]"
   ]
  },
  {
   "cell_type": "markdown",
   "metadata": {},
   "source": [
    "#### 顯示前十筆預測結果"
   ]
  },
  {
   "cell_type": "code",
   "execution_count": 27,
   "metadata": {},
   "outputs": [],
   "source": [
    "import matplotlib.pyplot as plt\n",
    "\n",
    "\n",
    "def shoe_multiple_image(images, labels, prediction, idx, num=10):\n",
    "    fig = plt.gcf()\n",
    "    fig.set_size_inches(12,14)\n",
    "    \n",
    "    # 大於25張只秀出 25 張\n",
    "    if num>25:\n",
    "        num =25\n",
    "    \n",
    "    for i in range(num):\n",
    "        ax = plt.subplot(5,5, 1+i)            # 建立 subgraph 子圖形為5行5列\n",
    "        ax.imshow(images[idx], cmap='binary') # 劃出 subgraph 子圖形\n",
    "        \n",
    "        title = \"label=\" + str(labels[idx])   # 設定 子圖形 title\n",
    "        if len(prediction)>0:                 # 若有預測值，再加入子圖形 title\n",
    "            title+=\",predict =\" + str(prediction[idx])\n",
    "        \n",
    "        ax.set_title(title, fontsize=10)      # 把 title 加上去\n",
    "        ax.set_xticks([])                     # 設定不顯示刻度\n",
    "        ax.set_yticks([])                     # 設定不顯示刻度\n",
    "        \n",
    "        idx+=1                                # 讀取下一筆\n",
    "        \n",
    "    plt.show()"
   ]
  },
  {
   "cell_type": "code",
   "execution_count": 28,
   "metadata": {},
   "outputs": [
    {
     "data": {
      "image/png": "[encoded data removed]",
      "text/plain": [
       "<Figure size 864x1008 with 10 Axes>"
      ]
     },
     "metadata": {},
     "output_type": "display_data"
    }
   ],
   "source": [
    "shoe_multiple_image(x_test, y_test, prediction, idx=0, num=10)"
   ]
  },
  {
   "cell_type": "markdown",
   "metadata": {},
   "source": [
    "## <font color='blue'>顯示 confusion matrix</font>"
   ]
  },
  {
   "cell_type": "code",
   "execution_count": 29,
   "metadata": {},
   "outputs": [
    {
     "data": {
      "text/html": [
       "<div>\n",
       "<style scoped>\n",
       "    .dataframe tbody tr th:only-of-type {\n",
       "        vertical-align: middle;\n",
       "    }\n",
       "\n",
       "    .dataframe tbody tr th {\n",
       "        vertical-align: top;\n",
       "    }\n",
       "\n",
       "    .dataframe thead th {\n",
       "        text-align: right;\n",
       "    }\n",
       "</style>\n",
       "<table border=\"1\" class=\"dataframe\">\n",
       "  <thead>\n",
       "    <tr style=\"text-align: right;\">\n",
       "      <th>predict</th>\n",
       "      <th>0</th>\n",
       "      <th>1</th>\n",
       "      <th>2</th>\n",
       "      <th>3</th>\n",
       "      <th>4</th>\n",
       "      <th>5</th>\n",
       "      <th>6</th>\n",
       "      <th>7</th>\n",
       "      <th>8</th>\n",
       "      <th>9</th>\n",
       "    </tr>\n",
       "    <tr>\n",
       "      <th>label</th>\n",
       "      <th></th>\n",
       "      <th></th>\n",
       "      <th></th>\n",
       "      <th></th>\n",
       "      <th></th>\n",
       "      <th></th>\n",
       "      <th></th>\n",
       "      <th></th>\n",
       "      <th></th>\n",
       "      <th></th>\n",
       "    </tr>\n",
       "  </thead>\n",
       "  <tbody>\n",
       "    <tr>\n",
       "      <th>0</th>\n",
       "      <td>976</td>\n",
       "      <td>1</td>\n",
       "      <td>0</td>\n",
       "      <td>0</td>\n",
       "      <td>0</td>\n",
       "      <td>0</td>\n",
       "      <td>2</td>\n",
       "      <td>1</td>\n",
       "      <td>0</td>\n",
       "      <td>0</td>\n",
       "    </tr>\n",
       "    <tr>\n",
       "      <th>1</th>\n",
       "      <td>0</td>\n",
       "      <td>1131</td>\n",
       "      <td>1</td>\n",
       "      <td>0</td>\n",
       "      <td>0</td>\n",
       "      <td>1</td>\n",
       "      <td>0</td>\n",
       "      <td>1</td>\n",
       "      <td>1</td>\n",
       "      <td>0</td>\n",
       "    </tr>\n",
       "    <tr>\n",
       "      <th>2</th>\n",
       "      <td>2</td>\n",
       "      <td>3</td>\n",
       "      <td>1024</td>\n",
       "      <td>0</td>\n",
       "      <td>1</td>\n",
       "      <td>0</td>\n",
       "      <td>0</td>\n",
       "      <td>2</td>\n",
       "      <td>0</td>\n",
       "      <td>0</td>\n",
       "    </tr>\n",
       "    <tr>\n",
       "      <th>3</th>\n",
       "      <td>0</td>\n",
       "      <td>0</td>\n",
       "      <td>1</td>\n",
       "      <td>1002</td>\n",
       "      <td>0</td>\n",
       "      <td>3</td>\n",
       "      <td>0</td>\n",
       "      <td>2</td>\n",
       "      <td>2</td>\n",
       "      <td>0</td>\n",
       "    </tr>\n",
       "    <tr>\n",
       "      <th>4</th>\n",
       "      <td>0</td>\n",
       "      <td>0</td>\n",
       "      <td>0</td>\n",
       "      <td>0</td>\n",
       "      <td>978</td>\n",
       "      <td>0</td>\n",
       "      <td>1</td>\n",
       "      <td>0</td>\n",
       "      <td>1</td>\n",
       "      <td>2</td>\n",
       "    </tr>\n",
       "    <tr>\n",
       "      <th>5</th>\n",
       "      <td>1</td>\n",
       "      <td>0</td>\n",
       "      <td>0</td>\n",
       "      <td>4</td>\n",
       "      <td>0</td>\n",
       "      <td>884</td>\n",
       "      <td>2</td>\n",
       "      <td>0</td>\n",
       "      <td>0</td>\n",
       "      <td>1</td>\n",
       "    </tr>\n",
       "    <tr>\n",
       "      <th>6</th>\n",
       "      <td>5</td>\n",
       "      <td>2</td>\n",
       "      <td>0</td>\n",
       "      <td>0</td>\n",
       "      <td>2</td>\n",
       "      <td>1</td>\n",
       "      <td>948</td>\n",
       "      <td>0</td>\n",
       "      <td>0</td>\n",
       "      <td>0</td>\n",
       "    </tr>\n",
       "    <tr>\n",
       "      <th>7</th>\n",
       "      <td>0</td>\n",
       "      <td>2</td>\n",
       "      <td>2</td>\n",
       "      <td>0</td>\n",
       "      <td>0</td>\n",
       "      <td>0</td>\n",
       "      <td>0</td>\n",
       "      <td>1021</td>\n",
       "      <td>1</td>\n",
       "      <td>2</td>\n",
       "    </tr>\n",
       "    <tr>\n",
       "      <th>8</th>\n",
       "      <td>3</td>\n",
       "      <td>1</td>\n",
       "      <td>3</td>\n",
       "      <td>2</td>\n",
       "      <td>1</td>\n",
       "      <td>2</td>\n",
       "      <td>0</td>\n",
       "      <td>2</td>\n",
       "      <td>955</td>\n",
       "      <td>5</td>\n",
       "    </tr>\n",
       "    <tr>\n",
       "      <th>9</th>\n",
       "      <td>2</td>\n",
       "      <td>4</td>\n",
       "      <td>0</td>\n",
       "      <td>1</td>\n",
       "      <td>7</td>\n",
       "      <td>2</td>\n",
       "      <td>0</td>\n",
       "      <td>6</td>\n",
       "      <td>0</td>\n",
       "      <td>987</td>\n",
       "    </tr>\n",
       "  </tbody>\n",
       "</table>\n",
       "</div>"
      ],
      "text/plain": [
       "predict    0     1     2     3    4    5    6     7    8    9\n",
       "label                                                        \n",
       "0        976     1     0     0    0    0    2     1    0    0\n",
       "1          0  1131     1     0    0    1    0     1    1    0\n",
       "2          2     3  1024     0    1    0    0     2    0    0\n",
       "3          0     0     1  1002    0    3    0     2    2    0\n",
       "4          0     0     0     0  978    0    1     0    1    2\n",
       "5          1     0     0     4    0  884    2     0    0    1\n",
       "6          5     2     0     0    2    1  948     0    0    0\n",
       "7          0     2     2     0    0    0    0  1021    1    2\n",
       "8          3     1     3     2    1    2    0     2  955    5\n",
       "9          2     4     0     1    7    2    0     6    0  987"
      ]
     },
     "execution_count": 29,
     "metadata": {},
     "output_type": "execute_result"
    }
   ],
   "source": [
    "import pandas as pd \n",
    "pd.crosstab(y_test, prediction, rownames=['label'], colnames=['predict'])"
   ]
  },
  {
   "cell_type": "markdown",
   "metadata": {},
   "source": [
    "<ul>\n",
    "    <li>對角線為符合的數字</li>\n",
    "    <li>非對角線為不符合的數字</li>\n",
    "</ul>"
   ]
  }
 ],
 "metadata": {
  "kernelspec": {
   "display_name": "my-project",
   "language": "python",
   "name": "my-project"
  },
  "language_info": {
   "codemirror_mode": {
    "name": "ipython",
    "version": 3
   },
   "file_extension": ".py",
   "mimetype": "text/x-python",
   "name": "python",
   "nbconvert_exporter": "python",
   "pygments_lexer": "ipython3",
   "version": "3.6.5"
  }
 },
 "nbformat": 4,
 "nbformat_minor": 2
}
