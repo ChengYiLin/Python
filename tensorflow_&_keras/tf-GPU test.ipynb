{
 "cells": [
  {
   "cell_type": "markdown",
   "metadata": {},
   "source": [
    "## import tensorflow"
   ]
  },
  {
   "cell_type": "code",
   "execution_count": 1,
   "metadata": {},
   "outputs": [],
   "source": [
    "import tensorflow as tf\n",
    "import time"
   ]
  },
  {
   "cell_type": "markdown",
   "metadata": {},
   "source": [
    "## 測試 (預設 GPU)"
   ]
  },
  {
   "cell_type": "code",
   "execution_count": 2,
   "metadata": {},
   "outputs": [
    {
     "name": "stdout",
     "output_type": "stream",
     "text": [
      "Result = -468.247314453125\n"
     ]
    }
   ],
   "source": [
    "size = 500\n",
    "\n",
    "# 建立 W/X 矩陣，shape 為 [size,size]\n",
    "W = tf.random_normal([size,size], name='W')\n",
    "X = tf.random_normal([size,size], name='X')\n",
    "\n",
    "# 矩陣相乘\n",
    "mul = tf.matmul(W, X, name='mul')\n",
    "\n",
    "# 將矩陣的值做加總\n",
    "sum_result = tf.reduce_sum(mul, name='sum')\n",
    "\n",
    "# 建立 Session 組態設定\n",
    "tfconfig = tf.ConfigProto(log_device_placement=True)\n",
    "\n",
    "# 執行計算圖\n",
    "with tf.Session() as sess:\n",
    "    result = sess.run(sum_result)\n",
    "print(f'Result = {result}')\n"
   ]
  },
  {
   "cell_type": "markdown",
   "metadata": {},
   "source": []
  },
  {
   "cell_type": "markdown",
   "metadata": {},
   "source": [
    "## 使用 CPU"
   ]
  },
  {
   "cell_type": "code",
   "execution_count": 3,
   "metadata": {},
   "outputs": [
    {
     "name": "stdout",
     "output_type": "stream",
     "text": [
      "Result = 11789.74609375\n"
     ]
    }
   ],
   "source": [
    "size = 500\n",
    "with tf.device('/cpu:0'):\n",
    "    W = tf.random_normal([size,size], name='W')\n",
    "    X = tf.random_normal([size,size], name='X')\n",
    "    mul = tf.matmul(W, X, name='mul')\n",
    "    sum_result = tf.reduce_sum(mul, name='sum')\n",
    "\n",
    "\n",
    "tfconfig = tf.ConfigProto(log_device_placement=True)\n",
    "with tf.Session() as sess:\n",
    "    result = sess.run(sum_result)\n",
    "print(f'Result = {result}')"
   ]
  },
  {
   "cell_type": "markdown",
   "metadata": {},
   "source": [
    "## 使用GPU"
   ]
  },
  {
   "cell_type": "code",
   "execution_count": 4,
   "metadata": {},
   "outputs": [
    {
     "name": "stdout",
     "output_type": "stream",
     "text": [
      "Result = -906.57177734375\n"
     ]
    }
   ],
   "source": [
    "size = 500\n",
    "with tf.device('/gpu:0'):\n",
    "    W = tf.random_normal([size,size], name='W')\n",
    "    X = tf.random_normal([size,size], name='X')\n",
    "    mul = tf.matmul(W, X, name='mul')\n",
    "    sum_result = tf.reduce_sum(mul, name='sum')\n",
    "\n",
    "\n",
    "tfconfig = tf.ConfigProto(log_device_placement=True)\n",
    "with tf.Session() as sess:\n",
    "    result = sess.run(sum_result)\n",
    "print(f'Result = {result}')"
   ]
  },
  {
   "cell_type": "markdown",
   "metadata": {},
   "source": [
    "## 比較 GPU /  CPU 效能"
   ]
  },
  {
   "cell_type": "code",
   "execution_count": 5,
   "metadata": {},
   "outputs": [],
   "source": [
    "import tensorflow as tf\n",
    "import time as time\n",
    "\n",
    "def perform_test(device, size):\n",
    "    with tf.device(device):\n",
    "        W = tf.random_normal([size,size], name='W')\n",
    "        X = tf.random_normal([size,size], name='X')\n",
    "        mul = tf.matmul(W, X, name='mul')\n",
    "        sum_result = tf.reduce_sum(mul, name='sum')\n",
    "    \n",
    "    start_time = time.time()\n",
    "    tfconfig = tf.ConfigProto(log_device_placement=True)\n",
    "    with tf.Session() as sess:\n",
    "        result = sess.run(sum_result)\n",
    "        \n",
    "    take_time = time.time() - start_time\n",
    "    print(f'device : {device} ; size : {size} ; time : {take_time}')\n",
    "    \n",
    "    return take_time"
   ]
  },
  {
   "cell_type": "code",
   "execution_count": 6,
   "metadata": {},
   "outputs": [
    {
     "name": "stdout",
     "output_type": "stream",
     "text": [
      "device : /gpu:0 ; size : 1000 ; time : 0.07903528213500977\n",
      "device : /cpu:0 ; size : 1000 ; time : 0.1186830997467041\n"
     ]
    }
   ],
   "source": [
    "g = perform_test('/gpu:0',1000)\n",
    "c = perform_test('/cpu:0',1000)"
   ]
  },
  {
   "cell_type": "markdown",
   "metadata": {},
   "source": [
    "## 繪圖測試"
   ]
  },
  {
   "cell_type": "code",
   "execution_count": 7,
   "metadata": {},
   "outputs": [
    {
     "name": "stdout",
     "output_type": "stream",
     "text": [
      "device : /cpu:0 ; size : 0 ; time : 0.07148027420043945\n",
      "device : /gpu:0 ; size : 0 ; time : 0.07914304733276367\n",
      "device : /cpu:0 ; size : 1000 ; time : 0.1365981101989746\n",
      "device : /gpu:0 ; size : 1000 ; time : 0.0797581672668457\n",
      "device : /cpu:0 ; size : 2000 ; time : 0.36603355407714844\n",
      "device : /gpu:0 ; size : 2000 ; time : 0.09347033500671387\n",
      "device : /cpu:0 ; size : 3000 ; time : 1.045750617980957\n",
      "device : /gpu:0 ; size : 3000 ; time : 0.12840771675109863\n",
      "device : /cpu:0 ; size : 4000 ; time : 1.9819138050079346\n",
      "device : /gpu:0 ; size : 4000 ; time : 0.20162343978881836\n",
      "device : /cpu:0 ; size : 5000 ; time : 3.453108310699463\n",
      "device : /gpu:0 ; size : 5000 ; time : 0.31768035888671875\n",
      "device : /cpu:0 ; size : 6000 ; time : 5.525491952896118\n",
      "device : /gpu:0 ; size : 6000 ; time : 0.5081019401550293\n"
     ]
    },
    {
     "data": {
      "image/png": "[encoded data removed]",
      "text/plain": [
       "<Figure size 432x288 with 1 Axes>"
      ]
     },
     "metadata": {
      "needs_background": "light"
     },
     "output_type": "display_data"
    }
   ],
   "source": [
    "%matplotlib inline\n",
    "import matplotlib.pyplot as plt\n",
    "i_list=[]; cpu_list=[]; gpu_list=[];\n",
    "\n",
    "for i in range(0,6001,1000):\n",
    "    i_list.append(i)\n",
    "    cpu_list.append(perform_test('/cpu:0',i))\n",
    "    gpu_list.append(perform_test('/gpu:0',i))\n",
    "    \n",
    "\n",
    "plt.plot(i_list, cpu_list, label='cpu')\n",
    "plt.plot(i_list, gpu_list, label='gpu')\n",
    "plt.show()"
   ]
  },
  {
   "cell_type": "code",
   "execution_count": null,
   "metadata": {},
   "outputs": [],
   "source": []
  }
 ],
 "metadata": {
  "kernelspec": {
   "display_name": "my-project",
   "language": "python",
   "name": "my-project"
  },
  "language_info": {
   "codemirror_mode": {
    "name": "ipython",
    "version": 3
   },
   "file_extension": ".py",
   "mimetype": "text/x-python",
   "name": "python",
   "nbconvert_exporter": "python",
   "pygments_lexer": "ipython3",
   "version": "3.6.5"
  }
 },
 "nbformat": 4,
 "nbformat_minor": 2
}
