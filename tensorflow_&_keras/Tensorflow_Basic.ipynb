{
 "cells": [
  {
   "cell_type": "markdown",
   "metadata": {},
   "source": [
    "# Tensorflow Basic"
   ]
  },
  {
   "cell_type": "markdown",
   "metadata": {},
   "source": [
    "## <font color='dark'>Declaration</font>"
   ]
  },
  {
   "cell_type": "markdown",
   "metadata": {},
   "source": [
    "### make the constant"
   ]
  },
  {
   "cell_type": "code",
   "execution_count": 1,
   "metadata": {},
   "outputs": [
    {
     "data": {
      "text/plain": [
       "<tf.Tensor 'ts_c:0' shape=() dtype=int32>"
      ]
     },
     "execution_count": 1,
     "metadata": {},
     "output_type": "execute_result"
    }
   ],
   "source": [
    "import tensorflow as tf\n",
    "ts_c = tf.constant(2,name='ts_c')\n",
    "ts_c"
   ]
  },
  {
   "cell_type": "markdown",
   "metadata": {},
   "source": [
    "### make the variable"
   ]
  },
  {
   "cell_type": "code",
   "execution_count": 2,
   "metadata": {},
   "outputs": [
    {
     "data": {
      "text/plain": [
       "<tf.Variable 'ts_x:0' shape=() dtype=int32_ref>"
      ]
     },
     "execution_count": 2,
     "metadata": {},
     "output_type": "execute_result"
    }
   ],
   "source": [
    "ts_x = tf.Variable(ts_c+5,name='ts_x')\n",
    "ts_x"
   ]
  },
  {
   "cell_type": "markdown",
   "metadata": {},
   "source": [
    "## <font color='dark'>Excute the computational graph</font>"
   ]
  },
  {
   "cell_type": "markdown",
   "metadata": {},
   "source": [
    "開啟我們的 Session"
   ]
  },
  {
   "cell_type": "code",
   "execution_count": 3,
   "metadata": {},
   "outputs": [],
   "source": [
    "sess = tf.Session()"
   ]
  },
  {
   "cell_type": "code",
   "execution_count": 4,
   "metadata": {},
   "outputs": [],
   "source": [
    "# 起始化所有的 tensorflow global 變數\n",
    "init = tf.global_variables_initializer()\n",
    "\n",
    "sess.run(init)"
   ]
  },
  {
   "cell_type": "code",
   "execution_count": 5,
   "metadata": {},
   "outputs": [
    {
     "name": "stdout",
     "output_type": "stream",
     "text": [
      "ts_c :  2\n",
      "ts_x :  7\n"
     ]
    }
   ],
   "source": [
    "# Way 1\n",
    "\n",
    "print('ts_c : ',sess.run(ts_c))\n",
    "print('ts_x : ',sess.run(ts_x))"
   ]
  },
  {
   "cell_type": "code",
   "execution_count": 6,
   "metadata": {},
   "outputs": [
    {
     "name": "stdout",
     "output_type": "stream",
     "text": [
      "ts_c :  2\n",
      "ts_x :  7\n"
     ]
    }
   ],
   "source": [
    "# Way 2\n",
    "\n",
    "print('ts_c : ',ts_c.eval(session=sess))\n",
    "print('ts_x : ',ts_x.eval(session=sess))"
   ]
  },
  {
   "cell_type": "code",
   "execution_count": 7,
   "metadata": {},
   "outputs": [],
   "source": [
    "sess.close()"
   ]
  },
  {
   "cell_type": "markdown",
   "metadata": {},
   "source": [
    "### You also can use **with** to start the session "
   ]
  },
  {
   "cell_type": "code",
   "execution_count": 8,
   "metadata": {},
   "outputs": [
    {
     "name": "stdout",
     "output_type": "stream",
     "text": [
      "ts_c :  2\n",
      "ts_x :  7\n"
     ]
    }
   ],
   "source": [
    "import tensorflow as tf\n",
    "\n",
    "ts_c = tf.constant(2,name='ts_c')\n",
    "ts_x = tf.Variable(ts_c+5,name='ts_x')\n",
    "\n",
    "sess = tf.Session()\n",
    "init = tf.global_variables_initializer()\n",
    "sess.run(init)\n",
    "print('ts_c : ',sess.run(ts_c))\n",
    "print('ts_x : ',sess.run(ts_x))\n",
    "sess.close()"
   ]
  },
  {
   "cell_type": "code",
   "execution_count": 9,
   "metadata": {},
   "outputs": [
    {
     "name": "stdout",
     "output_type": "stream",
     "text": [
      "ts_c :  2\n",
      "ts_x :  7\n"
     ]
    }
   ],
   "source": [
    "import tensorflow as tf\n",
    "\n",
    "ts_c = tf.constant(2,name='ts_c')\n",
    "ts_x = tf.Variable(ts_c+5,name='ts_x')\n",
    "with tf.Session() as sess:\n",
    "    init = tf.global_variables_initializer()\n",
    "    sess.run(init)\n",
    "    print('ts_c : ',sess.run(ts_c))\n",
    "    print('ts_x : ',sess.run(ts_x))"
   ]
  },
  {
   "cell_type": "markdown",
   "metadata": {},
   "source": [
    "## <font color='dark'>Tensorflow placeholder</font>"
   ]
  },
  {
   "cell_type": "markdown",
   "metadata": {},
   "source": [
    "有時候我們想要用到再指定數值，這時我們就可以使用 placeholder "
   ]
  },
  {
   "cell_type": "code",
   "execution_count": 10,
   "metadata": {},
   "outputs": [],
   "source": [
    "width = tf.placeholder('int32')\n",
    "height = tf.placeholder('int32')\n",
    "area = tf.multiply(width,height)"
   ]
  },
  {
   "cell_type": "code",
   "execution_count": 11,
   "metadata": {},
   "outputs": [
    {
     "name": "stdout",
     "output_type": "stream",
     "text": [
      "area =  600\n"
     ]
    }
   ],
   "source": [
    "with tf.Session() as sess:\n",
    "    init = tf.global_variables_initializer()\n",
    "    sess.run(init)\n",
    "    print('area = ',sess.run(area,feed_dict={width:30,height:20}))"
   ]
  },
  {
   "cell_type": "markdown",
   "metadata": {},
   "source": [
    "## <font color=\"dark\">Tensorflow numeric operation</font>"
   ]
  },
  {
   "cell_type": "code",
   "execution_count": 12,
   "metadata": {},
   "outputs": [
    {
     "name": "stdout",
     "output_type": "stream",
     "text": [
      "tf_1 + tf_2 =  15.0\n",
      "tf_1 - tf_2 =  -5.0\n",
      "tf_1 * tf_2 =  50.0\n",
      "tf_1 / tf_2 =  0.5\n",
      "tf_1 / tf_2 餘數 :  5.0\n",
      "tf_1 開根號 :  2.236068\n",
      "tf_1 絕對值 =  5.0\n"
     ]
    }
   ],
   "source": [
    "tf_1 = tf.constant(5.0,name='tf_1')\n",
    "tf_2 = tf.Variable(tf_1+5.0,name='tf_2')\n",
    "\n",
    "with tf.Session() as sess:\n",
    "    init = tf.global_variables_initializer()\n",
    "    sess.run(init)\n",
    "    print( 'tf_1 + tf_2 = ',sess.run(tf.add(tf_1,tf_2)) )\n",
    "    print( 'tf_1 - tf_2 = ',sess.run(tf.subtract(tf_1,tf_2)))\n",
    "    print( 'tf_1 * tf_2 = ',sess.run(tf.multiply(tf_1,tf_2)))\n",
    "    print( 'tf_1 / tf_2 = ',sess.run(tf.divide(tf_1,tf_2)))\n",
    "    print( 'tf_1 / tf_2 餘數 : ',sess.run(tf.mod(tf_1,tf_2)))\n",
    "    print( 'tf_1 開根號 : ',sess.run(tf.sqrt(tf_1)) )\n",
    "    print( 'tf_1 絕對值 = ',sess.run(tf.abs(tf_1)) )"
   ]
  },
  {
   "cell_type": "markdown",
   "metadata": {},
   "source": [
    "## <font color='dark'>Tensorboard</font>"
   ]
  },
  {
   "cell_type": "code",
   "execution_count": 13,
   "metadata": {},
   "outputs": [
    {
     "name": "stdout",
     "output_type": "stream",
     "text": [
      "area :  48\n"
     ]
    }
   ],
   "source": [
    "# This is a simple tensorflow example\n",
    "\n",
    "width = tf.placeholder(\"int32\",name='width')\n",
    "height = tf.placeholder(\"int32\",name='height')\n",
    "area = tf.multiply(width,height,name='area')\n",
    "\n",
    "with tf.Session() as sess:\n",
    "    init = tf.global_variables_initializer()\n",
    "    print(\"area : \",sess.run(area,feed_dict={width:6,height:8}))"
   ]
  },
  {
   "cell_type": "code",
   "execution_count": 14,
   "metadata": {},
   "outputs": [],
   "source": [
    "# 將寫入的資料做整合\n",
    "tf.summary.merge_all()\n",
    "# 將所有的資料寫入 log 檔中，之後我們在打以下指令便可開啟 Tensorboard 看我們的視覺化模型\n",
    "# tensorboard  --logdir=c:\\Users\\azaz4\\Desktop\\tensorflow\\log\\area  (寫下你的檔案路徑)\n",
    "\n",
    "train_wirter = tf.summary.FileWriter('log/area',sess.graph)"
   ]
  },
  {
   "cell_type": "markdown",
   "metadata": {},
   "source": [
    "## <font color='dark'>Make 1D and 2D array by tensorflow</font>"
   ]
  },
  {
   "cell_type": "code",
   "execution_count": 15,
   "metadata": {},
   "outputs": [
    {
     "name": "stdout",
     "output_type": "stream",
     "text": [
      "WARNING:tensorflow:From C:\\Users\\azaz4\\.conda\\envs\\tf-gpu\\lib\\site-packages\\tensorflow\\python\\util\\tf_should_use.py:118: initialize_all_variables (from tensorflow.python.ops.variables) is deprecated and will be removed after 2017-03-02.\n",
      "Instructions for updating:\n",
      "Use `tf.global_variables_initializer` instead.\n",
      "[0.2 3.  5.3]\n",
      "The shape of array :  (3,)\n"
     ]
    }
   ],
   "source": [
    "One_D = tf.Variable([0.2, 3, 5.3],name='One_D')\n",
    "\n",
    "with tf.Session() as sess:\n",
    "    init = tf.initialize_all_variables()\n",
    "    sess.run(init)\n",
    "    array = sess.run(One_D)\n",
    "    print(array)\n",
    "    print(\"The shape of array : \",array.shape)"
   ]
  },
  {
   "cell_type": "code",
   "execution_count": 16,
   "metadata": {},
   "outputs": [
    {
     "name": "stdout",
     "output_type": "stream",
     "text": [
      "[[ 0 12 41]\n",
      " [13  2 11]\n",
      " [ 1 67 32]]\n",
      "The shape of array :  (3, 3)\n"
     ]
    }
   ],
   "source": [
    "Two_D = tf.Variable([[0,12,41],\n",
    "                     [13,2,11],\n",
    "                     [1,67,32]],name='Two_D')\n",
    "\n",
    "with tf.Session() as sess:\n",
    "    init = tf.initialize_all_variables()\n",
    "    sess.run(init)\n",
    "    array = sess.run(Two_D)\n",
    "    print(array)\n",
    "    print(\"The shape of array : \",array.shape)"
   ]
  },
  {
   "cell_type": "markdown",
   "metadata": {},
   "source": [
    "## <font color=\"dark\">Array operation</font>"
   ]
  },
  {
   "cell_type": "markdown",
   "metadata": {},
   "source": [
    "### multiply"
   ]
  },
  {
   "cell_type": "code",
   "execution_count": 17,
   "metadata": {},
   "outputs": [
    {
     "name": "stdout",
     "output_type": "stream",
     "text": [
      "Ans =  [[ 8.2 19.  13.6]]\n"
     ]
    }
   ],
   "source": [
    "x = tf.Variable([[1.,2.,3.]]) # 1  array 要乘，記得外面多加 [ ] ，這樣 shape 才是 (1,3)\n",
    "y = tf.Variable([[3,12,5.6],\n",
    "                 [1.1,2,4],\n",
    "                 [1,1,0]])\n",
    "\n",
    "ans = tf.matmul(x,y)\n",
    "\n",
    "with tf.Session() as sess:\n",
    "    init = tf.global_variables_initializer()\n",
    "    sess.run(init)\n",
    "    print(\"Ans = \", sess.run(ans))"
   ]
  },
  {
   "cell_type": "code",
   "execution_count": 18,
   "metadata": {},
   "outputs": [
    {
     "name": "stdout",
     "output_type": "stream",
     "text": [
      "Ans =  [[5.  7.  9. ]\n",
      " [2.1 4.  7. ]\n",
      " [2.  3.  3. ]]\n"
     ]
    }
   ],
   "source": [
    "x = tf.Variable([[1.,2.,3.]]) \n",
    "y = tf.Variable([[4,5,6],\n",
    "                 [1.1,2,4],\n",
    "                 [1,1,0]])\n",
    "\n",
    "ans = y+x\n",
    "\n",
    "with tf.Session() as sess:\n",
    "    init = tf.global_variables_initializer()\n",
    "    sess.run(init)\n",
    "    print(\"Ans = \", sess.run(ans))"
   ]
  }
 ],
 "metadata": {
  "kernelspec": {
   "display_name": "Python 3",
   "language": "python",
   "name": "python3"
  },
  "language_info": {
   "codemirror_mode": {
    "name": "ipython",
    "version": 3
   },
   "file_extension": ".py",
   "mimetype": "text/x-python",
   "name": "python",
   "nbconvert_exporter": "python",
   "pygments_lexer": "ipython3",
   "version": "3.6.5"
  }
 },
 "nbformat": 4,
 "nbformat_minor": 4
}
