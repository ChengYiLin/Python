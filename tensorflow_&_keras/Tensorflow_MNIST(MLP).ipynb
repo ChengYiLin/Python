{
 "cells": [
  {
   "cell_type": "markdown",
   "metadata": {},
   "source": [
    "# Tensorflow MNIST (using MLP)"
   ]
  },
  {
   "cell_type": "markdown",
   "metadata": {},
   "source": [
    "## <font color='dark'>Import</font>"
   ]
  },
  {
   "cell_type": "code",
   "execution_count": 1,
   "metadata": {},
   "outputs": [],
   "source": [
    "import tensorflow as tf\n",
    "import numpy as np\n",
    "import matplotlib.pyplot as plt\n",
    "import tensorflow.examples.tutorials.mnist.input_data as input_data\n",
    "%matplotlib inline"
   ]
  },
  {
   "cell_type": "markdown",
   "metadata": {},
   "source": [
    "## <font color='dark'>Load data</font>"
   ]
  },
  {
   "cell_type": "code",
   "execution_count": 2,
   "metadata": {},
   "outputs": [
    {
     "name": "stdout",
     "output_type": "stream",
     "text": [
      "WARNING:tensorflow:From <ipython-input-2-758d29429358>:1: read_data_sets (from tensorflow.contrib.learn.python.learn.datasets.mnist) is deprecated and will be removed in a future version.\n",
      "Instructions for updating:\n",
      "Please use alternatives such as official/mnist/dataset.py from tensorflow/models.\n",
      "WARNING:tensorflow:From C:\\Users\\azaz4\\.conda\\envs\\tf-gpu\\lib\\site-packages\\tensorflow\\contrib\\learn\\python\\learn\\datasets\\mnist.py:260: maybe_download (from tensorflow.contrib.learn.python.learn.datasets.base) is deprecated and will be removed in a future version.\n",
      "Instructions for updating:\n",
      "Please write your own downloading logic.\n",
      "WARNING:tensorflow:From C:\\Users\\azaz4\\.conda\\envs\\tf-gpu\\lib\\site-packages\\tensorflow\\contrib\\learn\\python\\learn\\datasets\\mnist.py:262: extract_images (from tensorflow.contrib.learn.python.learn.datasets.mnist) is deprecated and will be removed in a future version.\n",
      "Instructions for updating:\n",
      "Please use tf.data to implement this functionality.\n",
      "Extracting MNIST_data/train-images-idx3-ubyte.gz\n",
      "WARNING:tensorflow:From C:\\Users\\azaz4\\.conda\\envs\\tf-gpu\\lib\\site-packages\\tensorflow\\contrib\\learn\\python\\learn\\datasets\\mnist.py:267: extract_labels (from tensorflow.contrib.learn.python.learn.datasets.mnist) is deprecated and will be removed in a future version.\n",
      "Instructions for updating:\n",
      "Please use tf.data to implement this functionality.\n",
      "Extracting MNIST_data/train-labels-idx1-ubyte.gz\n",
      "WARNING:tensorflow:From C:\\Users\\azaz4\\.conda\\envs\\tf-gpu\\lib\\site-packages\\tensorflow\\contrib\\learn\\python\\learn\\datasets\\mnist.py:110: dense_to_one_hot (from tensorflow.contrib.learn.python.learn.datasets.mnist) is deprecated and will be removed in a future version.\n",
      "Instructions for updating:\n",
      "Please use tf.one_hot on tensors.\n",
      "Extracting MNIST_data/t10k-images-idx3-ubyte.gz\n",
      "Extracting MNIST_data/t10k-labels-idx1-ubyte.gz\n",
      "WARNING:tensorflow:From C:\\Users\\azaz4\\.conda\\envs\\tf-gpu\\lib\\site-packages\\tensorflow\\contrib\\learn\\python\\learn\\datasets\\mnist.py:290: DataSet.__init__ (from tensorflow.contrib.learn.python.learn.datasets.mnist) is deprecated and will be removed in a future version.\n",
      "Instructions for updating:\n",
      "Please use alternatives such as official/mnist/dataset.py from tensorflow/models.\n"
     ]
    }
   ],
   "source": [
    "mnist = input_data.read_data_sets(\"MNIST_data/\",one_hot=True)"
   ]
  },
  {
   "cell_type": "code",
   "execution_count": 3,
   "metadata": {},
   "outputs": [
    {
     "name": "stdout",
     "output_type": "stream",
     "text": [
      "train :  55000\n",
      "validation :  5000\n",
      "test :  10000\n"
     ]
    }
   ],
   "source": [
    "print('train : ',mnist.train.num_examples)\n",
    "print('validation : ',mnist.validation.num_examples)\n",
    "print('test : ',mnist.test.num_examples)"
   ]
  },
  {
   "cell_type": "code",
   "execution_count": 4,
   "metadata": {},
   "outputs": [
    {
     "name": "stdout",
     "output_type": "stream",
     "text": [
      "train image :  (55000, 784)\n",
      "test image :  (10000, 784)\n",
      "train label :  (55000, 10)\n",
      "test label :  (10000, 10)\n"
     ]
    }
   ],
   "source": [
    "print('train image : ',mnist.train.images.shape)\n",
    "print('test image : ',mnist.test.images.shape)\n",
    "print('train label : ',mnist.train.labels.shape)\n",
    "print('test label : ',mnist.test.labels.shape)"
   ]
  },
  {
   "cell_type": "markdown",
   "metadata": {},
   "source": [
    "### plot data"
   ]
  },
  {
   "cell_type": "code",
   "execution_count": 5,
   "metadata": {},
   "outputs": [],
   "source": [
    "def plot_data(image,title=None):\n",
    "    plt.figure(figsize=(3,3))\n",
    "    plt.imshow(image.reshape(28,28),cmap='binary')\n",
    "    plt.title(title)\n",
    "    plt.show()"
   ]
  },
  {
   "cell_type": "code",
   "execution_count": 6,
   "metadata": {},
   "outputs": [
    {
     "data": {
      "image/png": "[encoded data removed]",
      "text/plain": [
       "<Figure size 216x216 with 1 Axes>"
      ]
     },
     "metadata": {
      "needs_background": "light"
     },
     "output_type": "display_data"
    }
   ],
   "source": [
    "plot_data(mnist.train.images[0],np.argmax(mnist.train.labels[0]))"
   ]
  },
  {
   "cell_type": "markdown",
   "metadata": {},
   "source": [
    "### plot multiple images"
   ]
  },
  {
   "cell_type": "code",
   "execution_count": 7,
   "metadata": {},
   "outputs": [],
   "source": [
    "def plot_multiple_images(images,labels,prediction,idx,num=10):\n",
    "    plt.figure(figsize=(14,12))\n",
    "    if num>25: num=25\n",
    "    for i in range(num):\n",
    "        plt.subplot(5,5,i+1)\n",
    "        plt.imshow(np.reshape(images[idx],(28,28)),cmap='binary')\n",
    "        title = \"label : \" + str(np.argmax(labels[idx]))\n",
    "        if len(prediction)>0:\n",
    "            title += \",predict : \"+str(prediction[idx])\n",
    "        plt.title(title)\n",
    "        plt.xticks([]);plt.yticks([])\n",
    "        idx+=1\n",
    "    plt.show()"
   ]
  },
  {
   "cell_type": "code",
   "execution_count": 8,
   "metadata": {},
   "outputs": [
    {
     "data": {
      "image/png": "[encoded data removed]",
      "text/plain": [
       "<Figure size 1008x864 with 10 Axes>"
      ]
     },
     "metadata": {},
     "output_type": "display_data"
    }
   ],
   "source": [
    "plot_multiple_images(mnist.train.images, mnist.train.labels, [],0)"
   ]
  },
  {
   "cell_type": "code",
   "execution_count": 9,
   "metadata": {},
   "outputs": [
    {
     "data": {
      "image/png": "[encoded data removed]",
      "text/plain": [
       "<Figure size 1008x864 with 10 Axes>"
      ]
     },
     "metadata": {},
     "output_type": "display_data"
    }
   ],
   "source": [
    "plot_multiple_images(mnist.validation.images, mnist.validation.labels, [],0)"
   ]
  },
  {
   "cell_type": "code",
   "execution_count": 10,
   "metadata": {},
   "outputs": [
    {
     "data": {
      "image/png": "[encoded data removed]",
      "text/plain": [
       "<Figure size 1008x864 with 10 Axes>"
      ]
     },
     "metadata": {},
     "output_type": "display_data"
    }
   ],
   "source": [
    "plot_multiple_images(mnist.test.images, mnist.test.labels, [],0)"
   ]
  },
  {
   "cell_type": "code",
   "execution_count": 11,
   "metadata": {},
   "outputs": [],
   "source": [
    "# 批次讀取資料，每次只讀取 100 筆\n",
    "\n",
    "batch_images_xs, batch_labels_ys = mnist.train.next_batch(batch_size=100)"
   ]
  },
  {
   "cell_type": "code",
   "execution_count": 12,
   "metadata": {},
   "outputs": [
    {
     "name": "stdout",
     "output_type": "stream",
     "text": [
      "batch images :  (100, 784)\n",
      "batch labels :  (100, 10)\n"
     ]
    }
   ],
   "source": [
    "print('batch images : ',batch_images_xs.shape)\n",
    "print('batch labels : ',batch_labels_ys.shape)"
   ]
  },
  {
   "cell_type": "code",
   "execution_count": 13,
   "metadata": {},
   "outputs": [
    {
     "data": {
      "image/png": "[encoded data removed]",
      "text/plain": [
       "<Figure size 1008x864 with 10 Axes>"
      ]
     },
     "metadata": {},
     "output_type": "display_data"
    }
   ],
   "source": [
    "plot_multiple_images(batch_images_xs,batch_labels_ys,[],0)"
   ]
  },
  {
   "cell_type": "markdown",
   "metadata": {},
   "source": [
    "## <font color='dark'>Build the model</font>"
   ]
  },
  {
   "cell_type": "markdown",
   "metadata": {},
   "source": [
    "不同於 keras 的 model Sequession，我們必須先自行定義 layer 的函數才能建立一層層模型"
   ]
  },
  {
   "cell_type": "code",
   "execution_count": 14,
   "metadata": {},
   "outputs": [],
   "source": [
    "def layer(output_dim, input_dim, inputs, activation=None):\n",
    "    w = tf.Variable(tf.random_normal([input_dim,output_dim]))\n",
    "    b = tf.Variable(tf.random_normal([1,output_dim]))\n",
    "    xwb = tf.matmul(inputs,w)+b\n",
    "    if activation is None:\n",
    "        outputs = xwb\n",
    "    else:\n",
    "        outputs = activation(xwb)\n",
    "    return outputs"
   ]
  },
  {
   "cell_type": "markdown",
   "metadata": {},
   "source": [
    "接下來我們就來一層層堆我們的 model"
   ]
  },
  {
   "cell_type": "code",
   "execution_count": 15,
   "metadata": {},
   "outputs": [],
   "source": [
    "# 首先建立輸入層\n",
    "X = tf.placeholder('float',[None,784])"
   ]
  },
  {
   "cell_type": "code",
   "execution_count": 16,
   "metadata": {},
   "outputs": [],
   "source": [
    "# 再來建立隱藏層\n",
    "h1 = layer(output_dim=1000,input_dim=784,inputs=X,activation=tf.nn.relu)"
   ]
  },
  {
   "cell_type": "code",
   "execution_count": 17,
   "metadata": {},
   "outputs": [],
   "source": [
    "# 再來建立第二層隱藏層\n",
    "h2 = layer(output_dim=1000,input_dim=1000,inputs=h1,activation=tf.nn.relu)"
   ]
  },
  {
   "cell_type": "code",
   "execution_count": 18,
   "metadata": {},
   "outputs": [],
   "source": [
    "# 最後建立輸出層\n",
    "y_predict = layer(output_dim=10,input_dim=1000,inputs=h2)"
   ]
  },
  {
   "cell_type": "markdown",
   "metadata": {},
   "source": [
    "### Define the training way"
   ]
  },
  {
   "cell_type": "markdown",
   "metadata": {},
   "source": [
    "不像 keras 只要使用 model.compile 填 loss function、optimizer、評估模型方式 就好<br>\n",
    "tensorflow 我們要自己去定義\n",
    "* loss function \n",
    "* optimizer\n",
    "* 評估模型的方式 (例如:accuracy)"
   ]
  },
  {
   "cell_type": "markdown",
   "metadata": {},
   "source": [
    "首先我們要先定義資料的 label 真實值"
   ]
  },
  {
   "cell_type": "code",
   "execution_count": 19,
   "metadata": {},
   "outputs": [],
   "source": [
    "y_label = tf.placeholder(\"float\",[None,10])"
   ]
  },
  {
   "cell_type": "markdown",
   "metadata": {},
   "source": [
    "**定義 loss function**"
   ]
  },
  {
   "cell_type": "code",
   "execution_count": 20,
   "metadata": {},
   "outputs": [],
   "source": [
    "# reduce_mean : 將下列 cross entropy 計算結果 做 平均\n",
    "# logist : 參數為預測值 ; labels : 參數為真實質\n",
    "\n",
    "loss_function = tf.reduce_mean(tf.nn.softmax_cross_entropy_with_logits_v2(logits=y_predict,labels=y_label))"
   ]
  },
  {
   "cell_type": "markdown",
   "metadata": {},
   "source": [
    "**定義 optimizer**"
   ]
  },
  {
   "cell_type": "code",
   "execution_count": 21,
   "metadata": {},
   "outputs": [],
   "source": [
    "# optimizer 使用 loss(誤差) 來更新模型的 權重(weight) 和 偏差(bias)，使 誤差(loss) 最小化\n",
    "\n",
    "optimizer = tf.train.AdamOptimizer(learning_rate=0.001).minimize(loss_function)"
   ]
  },
  {
   "cell_type": "markdown",
   "metadata": {},
   "source": [
    "接下來我們定義評估模型的方式 --> Accuracy"
   ]
  },
  {
   "cell_type": "markdown",
   "metadata": {},
   "source": [
    "**去計算每一筆資料是否正確**"
   ]
  },
  {
   "cell_type": "code",
   "execution_count": 22,
   "metadata": {},
   "outputs": [],
   "source": [
    "# 用 tf.equal 來判斷(真實值)與(預測值)是否相等，相等回傳 1，不同回傳 0\n",
    "# 因為我們用 Onehot encoding 來 label ， 所以使用 tf.arg_max 來轉換成數字\n",
    "\n",
    "correct_prediction = tf.equal( tf.argmax(y_label,1),tf.argmax(y_predict,1) )"
   ]
  },
  {
   "cell_type": "code",
   "execution_count": 23,
   "metadata": {},
   "outputs": [],
   "source": [
    "# 先用 tf.cast 轉換型式成 float，再將所有 結果(每筆資料不是0就是1) 做平均\n",
    "\n",
    "accuracy = tf.reduce_mean( tf.cast(correct_prediction,\"float\") )"
   ]
  },
  {
   "cell_type": "markdown",
   "metadata": {},
   "source": [
    "## <font color='dark'>Train the model</font>"
   ]
  },
  {
   "cell_type": "markdown",
   "metadata": {},
   "source": [
    "Tensorflow 必須撰寫程式碼來放入資料進去訓練模型，首先我們必須來定義訓練的參數"
   ]
  },
  {
   "cell_type": "code",
   "execution_count": 24,
   "metadata": {},
   "outputs": [],
   "source": [
    "trainEpochs = 15  # 訓練 15 次的週期\n",
    "batchSize = 100   # 每一批次的資料量為 100\n",
    "\n",
    "# total batch 是算每一次的訓練週期(epoch)，需要有多少批次，我們每一批次是 100，就總數除以100\n",
    "total_batch = int(mnist.train.num_examples)/batchSize  \n",
    "\n",
    "loss_list = []; epoch_list = []; accuracy_list = [];   # 紀錄 誤差 與 準確率\n",
    "\n",
    "from time import time  # 去計算訓練時間用的\n",
    "startTime = time()"
   ]
  },
  {
   "cell_type": "code",
   "execution_count": 25,
   "metadata": {},
   "outputs": [
    {
     "data": {
      "text/plain": [
       "550.0"
      ]
     },
     "execution_count": 25,
     "metadata": {},
     "output_type": "execute_result"
    }
   ],
   "source": [
    "total_batch"
   ]
  },
  {
   "cell_type": "markdown",
   "metadata": {},
   "source": [
    "定義完之後，開始進行訓練"
   ]
  },
  {
   "cell_type": "code",
   "execution_count": 26,
   "metadata": {},
   "outputs": [
    {
     "name": "stdout",
     "output_type": "stream",
     "text": [
      "Train Epoch :  01 Loss :  142.27548 Accuracy :  0.91400003\n",
      "Train Epoch :  02 Loss :  87.45808 Accuracy :  0.93820006\n",
      "Train Epoch :  03 Loss :  74.57784 Accuracy :  0.94600004\n",
      "Train Epoch :  04 Loss :  75.64433 Accuracy :  0.9426001\n",
      "Train Epoch :  05 Loss :  54.91997 Accuracy :  0.957\n",
      "Train Epoch :  06 Loss :  58.17215 Accuracy :  0.95620006\n",
      "Train Epoch :  07 Loss :  56.14081 Accuracy :  0.95680004\n",
      "Train Epoch :  08 Loss :  57.57777 Accuracy :  0.95580006\n",
      "Train Epoch :  09 Loss :  60.01083 Accuracy :  0.957\n",
      "Train Epoch :  10 Loss :  55.39816 Accuracy :  0.9642\n",
      "Train Epoch :  11 Loss :  54.07783 Accuracy :  0.96360004\n",
      "Train Epoch :  12 Loss :  52.45966 Accuracy :  0.96540004\n",
      "Train Epoch :  13 Loss :  56.71542 Accuracy :  0.96140003\n",
      "Train Epoch :  14 Loss :  58.44020 Accuracy :  0.96540004\n",
      "Train Epoch :  15 Loss :  48.45283 Accuracy :  0.96760005\n",
      "Train Finished takes : 48.429 sec\n"
     ]
    }
   ],
   "source": [
    "# 建立 tensorflow session 和 起使化 tensorflow global 變數\n",
    "sess = tf.Session()   \n",
    "sess.run(tf.global_variables_initializer())\n",
    "\n",
    "for epoch in range(trainEpochs):\n",
    "    for i in range(int(total_batch)):\n",
    "        batch_x, batch_y = mnist.train.next_batch(batchSize)           # 將資料批次輸入，每一批次為 100 筆資料\n",
    "        sess.run(optimizer,feed_dict={X:batch_x, y_label:batch_y})     # 最佳化的方式依照誤差值來調整 weight 和 bias\n",
    "    \n",
    "    # 所有批次訓練之後，我們使用 驗證的資料 來去算這次 epoch 的 誤差 和 準確率\n",
    "    loss,acc = sess.run( [loss_function,accuracy],feed_dict={X:mnist.validation.images,y_label:mnist.validation.labels} )\n",
    "    \n",
    "    epoch_list.append(epoch)\n",
    "    loss_list.append(loss)\n",
    "    accuracy_list.append(acc)\n",
    "    print('Train Epoch : ',\\\n",
    "          '%0.2d'%(epoch+1),\\\n",
    "          \"Loss : \",\\\n",
    "          \"%0.5f\"%(loss),\\\n",
    "          \"Accuracy : \",acc)\n",
    "\n",
    "duration = time()-startTime\n",
    "print(\"Train Finished takes : %0.3f sec\"%duration)"
   ]
  },
  {
   "cell_type": "markdown",
   "metadata": {},
   "source": [
    "## <font color='dark'>Show the accuracy</font>"
   ]
  },
  {
   "cell_type": "code",
   "execution_count": 27,
   "metadata": {},
   "outputs": [
    {
     "name": "stdout",
     "output_type": "stream",
     "text": [
      "Accuracy :  0.9667\n"
     ]
    }
   ],
   "source": [
    "print(\"Accuracy : \",sess.run(accuracy,feed_dict={X:mnist.test.images,y_label:mnist.test.labels}))"
   ]
  },
  {
   "cell_type": "markdown",
   "metadata": {},
   "source": [
    "## <font color='dark'>Predict the result</font>"
   ]
  },
  {
   "cell_type": "code",
   "execution_count": 28,
   "metadata": {},
   "outputs": [
    {
     "name": "stdout",
     "output_type": "stream",
     "text": [
      "WARNING:tensorflow:From <ipython-input-28-d0e3c6f55e03>:1: arg_max (from tensorflow.python.ops.gen_math_ops) is deprecated and will be removed in a future version.\n",
      "Instructions for updating:\n",
      "Use `argmax` instead\n"
     ]
    }
   ],
   "source": [
    "prediction_result = sess.run( tf.argmax(y_predict,1),feed_dict={X:mnist.test.images}  )"
   ]
  },
  {
   "cell_type": "code",
   "execution_count": 29,
   "metadata": {},
   "outputs": [
    {
     "data": {
      "text/plain": [
       "array([7, 2, 1, 0, 4, 1, 4, 9, 5, 9], dtype=int64)"
      ]
     },
     "execution_count": 29,
     "metadata": {},
     "output_type": "execute_result"
    }
   ],
   "source": [
    "# 我們可以看到前 10 筆的預測結果\n",
    "\n",
    "prediction_result[:10]"
   ]
  },
  {
   "cell_type": "markdown",
   "metadata": {},
   "source": [
    " "
   ]
  },
  {
   "cell_type": "markdown",
   "metadata": {},
   "source": [
    " "
   ]
  },
  {
   "cell_type": "markdown",
   "metadata": {},
   "source": [
    " "
   ]
  },
  {
   "cell_type": "markdown",
   "metadata": {},
   "source": [
    "我們可以去調整 hidden layer 的神經元數，也可以多加幾層 hidden layer，來看看怎麼調對 accuracy "
   ]
  }
 ],
 "metadata": {
  "kernelspec": {
   "display_name": "Python 3",
   "language": "python",
   "name": "python3"
  },
  "language_info": {
   "codemirror_mode": {
    "name": "ipython",
    "version": 3
   },
   "file_extension": ".py",
   "mimetype": "text/x-python",
   "name": "python",
   "nbconvert_exporter": "python",
   "pygments_lexer": "ipython3",
   "version": "3.6.5"
  }
 },
 "nbformat": 4,
 "nbformat_minor": 4
}
