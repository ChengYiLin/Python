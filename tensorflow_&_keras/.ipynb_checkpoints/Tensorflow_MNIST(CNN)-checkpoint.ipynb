{
 "cells": [
  {
   "cell_type": "markdown",
   "metadata": {},
   "source": [
    "# Tensorflow MNIST (using CNN)"
   ]
  },
  {
   "cell_type": "markdown",
   "metadata": {},
   "source": [
    "## <font color='dark'>Import</font>"
   ]
  },
  {
   "cell_type": "code",
   "execution_count": 1,
   "metadata": {},
   "outputs": [],
   "source": [
    "import tensorflow as tf\n",
    "import numpy as np\n",
    "import matplotlib.pyplot as plt\n",
    "import tensorflow.examples.tutorials.mnist.input_data as input_data\n",
    "%matplotlib inline"
   ]
  },
  {
   "cell_type": "markdown",
   "metadata": {},
   "source": [
    "## <font color='dark'>Load data</font>"
   ]
  },
  {
   "cell_type": "code",
   "execution_count": 2,
   "metadata": {},
   "outputs": [
    {
     "name": "stdout",
     "output_type": "stream",
     "text": [
      "WARNING:tensorflow:From <ipython-input-2-758d29429358>:1: read_data_sets (from tensorflow.contrib.learn.python.learn.datasets.mnist) is deprecated and will be removed in a future version.\n",
      "Instructions for updating:\n",
      "Please use alternatives such as official/mnist/dataset.py from tensorflow/models.\n",
      "WARNING:tensorflow:From C:\\Users\\azaz4\\.conda\\envs\\tf-gpu\\lib\\site-packages\\tensorflow\\contrib\\learn\\python\\learn\\datasets\\mnist.py:260: maybe_download (from tensorflow.contrib.learn.python.learn.datasets.base) is deprecated and will be removed in a future version.\n",
      "Instructions for updating:\n",
      "Please write your own downloading logic.\n",
      "WARNING:tensorflow:From C:\\Users\\azaz4\\.conda\\envs\\tf-gpu\\lib\\site-packages\\tensorflow\\contrib\\learn\\python\\learn\\datasets\\mnist.py:262: extract_images (from tensorflow.contrib.learn.python.learn.datasets.mnist) is deprecated and will be removed in a future version.\n",
      "Instructions for updating:\n",
      "Please use tf.data to implement this functionality.\n",
      "Extracting MNIST_data/train-images-idx3-ubyte.gz\n",
      "WARNING:tensorflow:From C:\\Users\\azaz4\\.conda\\envs\\tf-gpu\\lib\\site-packages\\tensorflow\\contrib\\learn\\python\\learn\\datasets\\mnist.py:267: extract_labels (from tensorflow.contrib.learn.python.learn.datasets.mnist) is deprecated and will be removed in a future version.\n",
      "Instructions for updating:\n",
      "Please use tf.data to implement this functionality.\n",
      "Extracting MNIST_data/train-labels-idx1-ubyte.gz\n",
      "WARNING:tensorflow:From C:\\Users\\azaz4\\.conda\\envs\\tf-gpu\\lib\\site-packages\\tensorflow\\contrib\\learn\\python\\learn\\datasets\\mnist.py:110: dense_to_one_hot (from tensorflow.contrib.learn.python.learn.datasets.mnist) is deprecated and will be removed in a future version.\n",
      "Instructions for updating:\n",
      "Please use tf.one_hot on tensors.\n",
      "Extracting MNIST_data/t10k-images-idx3-ubyte.gz\n",
      "Extracting MNIST_data/t10k-labels-idx1-ubyte.gz\n",
      "WARNING:tensorflow:From C:\\Users\\azaz4\\.conda\\envs\\tf-gpu\\lib\\site-packages\\tensorflow\\contrib\\learn\\python\\learn\\datasets\\mnist.py:290: DataSet.__init__ (from tensorflow.contrib.learn.python.learn.datasets.mnist) is deprecated and will be removed in a future version.\n",
      "Instructions for updating:\n",
      "Please use alternatives such as official/mnist/dataset.py from tensorflow/models.\n"
     ]
    }
   ],
   "source": [
    "mnist = input_data.read_data_sets(\"MNIST_data/\",one_hot=True)"
   ]
  },
  {
   "cell_type": "markdown",
   "metadata": {},
   "source": [
    "## <font color='dark'>Build the Function used in model</font>"
   ]
  },
  {
   "cell_type": "code",
   "execution_count": 3,
   "metadata": {},
   "outputs": [],
   "source": [
    "# 隨機方式初始化我們的 權重(weight)，使用 tf.truncated_normal, 指定標準差為 0.1\n",
    "\n",
    "def weight(shape):\n",
    "    return tf.Variable(tf.truncated_normal(shape,stddev=0.1), name='W')"
   ]
  },
  {
   "cell_type": "code",
   "execution_count": 4,
   "metadata": {},
   "outputs": [],
   "source": [
    "# 使用 tf.constant 建立常數，再用 tf.variable 建立變數回傳\n",
    "\n",
    "def bias(shape):\n",
    "    return tf.Variable(tf.constant(0.1,shape=shape), name='b')"
   ]
  },
  {
   "cell_type": "code",
   "execution_count": 5,
   "metadata": {},
   "outputs": [],
   "source": [
    "# 進行卷積運算，相當於濾鏡的意思\n",
    "# x 是輸入的影像; W 是 filter 的權重;\n",
    "# strides 為濾鏡每次移動的格數，格式為 [1,由左而右移動，由上而下移動,1]; padding 就是當 filter 超過邊界，則空缺處補 0 運算\n",
    "\n",
    "def conv2d(x,W):\n",
    "    return tf.nn.conv2d(x,W,strides=[1,1,1,1],padding='SAME')"
   ]
  },
  {
   "cell_type": "code",
   "execution_count": 6,
   "metadata": {},
   "outputs": [],
   "source": [
    "# 建立 max pooling 作池化層\n",
    "# ksize 是窗口的大小，像現在的是 2*2，格式為 [1,height, weight, 1]\n",
    "# stride 為每次窗口移動的距離，像現在是 左而右、上而下 移動 2 格，格式為 [1,stride, stride, 1]\n",
    "\n",
    "def max_pool_2x2(x):\n",
    "    return tf.nn.max_pool(x, ksize=[1,2,2,1], strides=[1,2,2,1], padding='SAME')"
   ]
  },
  {
   "cell_type": "markdown",
   "metadata": {},
   "source": [
    "## <font color='dark'>Build the model</font>"
   ]
  },
  {
   "cell_type": "markdown",
   "metadata": {},
   "source": [
    "**建立輸入層**"
   ]
  },
  {
   "cell_type": "code",
   "execution_count": 7,
   "metadata": {},
   "outputs": [],
   "source": [
    "with tf.name_scope('Input_layer'):\n",
    "    x = tf.placeholder('float',shape=[None,784],name='x')\n",
    "    x_image = tf.reshape(x, [-1,28,28,1])   # 原本是 1 維向量，因為要進行 卷積 與 池化 運算，必須轉成 4 維向量"
   ]
  },
  {
   "cell_type": "markdown",
   "metadata": {},
   "source": [
    "**建立卷積層 1**"
   ]
  },
  {
   "cell_type": "code",
   "execution_count": 8,
   "metadata": {},
   "outputs": [],
   "source": [
    "with tf.name_scope('C1_Conv'):\n",
    "    W1 = weight([5,5,1,16])          # 建立 filter weight，大小是 5*5，因為是單色只有一張因此為 1，16指要產生 16張影像\n",
    "    b1 = bias([16])                  # 建立 b1 偏差值，因為 Conv1 要產生 16 張影像，所以他的 shape 為 [16]\n",
    "    Conv1 = conv2d(x_image, W1)+b1   # 針對影像進行 卷積運算\n",
    "    C1_conv = tf.nn.relu(Conv1)      # 最後使用 relu 函數轉換我們的結果"
   ]
  },
  {
   "cell_type": "markdown",
   "metadata": {},
   "source": [
    "**建立池化層 1**"
   ]
  },
  {
   "cell_type": "code",
   "execution_count": 9,
   "metadata": {},
   "outputs": [],
   "source": [
    "with tf.name_scope('C1_Pool'):\n",
    "    C1_Pool = max_pool_2x2(C1_conv)"
   ]
  },
  {
   "cell_type": "markdown",
   "metadata": {},
   "source": [
    "**建立卷積層 2**"
   ]
  },
  {
   "cell_type": "code",
   "execution_count": 10,
   "metadata": {},
   "outputs": [],
   "source": [
    "with tf.name_scope('C2_Conv'):\n",
    "    W2 = weight([5,5,16,36])          # 建立 filter weight，大小是 5*5，單色為 1，16指要產生 16張影像\n",
    "    b1 = bias([36])                  # 建立 b1 偏差值，因為 Conv1 要產生 16 張影像，所以他的 shape 為 [16]\n",
    "    Conv2 = conv2d(C1_Pool, W2)+b1   # 針對影像進行 卷積運算\n",
    "    C2_conv = tf.nn.relu(Conv2)      # 最後使用 relu 函數轉換我們的結果"
   ]
  },
  {
   "cell_type": "markdown",
   "metadata": {},
   "source": [
    "**建立池化層 2**"
   ]
  },
  {
   "cell_type": "code",
   "execution_count": 11,
   "metadata": {},
   "outputs": [],
   "source": [
    "with tf.name_scope('C2_Pool'):\n",
    "    C2_Pool = max_pool_2x2(C2_conv)"
   ]
  },
  {
   "cell_type": "markdown",
   "metadata": {},
   "source": [
    "**建立平坦層**"
   ]
  },
  {
   "cell_type": "code",
   "execution_count": 12,
   "metadata": {},
   "outputs": [],
   "source": [
    "with tf.name_scope('D_Flat'):\n",
    "    D_Flat = tf.reshape(C2_Pool,[-1,1764])    # 1764 = 36*7*7，第一個參數為 -1 : 因為之後會放入不限定筆數的資料"
   ]
  },
  {
   "cell_type": "markdown",
   "metadata": {},
   "source": [
    "**建立隱藏層**"
   ]
  },
  {
   "cell_type": "code",
   "execution_count": 13,
   "metadata": {},
   "outputs": [],
   "source": [
    "with tf.name_scope('D_Hidden_Layer'):\n",
    "    W3 = weight([1764,128])                                     # 上層是 1764 進來，然後 hidden layer 的神經元我們設 128\n",
    "    b3 = bias([128])\n",
    "    D_Hidden = tf.nn.relu(tf.matmul(D_Flat,W3)+b3)              # D_Flat 和 W3 矩陣相乘，再加上 偏差值\n",
    "    D_Hidden_Dropout = tf.nn.dropout(D_Hidden,keep_prob=0.8)    # keep_prob 為隨機保留的比率，全保留為 1"
   ]
  },
  {
   "cell_type": "markdown",
   "metadata": {},
   "source": [
    "**建立輸出層**"
   ]
  },
  {
   "cell_type": "code",
   "execution_count": 14,
   "metadata": {},
   "outputs": [],
   "source": [
    "with tf.name_scope('Output_Layer'):\n",
    "    W4 =weight([128,10])\n",
    "    b4 = bias([10])\n",
    "    y_predict = tf.nn.softmax(tf.matmul(D_Hidden_Dropout,W4)+b4)"
   ]
  },
  {
   "cell_type": "markdown",
   "metadata": {},
   "source": [
    "## <font color='dark'>Define the training way</font>"
   ]
  },
  {
   "cell_type": "code",
   "execution_count": 15,
   "metadata": {},
   "outputs": [],
   "source": [
    "with tf.name_scope(\"optimizer\"):\n",
    "    y_label = tf.placeholder(\"float\",shape=[None,10],name=\"y_label\")\n",
    "    loss_function = tf.reduce_mean(tf.nn.softmax_cross_entropy_with_logits_v2(logits=y_predict,labels=y_label))\n",
    "    optimizer = tf.train.AdamOptimizer(learning_rate=0.0001).minimize(loss_function)"
   ]
  },
  {
   "cell_type": "markdown",
   "metadata": {},
   "source": [
    "## <font color='dark'>Define the evaluation way</font>"
   ]
  },
  {
   "cell_type": "code",
   "execution_count": 16,
   "metadata": {},
   "outputs": [],
   "source": [
    "with tf.name_scope(\"evaluate_model\"):\n",
    "    correct_prediction = tf.equal(tf.argmax(y_predict,1),tf.argmax(y_label,1))\n",
    "    accuracy = tf.reduce_mean(tf.cast(correct_prediction,\"float\"))"
   ]
  },
  {
   "cell_type": "markdown",
   "metadata": {},
   "source": [
    "## <font color='dark'>Training the model</font>"
   ]
  },
  {
   "cell_type": "code",
   "execution_count": 17,
   "metadata": {},
   "outputs": [],
   "source": [
    "trainEpochs = 30\n",
    "batchSize = 100\n",
    "totalBatchs = int(mnist.train.num_examples/batchSize)\n",
    "\n",
    "epoch_list=[];accuracy_list=[];loss_list=[];\n",
    "\n",
    "from time import time\n",
    "startTime = time()\n",
    "\n",
    "sess = tf.Session()\n",
    "sess.run(tf.global_variables_initializer())"
   ]
  },
  {
   "cell_type": "code",
   "execution_count": 18,
   "metadata": {},
   "outputs": [
    {
     "name": "stdout",
     "output_type": "stream",
     "text": [
      "Train Epoch :  01 Loss :  1.58684 Accuracy :  0.8992\n",
      "Train Epoch :  02 Loss :  1.54115 Accuracy :  0.9322\n",
      "Train Epoch :  03 Loss :  1.51773 Accuracy :  0.9524\n",
      "Train Epoch :  04 Loss :  1.50936 Accuracy :  0.9588\n",
      "Train Epoch :  05 Loss :  1.50117 Accuracy :  0.9646\n",
      "Train Epoch :  06 Loss :  1.49771 Accuracy :  0.96860003\n",
      "Train Epoch :  07 Loss :  1.49441 Accuracy :  0.9710001\n",
      "Train Epoch :  08 Loss :  1.49152 Accuracy :  0.97340006\n",
      "Train Epoch :  09 Loss :  1.48895 Accuracy :  0.9746\n",
      "Train Epoch :  10 Loss :  1.48934 Accuracy :  0.97400004\n",
      "Train Epoch :  11 Loss :  1.48724 Accuracy :  0.9768\n",
      "Train Epoch :  12 Loss :  1.48459 Accuracy :  0.97840005\n",
      "Train Epoch :  13 Loss :  1.48488 Accuracy :  0.97800004\n",
      "Train Epoch :  14 Loss :  1.48402 Accuracy :  0.9796001\n",
      "Train Epoch :  15 Loss :  1.48155 Accuracy :  0.98060006\n",
      "Train Epoch :  16 Loss :  1.48048 Accuracy :  0.98200005\n",
      "Train Epoch :  17 Loss :  1.48151 Accuracy :  0.98100007\n",
      "Train Epoch :  18 Loss :  1.47938 Accuracy :  0.98440003\n",
      "Train Epoch :  19 Loss :  1.47839 Accuracy :  0.98440003\n",
      "Train Epoch :  20 Loss :  1.47931 Accuracy :  0.98340005\n",
      "Train Epoch :  21 Loss :  1.47800 Accuracy :  0.98480004\n",
      "Train Epoch :  22 Loss :  1.47667 Accuracy :  0.98600006\n",
      "Train Epoch :  23 Loss :  1.47957 Accuracy :  0.98300004\n",
      "Train Epoch :  24 Loss :  1.47712 Accuracy :  0.98480004\n",
      "Train Epoch :  25 Loss :  1.47599 Accuracy :  0.98660004\n",
      "Train Epoch :  26 Loss :  1.47608 Accuracy :  0.98600006\n",
      "Train Epoch :  27 Loss :  1.47663 Accuracy :  0.9854\n",
      "Train Epoch :  28 Loss :  1.47643 Accuracy :  0.98520005\n",
      "Train Epoch :  29 Loss :  1.47716 Accuracy :  0.98460007\n",
      "Train Epoch :  30 Loss :  1.47513 Accuracy :  0.9872\n",
      "Train Finished takes : 239.837 sec\n"
     ]
    }
   ],
   "source": [
    "for epoch in range(trainEpochs):\n",
    "    for i in range(totalBatchs):\n",
    "        batch_x, batch_y = mnist.train.next_batch(batchSize)\n",
    "        sess.run(optimizer,feed_dict={x:batch_x,y_label:batch_y})\n",
    "    \n",
    "    loss,acc = sess.run([loss_function,accuracy],feed_dict={x:mnist.validation.images,y_label:mnist.validation.labels})\n",
    "    \n",
    "    epoch_list.append(epoch)\n",
    "    loss_list.append(loss)\n",
    "    accuracy_list.append(acc)\n",
    "    \n",
    "    print('Train Epoch : ',\\\n",
    "          '%0.2d'%(epoch+1),\\\n",
    "          \"Loss : \",\\\n",
    "          \"%0.5f\"%(loss),\\\n",
    "          \"Accuracy : \",acc)\n",
    "\n",
    "duration = time()-startTime\n",
    "print(\"Train Finished takes : %0.3f sec\"%duration)"
   ]
  },
  {
   "cell_type": "markdown",
   "metadata": {},
   "source": [
    "## <font color='dark'>Show the accuracy</font>"
   ]
  },
  {
   "cell_type": "code",
   "execution_count": 20,
   "metadata": {},
   "outputs": [
    {
     "name": "stdout",
     "output_type": "stream",
     "text": [
      "Accuracy :  0.98730004\n"
     ]
    }
   ],
   "source": [
    "print(\"Accuracy : \",sess.run(accuracy,feed_dict={x:mnist.test.images,y_label:mnist.test.labels}))"
   ]
  },
  {
   "cell_type": "markdown",
   "metadata": {},
   "source": [
    "## <font color='dark'>Predict the result</font>"
   ]
  },
  {
   "cell_type": "code",
   "execution_count": 22,
   "metadata": {},
   "outputs": [],
   "source": [
    "prediction_result = sess.run( tf.argmax(y_predict,1),feed_dict={x:mnist.test.images}  )"
   ]
  },
  {
   "cell_type": "code",
   "execution_count": 23,
   "metadata": {},
   "outputs": [
    {
     "data": {
      "text/plain": [
       "array([7, 2, 1, 0, 4, 1, 4, 9, 5, 9], dtype=int64)"
      ]
     },
     "execution_count": 23,
     "metadata": {},
     "output_type": "execute_result"
    }
   ],
   "source": [
    "prediction_result[:10]"
   ]
  },
  {
   "cell_type": "markdown",
   "metadata": {},
   "source": [
    "## <font color='dark'>Tensorboard</font>"
   ]
  },
  {
   "cell_type": "code",
   "execution_count": 24,
   "metadata": {},
   "outputs": [],
   "source": [
    "merged = tf.summary.merge_all()\n",
    "train_writer = tf.summary.FileWriter('log/CNN',sess.graph)"
   ]
  }
 ],
 "metadata": {
  "kernelspec": {
   "display_name": "Python 3",
   "language": "python",
   "name": "python3"
  },
  "language_info": {
   "codemirror_mode": {
    "name": "ipython",
    "version": 3
   },
   "file_extension": ".py",
   "mimetype": "text/x-python",
   "name": "python",
   "nbconvert_exporter": "python",
   "pygments_lexer": "ipython3",
   "version": "3.6.5"
  }
 },
 "nbformat": 4,
 "nbformat_minor": 4
}
