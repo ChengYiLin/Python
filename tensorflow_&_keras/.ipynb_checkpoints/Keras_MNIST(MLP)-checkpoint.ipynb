{
 "cells": [
  {
   "cell_type": "markdown",
   "metadata": {},
   "source": [
    "# Keras MNIST Dataset (Using MLP)"
   ]
  },
  {
   "cell_type": "markdown",
   "metadata": {},
   "source": [
    "## <font color='dark'>Import</font>"
   ]
  },
  {
   "cell_type": "code",
   "execution_count": 1,
   "metadata": {},
   "outputs": [
    {
     "name": "stderr",
     "output_type": "stream",
     "text": [
      "Using TensorFlow backend.\n"
     ]
    }
   ],
   "source": [
    "import tensorflow as tf\n",
    "import numpy as np\n",
    "import pandas as pd\n",
    "import matplotlib.pyplot as plt\n",
    "from keras.utils import np_utils\n",
    "%matplotlib inline"
   ]
  },
  {
   "cell_type": "markdown",
   "metadata": {},
   "source": [
    "## <font color='dark'>Load data</font>"
   ]
  },
  {
   "cell_type": "code",
   "execution_count": 2,
   "metadata": {},
   "outputs": [],
   "source": [
    "from keras.datasets import mnist\n",
    "(x_train_image, y_train_label),(x_test_image, y_test_label) = mnist.load_data()"
   ]
  },
  {
   "cell_type": "code",
   "execution_count": 3,
   "metadata": {},
   "outputs": [
    {
     "name": "stdout",
     "output_type": "stream",
     "text": [
      "train data : (60000, 28, 28)\n",
      "test data  : (10000, 28, 28)\n"
     ]
    }
   ],
   "source": [
    "print('train data : {shape}'.format(shape=x_train_image.shape))\n",
    "print('test data  : {shape}'.format(shape=x_test_image.shape))"
   ]
  },
  {
   "cell_type": "markdown",
   "metadata": {},
   "source": [
    "## <font color='dark'>Check the data</font>"
   ]
  },
  {
   "cell_type": "code",
   "execution_count": 4,
   "metadata": {},
   "outputs": [
    {
     "data": {
      "image/png": "[encoded data removed]",
      "text/plain": [
       "<Figure size 144x144 with 1 Axes>"
      ]
     },
     "metadata": {
      "needs_background": "light"
     },
     "output_type": "display_data"
    }
   ],
   "source": [
    "def plot_img(image):\n",
    "    plt.figure(figsize=(2,2))\n",
    "    plt.imshow(image,cmap='binary')\n",
    "    plt.title(\"Show image\")\n",
    "    plt.show()\n",
    "\n",
    "plot_img(x_train_image[0])"
   ]
  },
  {
   "cell_type": "code",
   "execution_count": 5,
   "metadata": {},
   "outputs": [
    {
     "data": {
      "image/png": "[encoded data removed]",
      "text/plain": [
       "<Figure size 720x864 with 10 Axes>"
      ]
     },
     "metadata": {},
     "output_type": "display_data"
    }
   ],
   "source": [
    "def show_multiple_image(images, labels, prediction, idx, num=10):\n",
    "    fig = plt.gcf()\n",
    "    fig.set_size_inches(10,12)\n",
    "    \n",
    "    # 大於25張只秀出 25 張\n",
    "    if num>25:\n",
    "        num =25\n",
    "    \n",
    "    for i in range(num):\n",
    "        ax = plt.subplot(5,5, 1+i)            # 建立 subgraph 子圖形為5行5列\n",
    "        ax.imshow(images[idx], cmap='binary') # 劃出 subgraph 子圖形\n",
    "        \n",
    "        title = \"label=\" + str(labels[idx])   # 設定 子圖形 title\n",
    "        if len(prediction)>0:                 # 若有預測值，再加入子圖形 title\n",
    "            title+=\",predict =\" + str(prediction[idx])\n",
    "        \n",
    "        ax.set_title(title, fontsize=10)      # 把 title 加上去\n",
    "        ax.set_xticks([])                     # 設定不顯示刻度\n",
    "        ax.set_yticks([])                     # 設定不顯示刻度\n",
    "        \n",
    "        idx+=1                                # 讀取下一筆\n",
    "        \n",
    "    plt.show()\n",
    "    \n",
    "show_multiple_image(x_train_image, y_train_label, [], 0, 10)"
   ]
  },
  {
   "cell_type": "markdown",
   "metadata": {},
   "source": [
    "## <font color='dark'>Preprocessing the data</font>"
   ]
  },
  {
   "cell_type": "markdown",
   "metadata": {},
   "source": [
    "### Reshape"
   ]
  },
  {
   "cell_type": "code",
   "execution_count": 6,
   "metadata": {},
   "outputs": [
    {
     "name": "stdout",
     "output_type": "stream",
     "text": [
      "x_train_data_shape : (60000, 28, 28)\n",
      "x_test_data_shape : (10000, 28, 28)\n"
     ]
    }
   ],
   "source": [
    "print('x_train_data_shape : {shape}'.format(shape=x_train_image.shape))\n",
    "print('x_test_data_shape : {shape}'.format(shape=x_test_image.shape))"
   ]
  },
  {
   "cell_type": "code",
   "execution_count": 7,
   "metadata": {},
   "outputs": [],
   "source": [
    "x_train = x_train_image.reshape(60000,784).astype('float32')  \n",
    "x_test  = x_test_image.reshape(10000,784).astype('float32')"
   ]
  },
  {
   "cell_type": "code",
   "execution_count": 8,
   "metadata": {},
   "outputs": [
    {
     "name": "stdout",
     "output_type": "stream",
     "text": [
      "x_train_data_shape : (60000, 784)\n",
      "x_test_data_shape : (10000, 784)\n"
     ]
    }
   ],
   "source": [
    "print('x_train_data_shape : {shape}'.format(shape=x_train.shape))\n",
    "print('x_test_data_shape : {shape}'.format(shape=x_test.shape))"
   ]
  },
  {
   "cell_type": "markdown",
   "metadata": {},
   "source": [
    "### Normalization"
   ]
  },
  {
   "cell_type": "code",
   "execution_count": 9,
   "metadata": {},
   "outputs": [],
   "source": [
    "x_train_normalize = x_train/255\n",
    "x_test_normalize  = x_test/255"
   ]
  },
  {
   "cell_type": "markdown",
   "metadata": {},
   "source": [
    "### Change the label"
   ]
  },
  {
   "cell_type": "code",
   "execution_count": 10,
   "metadata": {},
   "outputs": [
    {
     "data": {
      "text/plain": [
       "array([5, 0, 4, 1, 9], dtype=uint8)"
      ]
     },
     "execution_count": 10,
     "metadata": {},
     "output_type": "execute_result"
    }
   ],
   "source": [
    "y_train_label[:5]"
   ]
  },
  {
   "cell_type": "markdown",
   "metadata": {},
   "source": [
    "**使用 np 的套件 np_utils.to_categorical 執行 One-hot encoding 轉換**"
   ]
  },
  {
   "cell_type": "code",
   "execution_count": 11,
   "metadata": {},
   "outputs": [],
   "source": [
    "y_train_onehot = np_utils.to_categorical(y_train_label)\n",
    "y_test_onehot  = np_utils.to_categorical(y_test_label)"
   ]
  },
  {
   "cell_type": "code",
   "execution_count": 12,
   "metadata": {},
   "outputs": [
    {
     "data": {
      "text/plain": [
       "array([[0., 0., 0., 0., 0., 1., 0., 0., 0., 0.],\n",
       "       [1., 0., 0., 0., 0., 0., 0., 0., 0., 0.],\n",
       "       [0., 0., 0., 0., 1., 0., 0., 0., 0., 0.],\n",
       "       [0., 1., 0., 0., 0., 0., 0., 0., 0., 0.],\n",
       "       [0., 0., 0., 0., 0., 0., 0., 0., 0., 1.]], dtype=float32)"
      ]
     },
     "execution_count": 12,
     "metadata": {},
     "output_type": "execute_result"
    }
   ],
   "source": [
    "y_train_onehot[:5]"
   ]
  },
  {
   "cell_type": "markdown",
   "metadata": {},
   "source": [
    "## <font color='dark'>Build the model (MLP)</font>"
   ]
  },
  {
   "cell_type": "code",
   "execution_count": 13,
   "metadata": {},
   "outputs": [],
   "source": [
    "from keras.models import Sequential\n",
    "from keras.layers import Dense"
   ]
  },
  {
   "cell_type": "code",
   "execution_count": 14,
   "metadata": {},
   "outputs": [],
   "source": [
    "model = Sequential()"
   ]
  },
  {
   "cell_type": "markdown",
   "metadata": {},
   "source": [
    "#### 建立輸入層和隱藏層"
   ]
  },
  {
   "cell_type": "code",
   "execution_count": 15,
   "metadata": {},
   "outputs": [],
   "source": [
    "# Dense 層需要輸入以下的參數\n",
    "model.add(Dense(units=256,                       #隱藏層的神經元有 256 個 \n",
    "                input_dim=784,                   #輸入層的神經元有 784 個 \n",
    "                kernel_initializer='normal',     #使用 normal distribution 的方式來分配亂數，初始化 weight(權重) 和 bias(偏差)\n",
    "                activation = 'relu'))            #使用激活函式 relu"
   ]
  },
  {
   "cell_type": "markdown",
   "metadata": {},
   "source": [
    "#### 建立輸出層"
   ]
  },
  {
   "cell_type": "code",
   "execution_count": 16,
   "metadata": {},
   "outputs": [],
   "source": [
    "model.add(Dense(units=10,\n",
    "                kernel_initializer='normal',\n",
    "                activation = 'softmax'))"
   ]
  },
  {
   "cell_type": "markdown",
   "metadata": {},
   "source": [
    "#### 查看模型摘要"
   ]
  },
  {
   "cell_type": "code",
   "execution_count": 17,
   "metadata": {},
   "outputs": [
    {
     "name": "stdout",
     "output_type": "stream",
     "text": [
      "_________________________________________________________________\n",
      "Layer (type)                 Output Shape              Param #   \n",
      "=================================================================\n",
      "dense_1 (Dense)              (None, 256)               200960    \n",
      "_________________________________________________________________\n",
      "dense_2 (Dense)              (None, 10)                2570      \n",
      "=================================================================\n",
      "Total params: 203,530\n",
      "Trainable params: 203,530\n",
      "Non-trainable params: 0\n",
      "_________________________________________________________________\n",
      "None\n"
     ]
    }
   ],
   "source": [
    "print(model.summary())"
   ]
  },
  {
   "cell_type": "markdown",
   "metadata": {},
   "source": [
    "我們可以看到共有兩層 layer ，分別是 隱藏層(256個神經元) 跟 輸出層(10個神經元)\n",
    "\n",
    "另外，因為隱藏層跟輸入層一起建立，所以沒有輸入層\n",
    "\n",
    "Param 的計算公式為: 上層神經元數 * 下層神經元數 + 下層神經元數\n",
    "\n",
    "Dense1 = 784*256+256\n",
    "\n",
    "Dense2 = 256*10 +10"
   ]
  },
  {
   "cell_type": "markdown",
   "metadata": {},
   "source": [
    "## <font color='dark'>Train the model</font>"
   ]
  },
  {
   "cell_type": "markdown",
   "metadata": {},
   "source": [
    "建立模型之後，接著就是要不斷的反覆訓練，使用的方法為 反向傳播算法(Back Propagation)"
   ]
  },
  {
   "cell_type": "markdown",
   "metadata": {},
   "source": [
    "首先，要先定義訓練的方式"
   ]
  },
  {
   "cell_type": "code",
   "execution_count": 18,
   "metadata": {},
   "outputs": [],
   "source": [
    "model.compile(loss='categorical_crossentropy',   # loss =, 設定損失函數，在 Deep learning 通常用 cross entropy 效果比較好\n",
    "              optimizer = 'adam',                # optimizer =, 設定訓練時的最優化方法，使用 adam 方法可使訓練更快收斂，提高準確率\n",
    "              metrics = ['accuracy'])            # metrics =, 設定評估模型的方式 為 準確率 accuracy"
   ]
  },
  {
   "cell_type": "markdown",
   "metadata": {},
   "source": [
    "接下來，開始進入訓練"
   ]
  },
  {
   "cell_type": "code",
   "execution_count": 19,
   "metadata": {},
   "outputs": [
    {
     "name": "stdout",
     "output_type": "stream",
     "text": [
      "Train on 48000 samples, validate on 12000 samples\n",
      "Epoch 1/10\n",
      " - 4s - loss: 0.4412 - acc: 0.8817 - val_loss: 0.2221 - val_acc: 0.9387\n",
      "Epoch 2/10\n",
      " - 1s - loss: 0.1926 - acc: 0.9457 - val_loss: 0.1590 - val_acc: 0.9558\n",
      "Epoch 3/10\n",
      " - 1s - loss: 0.1370 - acc: 0.9605 - val_loss: 0.1299 - val_acc: 0.9633\n",
      "Epoch 4/10\n",
      " - 1s - loss: 0.1054 - acc: 0.9697 - val_loss: 0.1115 - val_acc: 0.9676\n",
      "Epoch 5/10\n",
      " - 1s - loss: 0.0843 - acc: 0.9756 - val_loss: 0.1113 - val_acc: 0.9685\n",
      "Epoch 6/10\n",
      " - 1s - loss: 0.0676 - acc: 0.9811 - val_loss: 0.0941 - val_acc: 0.9724\n",
      "Epoch 7/10\n",
      " - 1s - loss: 0.0560 - acc: 0.9839 - val_loss: 0.0873 - val_acc: 0.9738\n",
      "Epoch 8/10\n",
      " - 1s - loss: 0.0466 - acc: 0.9869 - val_loss: 0.0889 - val_acc: 0.9723\n",
      "Epoch 9/10\n",
      " - 1s - loss: 0.0393 - acc: 0.9897 - val_loss: 0.0834 - val_acc: 0.9752\n",
      "Epoch 10/10\n",
      " - 1s - loss: 0.0328 - acc: 0.9921 - val_loss: 0.0836 - val_acc: 0.9758\n"
     ]
    }
   ],
   "source": [
    "train_history = model.fit(x = x_train_normalize,  # x 為 特徵值\n",
    "                          y = y_train_onehot,     # y 為 label值\n",
    "                          validation_split=0.2,   # 設定訓練與驗證資料的比例，0.2代表拿其中的 20% 作為驗證用的，其餘 80% 為訓練用的\n",
    "                          epochs = 10,            # 執行的訓練週期， = 10 代表訓練 10 個循環\n",
    "                          batch_size = 200,       # 每一個循環所跑的資料\n",
    "                          verbose = 2)            # 設定顯示的訓練過程(等一下會 print 出來的方式)"
   ]
  },
  {
   "cell_type": "markdown",
   "metadata": {},
   "source": [
    "我們可以看到總共跑了 10 次 (epochs = 10)，而每一次 loss(誤差) 越來越小，而acc(準確度)越來越高"
   ]
  },
  {
   "cell_type": "markdown",
   "metadata": {},
   "source": [
    "我們來視覺化訓練的過程"
   ]
  },
  {
   "cell_type": "code",
   "execution_count": 20,
   "metadata": {},
   "outputs": [
    {
     "data": {
      "image/png": "[encoded data removed]",
      "text/plain": [
       "<Figure size 432x288 with 1 Axes>"
      ]
     },
     "metadata": {
      "needs_background": "light"
     },
     "output_type": "display_data"
    }
   ],
   "source": [
    "import matplotlib.pyplot as plt \n",
    "\n",
    "# train_history 為訓練過程所產生的資料\n",
    "# train 為 80%訓練用的資料的執行結果， validation 為20%用來驗證的資料的執行結果\n",
    "def show_train_history(train_history, train, validation):       \n",
    "    plt.plot(train_history.history[train])\n",
    "    plt.plot(train_history.history[validation])\n",
    "    plt.title('Train history')\n",
    "    plt.ylabel(train)\n",
    "    plt.xlabel('Epoch')\n",
    "    plt.legend(['train', 'validation'], loc='upper left')\n",
    "    plt.show()\n",
    "\n",
    "show_train_history(train_history, 'acc', 'val_acc')"
   ]
  },
  {
   "cell_type": "markdown",
   "metadata": {},
   "source": [
    "我們可以看到後來 80% 訓練用的資料的準確度，比20%驗證用資料的準確度高\n",
    "\n",
    "這是因為訓練是拿 80% 的資料去訓練，拿訓練過的資料去看準確率當然比較高\n",
    "\n",
    "就好像老師出了100題題庫給學生練習，考試從這些題庫裡面出 一樣意思\n",
    "\n",
    "而驗證用的資料就好像老師考試就出那些從沒教過的考題，所以學生的成績當然沒那麼高，但這比較客觀\n",
    "\n",
    "造成的結果就是學生考試考題庫的考題很高分，但遇到現實的問題就 GG ~"
   ]
  },
  {
   "cell_type": "code",
   "execution_count": 21,
   "metadata": {},
   "outputs": [
    {
     "data": {
      "image/png": "[encoded data removed]",
      "text/plain": [
       "<Figure size 432x288 with 1 Axes>"
      ]
     },
     "metadata": {
      "needs_background": "light"
     },
     "output_type": "display_data"
    }
   ],
   "source": [
    "show_train_history(train_history,'loss','val_loss')"
   ]
  },
  {
   "cell_type": "code",
   "execution_count": 22,
   "metadata": {},
   "outputs": [
    {
     "name": "stdout",
     "output_type": "stream",
     "text": [
      "10000/10000 [==============================] - 0s 46us/step\n",
      "accuracy: [0.0744331663557794, 0.9771]\n"
     ]
    }
   ],
   "source": [
    "scores = model.evaluate(x_test_normalize,y_test_onehot)\n",
    "print(f'accuracy: {scores}')"
   ]
  },
  {
   "cell_type": "markdown",
   "metadata": {},
   "source": [
    " "
   ]
  },
  {
   "cell_type": "markdown",
   "metadata": {},
   "source": [
    "前幾個步驟我們已經建立過模型，並完全訓練完了，那我們可以來進行給 input 來預測"
   ]
  },
  {
   "cell_type": "code",
   "execution_count": 23,
   "metadata": {},
   "outputs": [
    {
     "data": {
      "text/plain": [
       "array([7, 2, 1, ..., 4, 5, 6], dtype=int64)"
      ]
     },
     "execution_count": 23,
     "metadata": {},
     "output_type": "execute_result"
    }
   ],
   "source": [
    "prediction = model.predict_classes(x_test)\n",
    "prediction"
   ]
  },
  {
   "cell_type": "code",
   "execution_count": 24,
   "metadata": {},
   "outputs": [
    {
     "data": {
      "image/png": "[encoded data removed]",
      "text/plain": [
       "<Figure size 720x864 with 10 Axes>"
      ]
     },
     "metadata": {},
     "output_type": "display_data"
    }
   ],
   "source": [
    "show_multiple_image(x_test_image, y_test_label, prediction, idx = 340, num=10)"
   ]
  },
  {
   "cell_type": "markdown",
   "metadata": {},
   "source": [
    "從上面的例子中我們可以看到有一個錯誤，真實是5，但結果是3，\n",
    "\n",
    "如果我們想要看那些數字預測比較高，而哪一些數字比較容易混淆，我們可以使用混淆矩陣來檢視我們的資料\n",
    "\n",
    "混淆矩陣(confusion matrix)也被稱之為誤差矩陣(error matrix)，可以讓我們以視覺化的方式來了解監督式學習的結果，看 model 使否混淆哪幾類"
   ]
  },
  {
   "cell_type": "markdown",
   "metadata": {},
   "source": [
    "#### 使用 pandas crosstab 建立 confusion matrix"
   ]
  },
  {
   "cell_type": "code",
   "execution_count": 25,
   "metadata": {},
   "outputs": [
    {
     "data": {
      "text/html": [
       "<div>\n",
       "<style scoped>\n",
       "    .dataframe tbody tr th:only-of-type {\n",
       "        vertical-align: middle;\n",
       "    }\n",
       "\n",
       "    .dataframe tbody tr th {\n",
       "        vertical-align: top;\n",
       "    }\n",
       "\n",
       "    .dataframe thead th {\n",
       "        text-align: right;\n",
       "    }\n",
       "</style>\n",
       "<table border=\"1\" class=\"dataframe\">\n",
       "  <thead>\n",
       "    <tr style=\"text-align: right;\">\n",
       "      <th>prediction</th>\n",
       "      <th>0</th>\n",
       "      <th>1</th>\n",
       "      <th>2</th>\n",
       "      <th>3</th>\n",
       "      <th>4</th>\n",
       "      <th>5</th>\n",
       "      <th>6</th>\n",
       "      <th>7</th>\n",
       "      <th>8</th>\n",
       "      <th>9</th>\n",
       "    </tr>\n",
       "    <tr>\n",
       "      <th>label</th>\n",
       "      <th></th>\n",
       "      <th></th>\n",
       "      <th></th>\n",
       "      <th></th>\n",
       "      <th></th>\n",
       "      <th></th>\n",
       "      <th></th>\n",
       "      <th></th>\n",
       "      <th></th>\n",
       "      <th></th>\n",
       "    </tr>\n",
       "  </thead>\n",
       "  <tbody>\n",
       "    <tr>\n",
       "      <th>0</th>\n",
       "      <td>971</td>\n",
       "      <td>0</td>\n",
       "      <td>1</td>\n",
       "      <td>0</td>\n",
       "      <td>1</td>\n",
       "      <td>2</td>\n",
       "      <td>2</td>\n",
       "      <td>1</td>\n",
       "      <td>2</td>\n",
       "      <td>0</td>\n",
       "    </tr>\n",
       "    <tr>\n",
       "      <th>1</th>\n",
       "      <td>0</td>\n",
       "      <td>1126</td>\n",
       "      <td>4</td>\n",
       "      <td>0</td>\n",
       "      <td>0</td>\n",
       "      <td>1</td>\n",
       "      <td>2</td>\n",
       "      <td>0</td>\n",
       "      <td>2</td>\n",
       "      <td>0</td>\n",
       "    </tr>\n",
       "    <tr>\n",
       "      <th>2</th>\n",
       "      <td>4</td>\n",
       "      <td>1</td>\n",
       "      <td>1013</td>\n",
       "      <td>1</td>\n",
       "      <td>1</td>\n",
       "      <td>0</td>\n",
       "      <td>2</td>\n",
       "      <td>5</td>\n",
       "      <td>5</td>\n",
       "      <td>0</td>\n",
       "    </tr>\n",
       "    <tr>\n",
       "      <th>3</th>\n",
       "      <td>0</td>\n",
       "      <td>0</td>\n",
       "      <td>6</td>\n",
       "      <td>982</td>\n",
       "      <td>0</td>\n",
       "      <td>6</td>\n",
       "      <td>0</td>\n",
       "      <td>7</td>\n",
       "      <td>4</td>\n",
       "      <td>5</td>\n",
       "    </tr>\n",
       "    <tr>\n",
       "      <th>4</th>\n",
       "      <td>0</td>\n",
       "      <td>1</td>\n",
       "      <td>6</td>\n",
       "      <td>0</td>\n",
       "      <td>962</td>\n",
       "      <td>2</td>\n",
       "      <td>2</td>\n",
       "      <td>2</td>\n",
       "      <td>1</td>\n",
       "      <td>6</td>\n",
       "    </tr>\n",
       "    <tr>\n",
       "      <th>5</th>\n",
       "      <td>2</td>\n",
       "      <td>0</td>\n",
       "      <td>0</td>\n",
       "      <td>2</td>\n",
       "      <td>1</td>\n",
       "      <td>874</td>\n",
       "      <td>5</td>\n",
       "      <td>2</td>\n",
       "      <td>4</td>\n",
       "      <td>2</td>\n",
       "    </tr>\n",
       "    <tr>\n",
       "      <th>6</th>\n",
       "      <td>6</td>\n",
       "      <td>3</td>\n",
       "      <td>2</td>\n",
       "      <td>1</td>\n",
       "      <td>5</td>\n",
       "      <td>3</td>\n",
       "      <td>935</td>\n",
       "      <td>0</td>\n",
       "      <td>3</td>\n",
       "      <td>0</td>\n",
       "    </tr>\n",
       "    <tr>\n",
       "      <th>7</th>\n",
       "      <td>1</td>\n",
       "      <td>6</td>\n",
       "      <td>9</td>\n",
       "      <td>2</td>\n",
       "      <td>0</td>\n",
       "      <td>0</td>\n",
       "      <td>0</td>\n",
       "      <td>1004</td>\n",
       "      <td>2</td>\n",
       "      <td>4</td>\n",
       "    </tr>\n",
       "    <tr>\n",
       "      <th>8</th>\n",
       "      <td>2</td>\n",
       "      <td>1</td>\n",
       "      <td>5</td>\n",
       "      <td>3</td>\n",
       "      <td>4</td>\n",
       "      <td>6</td>\n",
       "      <td>2</td>\n",
       "      <td>6</td>\n",
       "      <td>942</td>\n",
       "      <td>3</td>\n",
       "    </tr>\n",
       "    <tr>\n",
       "      <th>9</th>\n",
       "      <td>3</td>\n",
       "      <td>4</td>\n",
       "      <td>0</td>\n",
       "      <td>8</td>\n",
       "      <td>12</td>\n",
       "      <td>2</td>\n",
       "      <td>1</td>\n",
       "      <td>6</td>\n",
       "      <td>1</td>\n",
       "      <td>972</td>\n",
       "    </tr>\n",
       "  </tbody>\n",
       "</table>\n",
       "</div>"
      ],
      "text/plain": [
       "prediction    0     1     2    3    4    5    6     7    8    9\n",
       "label                                                          \n",
       "0           971     0     1    0    1    2    2     1    2    0\n",
       "1             0  1126     4    0    0    1    2     0    2    0\n",
       "2             4     1  1013    1    1    0    2     5    5    0\n",
       "3             0     0     6  982    0    6    0     7    4    5\n",
       "4             0     1     6    0  962    2    2     2    1    6\n",
       "5             2     0     0    2    1  874    5     2    4    2\n",
       "6             6     3     2    1    5    3  935     0    3    0\n",
       "7             1     6     9    2    0    0    0  1004    2    4\n",
       "8             2     1     5    3    4    6    2     6  942    3\n",
       "9             3     4     0    8   12    2    1     6    1  972"
      ]
     },
     "execution_count": 25,
     "metadata": {},
     "output_type": "execute_result"
    }
   ],
   "source": [
    "pd.crosstab(y_test_label,prediction,rownames=['label'],colnames=['prediction'])"
   ]
  },
  {
   "cell_type": "code",
   "execution_count": 26,
   "metadata": {},
   "outputs": [
    {
     "data": {
      "text/html": [
       "<div>\n",
       "<style scoped>\n",
       "    .dataframe tbody tr th:only-of-type {\n",
       "        vertical-align: middle;\n",
       "    }\n",
       "\n",
       "    .dataframe tbody tr th {\n",
       "        vertical-align: top;\n",
       "    }\n",
       "\n",
       "    .dataframe thead th {\n",
       "        text-align: right;\n",
       "    }\n",
       "</style>\n",
       "<table border=\"1\" class=\"dataframe\">\n",
       "  <thead>\n",
       "    <tr style=\"text-align: right;\">\n",
       "      <th></th>\n",
       "      <th>label</th>\n",
       "      <th>prediction</th>\n",
       "    </tr>\n",
       "  </thead>\n",
       "  <tbody>\n",
       "    <tr>\n",
       "      <th>0</th>\n",
       "      <td>7</td>\n",
       "      <td>7</td>\n",
       "    </tr>\n",
       "    <tr>\n",
       "      <th>1</th>\n",
       "      <td>2</td>\n",
       "      <td>2</td>\n",
       "    </tr>\n",
       "    <tr>\n",
       "      <th>2</th>\n",
       "      <td>1</td>\n",
       "      <td>1</td>\n",
       "    </tr>\n",
       "    <tr>\n",
       "      <th>3</th>\n",
       "      <td>0</td>\n",
       "      <td>0</td>\n",
       "    </tr>\n",
       "    <tr>\n",
       "      <th>4</th>\n",
       "      <td>4</td>\n",
       "      <td>4</td>\n",
       "    </tr>\n",
       "  </tbody>\n",
       "</table>\n",
       "</div>"
      ],
      "text/plain": [
       "   label  prediction\n",
       "0      7           7\n",
       "1      2           2\n",
       "2      1           1\n",
       "3      0           0\n",
       "4      4           4"
      ]
     },
     "execution_count": 26,
     "metadata": {},
     "output_type": "execute_result"
    }
   ],
   "source": [
    "df = pd.DataFrame({'label':y_test_label, 'prediction':prediction})\n",
    "df.head()"
   ]
  },
  {
   "cell_type": "code",
   "execution_count": 27,
   "metadata": {},
   "outputs": [
    {
     "data": {
      "text/html": [
       "<div>\n",
       "<style scoped>\n",
       "    .dataframe tbody tr th:only-of-type {\n",
       "        vertical-align: middle;\n",
       "    }\n",
       "\n",
       "    .dataframe tbody tr th {\n",
       "        vertical-align: top;\n",
       "    }\n",
       "\n",
       "    .dataframe thead th {\n",
       "        text-align: right;\n",
       "    }\n",
       "</style>\n",
       "<table border=\"1\" class=\"dataframe\">\n",
       "  <thead>\n",
       "    <tr style=\"text-align: right;\">\n",
       "      <th></th>\n",
       "      <th>label</th>\n",
       "      <th>prediction</th>\n",
       "    </tr>\n",
       "  </thead>\n",
       "  <tbody>\n",
       "    <tr>\n",
       "      <th>8</th>\n",
       "      <td>5</td>\n",
       "      <td>6</td>\n",
       "    </tr>\n",
       "    <tr>\n",
       "      <th>720</th>\n",
       "      <td>5</td>\n",
       "      <td>8</td>\n",
       "    </tr>\n",
       "    <tr>\n",
       "      <th>951</th>\n",
       "      <td>5</td>\n",
       "      <td>4</td>\n",
       "    </tr>\n",
       "    <tr>\n",
       "      <th>1032</th>\n",
       "      <td>5</td>\n",
       "      <td>8</td>\n",
       "    </tr>\n",
       "    <tr>\n",
       "      <th>1299</th>\n",
       "      <td>5</td>\n",
       "      <td>7</td>\n",
       "    </tr>\n",
       "  </tbody>\n",
       "</table>\n",
       "</div>"
      ],
      "text/plain": [
       "      label  prediction\n",
       "8         5           6\n",
       "720       5           8\n",
       "951       5           4\n",
       "1032      5           8\n",
       "1299      5           7"
      ]
     },
     "execution_count": 27,
     "metadata": {},
     "output_type": "execute_result"
    }
   ],
   "source": [
    "# 顯示 label 是 5 但結果顯示不為 5 的資料\n",
    "df[(df.label==5) & (df.prediction!=5)].head()"
   ]
  },
  {
   "cell_type": "markdown",
   "metadata": {},
   "source": [
    " "
   ]
  },
  {
   "cell_type": "markdown",
   "metadata": {},
   "source": [
    " "
   ]
  },
  {
   "cell_type": "markdown",
   "metadata": {},
   "source": [
    "## <font color='dark'>Build another model(with more units)</font>"
   ]
  },
  {
   "cell_type": "code",
   "execution_count": 28,
   "metadata": {},
   "outputs": [
    {
     "name": "stdout",
     "output_type": "stream",
     "text": [
      "_________________________________________________________________\n",
      "Layer (type)                 Output Shape              Param #   \n",
      "=================================================================\n",
      "dense_3 (Dense)              (None, 1000)              785000    \n",
      "_________________________________________________________________\n",
      "dense_4 (Dense)              (None, 10)                10010     \n",
      "=================================================================\n",
      "Total params: 795,010\n",
      "Trainable params: 795,010\n",
      "Non-trainable params: 0\n",
      "_________________________________________________________________\n",
      "None\n"
     ]
    }
   ],
   "source": [
    "from keras.models import Sequential\n",
    "from keras.layers import  Dense\n",
    "\n",
    "# 建立一個線性堆疊模組，後許只需要 model.add() 慢慢一層一層加上去\n",
    "model = Sequential()\n",
    "\n",
    "# Dense 層需要輸入以下的參數\n",
    "model.add(Dense(units=1000,                       #隱藏層的神經元有 1000 個 \n",
    "                input_dim=784,                   #輸入層的神經元有 784 個 \n",
    "                kernel_initializer='normal',     #使用 normal distribution 的方式來分配亂數，初始化 weight(權重) 和 bias(偏差)\n",
    "                activation = 'relu'))            #使用激活函式 relu\n",
    "\n",
    "model.add(Dense(units=10,\n",
    "                kernel_initializer='normal',\n",
    "                activation = 'softmax'))\n",
    "\n",
    "print(model.summary())"
   ]
  },
  {
   "cell_type": "code",
   "execution_count": 29,
   "metadata": {},
   "outputs": [],
   "source": [
    "model.compile(loss='categorical_crossentropy',   \n",
    "              optimizer = 'adam',               \n",
    "              metrics = ['accuracy'])            "
   ]
  },
  {
   "cell_type": "code",
   "execution_count": 30,
   "metadata": {},
   "outputs": [
    {
     "name": "stdout",
     "output_type": "stream",
     "text": [
      "Train on 48000 samples, validate on 12000 samples\n",
      "Epoch 1/10\n",
      " - 2s - loss: 0.2938 - acc: 0.9158 - val_loss: 0.1451 - val_acc: 0.9588\n",
      "Epoch 2/10\n",
      " - 2s - loss: 0.1144 - acc: 0.9667 - val_loss: 0.1078 - val_acc: 0.9699\n",
      "Epoch 3/10\n",
      " - 2s - loss: 0.0742 - acc: 0.9785 - val_loss: 0.0910 - val_acc: 0.9730\n",
      "Epoch 4/10\n",
      " - 2s - loss: 0.0519 - acc: 0.9848 - val_loss: 0.0867 - val_acc: 0.9733\n",
      "Epoch 5/10\n",
      " - 2s - loss: 0.0352 - acc: 0.9905 - val_loss: 0.0801 - val_acc: 0.9755\n",
      "Epoch 6/10\n",
      " - 3s - loss: 0.0251 - acc: 0.9939 - val_loss: 0.0753 - val_acc: 0.9774\n",
      "Epoch 7/10\n",
      " - 2s - loss: 0.0194 - acc: 0.9952 - val_loss: 0.0753 - val_acc: 0.9778\n",
      "Epoch 8/10\n",
      " - 2s - loss: 0.0131 - acc: 0.9971 - val_loss: 0.0756 - val_acc: 0.9787\n",
      "Epoch 9/10\n",
      " - 3s - loss: 0.0090 - acc: 0.9986 - val_loss: 0.0764 - val_acc: 0.9781\n",
      "Epoch 10/10\n",
      " - 2s - loss: 0.0066 - acc: 0.9990 - val_loss: 0.0749 - val_acc: 0.9797\n"
     ]
    }
   ],
   "source": [
    "train_history = model.fit(x = x_train_normalize,  # x 為 特徵值\n",
    "                          y = y_train_onehot,     # y 為 label值\n",
    "                          validation_split=0.2,   # 設定訓練與驗證資料的比例，0.2代表拿其中的 20% 作為驗證用的，其餘 80% 為訓練用的\n",
    "                          epochs = 10,            # 執行的訓練週期， = 10 代表訓練 10 個循環\n",
    "                          batch_size = 200,       # 每一個循環所跑的資料\n",
    "                          verbose = 2)            # 設定顯示的訓練過程(等一下會 print 出來的方式)"
   ]
  },
  {
   "cell_type": "markdown",
   "metadata": {},
   "source": [
    "**準確率**"
   ]
  },
  {
   "cell_type": "code",
   "execution_count": 31,
   "metadata": {},
   "outputs": [
    {
     "data": {
      "image/png": "[encoded data removed]",
      "text/plain": [
       "<Figure size 432x288 with 1 Axes>"
      ]
     },
     "metadata": {
      "needs_background": "light"
     },
     "output_type": "display_data"
    }
   ],
   "source": [
    "show_train_history(train_history, 'acc', 'val_acc')"
   ]
  },
  {
   "cell_type": "markdown",
   "metadata": {},
   "source": [
    " "
   ]
  },
  {
   "cell_type": "markdown",
   "metadata": {},
   "source": [
    " "
   ]
  },
  {
   "cell_type": "markdown",
   "metadata": {},
   "source": [
    " "
   ]
  },
  {
   "cell_type": "markdown",
   "metadata": {},
   "source": [
    "## <font color='dark'>Build another model (with dropout in hidden layer)</font>"
   ]
  },
  {
   "cell_type": "markdown",
   "metadata": {},
   "source": [
    "Dropout()功能是在每次的訓練過程中，會在隱藏層中隨機放棄 ，以避免 overfitting 的現象"
   ]
  },
  {
   "cell_type": "code",
   "execution_count": 32,
   "metadata": {},
   "outputs": [
    {
     "name": "stdout",
     "output_type": "stream",
     "text": [
      "_________________________________________________________________\n",
      "Layer (type)                 Output Shape              Param #   \n",
      "=================================================================\n",
      "dense_5 (Dense)              (None, 1000)              785000    \n",
      "_________________________________________________________________\n",
      "dropout_1 (Dropout)          (None, 1000)              0         \n",
      "_________________________________________________________________\n",
      "dense_6 (Dense)              (None, 10)                10010     \n",
      "=================================================================\n",
      "Total params: 795,010\n",
      "Trainable params: 795,010\n",
      "Non-trainable params: 0\n",
      "_________________________________________________________________\n",
      "None\n"
     ]
    }
   ],
   "source": [
    "from keras.layers import Dropout     #匯入 Dropout 模組\n",
    "\n",
    "\n",
    "# 建立一個線性堆疊模組，後許只需要 model.add() 慢慢一層一層加上去\n",
    "model = Sequential()\n",
    "\n",
    "# Dense 層需要輸入以下的參數\n",
    "model.add(Dense(units=1000,                       #隱藏層的神經元有 1000 個 \n",
    "                input_dim=784,                   #輸入層的神經元有 784 個 \n",
    "                kernel_initializer='normal',     #使用 normal distribution 的方式來分配亂數，初始化 weight(權重) 和 bias(偏差)\n",
    "                activation = 'relu'))            #使用激活函式 relu\n",
    "\n",
    "# 加入 Dropout 功能\n",
    "model.add(Dropout(0.5))\n",
    "\n",
    "model.add(Dense(units=10,\n",
    "                kernel_initializer='normal',\n",
    "                activation = 'softmax'))\n",
    "\n",
    "print(model.summary())"
   ]
  },
  {
   "cell_type": "code",
   "execution_count": 33,
   "metadata": {},
   "outputs": [],
   "source": [
    "model.compile(loss='categorical_crossentropy',   \n",
    "              optimizer = 'adam',               \n",
    "              metrics = ['accuracy'])            "
   ]
  },
  {
   "cell_type": "code",
   "execution_count": 34,
   "metadata": {},
   "outputs": [
    {
     "name": "stdout",
     "output_type": "stream",
     "text": [
      "Train on 48000 samples, validate on 12000 samples\n",
      "Epoch 1/10\n",
      " - 3s - loss: 0.3618 - acc: 0.8918 - val_loss: 0.1637 - val_acc: 0.9543\n",
      "Epoch 2/10\n",
      " - 2s - loss: 0.1581 - acc: 0.9536 - val_loss: 0.1146 - val_acc: 0.9663\n",
      "Epoch 3/10\n",
      " - 2s - loss: 0.1149 - acc: 0.9655 - val_loss: 0.0994 - val_acc: 0.9696\n",
      "Epoch 4/10\n",
      " - 2s - loss: 0.0914 - acc: 0.9725 - val_loss: 0.0892 - val_acc: 0.9733\n",
      "Epoch 5/10\n",
      " - 2s - loss: 0.0753 - acc: 0.9771 - val_loss: 0.0817 - val_acc: 0.9749\n",
      "Epoch 6/10\n",
      " - 2s - loss: 0.0632 - acc: 0.9810 - val_loss: 0.0743 - val_acc: 0.9779\n",
      "Epoch 7/10\n",
      " - 2s - loss: 0.0551 - acc: 0.9838 - val_loss: 0.0716 - val_acc: 0.9791\n",
      "Epoch 8/10\n",
      " - 2s - loss: 0.0467 - acc: 0.9857 - val_loss: 0.0666 - val_acc: 0.9807\n",
      "Epoch 9/10\n",
      " - 2s - loss: 0.0422 - acc: 0.9865 - val_loss: 0.0684 - val_acc: 0.9788\n",
      "Epoch 10/10\n",
      " - 2s - loss: 0.0382 - acc: 0.9879 - val_loss: 0.0660 - val_acc: 0.9792\n"
     ]
    }
   ],
   "source": [
    "train_history = model.fit(x = x_train_normalize,  # x 為 特徵值\n",
    "                          y = y_train_onehot,     # y 為 label值\n",
    "                          validation_split=0.2,   # 設定訓練與驗證資料的比例，0.2代表拿其中的 20% 作為驗證用的，其餘 80% 為訓練用的\n",
    "                          epochs = 10,            # 執行的訓練週期， = 10 代表訓練 10 個循環\n",
    "                          batch_size = 200,       # 每一個循環所跑的資料\n",
    "                          verbose = 2)            # 設定顯示的訓練過程(等一下會 print 出來的方式)"
   ]
  },
  {
   "cell_type": "code",
   "execution_count": 35,
   "metadata": {},
   "outputs": [
    {
     "data": {
      "image/png": "[encoded data removed]",
      "text/plain": [
       "<Figure size 432x288 with 1 Axes>"
      ]
     },
     "metadata": {
      "needs_background": "light"
     },
     "output_type": "display_data"
    }
   ],
   "source": [
    "show_train_history(train_history, 'acc', 'val_acc')"
   ]
  },
  {
   "cell_type": "code",
   "execution_count": 36,
   "metadata": {},
   "outputs": [
    {
     "name": "stdout",
     "output_type": "stream",
     "text": [
      "10000/10000 [==============================] - 1s 57us/step\n",
      "\n",
      "accuracy: [0.0553164646850666, 0.9822]\n"
     ]
    }
   ],
   "source": [
    "scores = model.evaluate(x_test_normalize,y_test_onehot)\n",
    "print()\n",
    "print(f'accuracy: {scores}')"
   ]
  },
  {
   "cell_type": "markdown",
   "metadata": {},
   "source": [
    " "
   ]
  },
  {
   "cell_type": "markdown",
   "metadata": {},
   "source": [
    " "
   ]
  },
  {
   "cell_type": "markdown",
   "metadata": {},
   "source": [
    " "
   ]
  },
  {
   "cell_type": "markdown",
   "metadata": {},
   "source": [
    "## <font color='dark'>Build another model (with two hidden layer)</font>"
   ]
  },
  {
   "cell_type": "code",
   "execution_count": 37,
   "metadata": {},
   "outputs": [
    {
     "name": "stdout",
     "output_type": "stream",
     "text": [
      "_________________________________________________________________\n",
      "Layer (type)                 Output Shape              Param #   \n",
      "=================================================================\n",
      "dense_7 (Dense)              (None, 1000)              785000    \n",
      "_________________________________________________________________\n",
      "dropout_2 (Dropout)          (None, 1000)              0         \n",
      "_________________________________________________________________\n",
      "dense_8 (Dense)              (None, 1000)              1001000   \n",
      "_________________________________________________________________\n",
      "dropout_3 (Dropout)          (None, 1000)              0         \n",
      "_________________________________________________________________\n",
      "dense_9 (Dense)              (None, 10)                10010     \n",
      "=================================================================\n",
      "Total params: 1,796,010\n",
      "Trainable params: 1,796,010\n",
      "Non-trainable params: 0\n",
      "_________________________________________________________________\n",
      "None\n"
     ]
    }
   ],
   "source": [
    "from keras.layers import Dropout     #匯入 Dropout 模組\n",
    "\n",
    "\n",
    "# 建立一個線性堆疊模組，後許只需要 model.add() 慢慢一層一層加上去\n",
    "model = Sequential()\n",
    "\n",
    "# Dense 層需要輸入以下的參數\n",
    "model.add(Dense(units=1000,                       #隱藏層的神經元有 1000 個 \n",
    "                input_dim=784,                   #輸入層的神經元有 784 個 \n",
    "                kernel_initializer='normal',     #使用 normal distribution 的方式來分配亂數，初始化 weight(權重) 和 bias(偏差)\n",
    "                activation = 'relu'))            #使用激活函式 relu\n",
    "\n",
    "# 加入 Dropout 功能\n",
    "model.add(Dropout(0.5))\n",
    "\n",
    "# Dense 層需要輸入以下的參數\n",
    "model.add(Dense(units=1000,                       #隱藏層的神經元有 1000 個 \n",
    "                input_dim=784,                   #輸入層的神經元有 784 個 \n",
    "                kernel_initializer='normal',     #使用 normal distribution 的方式來分配亂數，初始化 weight(權重) 和 bias(偏差)\n",
    "                activation = 'relu'))            #使用激活函式 relu\n",
    "\n",
    "# 加入 Dropout 功能\n",
    "model.add(Dropout(0.5))\n",
    "\n",
    "model.add(Dense(units=10,\n",
    "                kernel_initializer='normal',\n",
    "                activation = 'softmax'))\n",
    "\n",
    "print(model.summary())"
   ]
  },
  {
   "cell_type": "code",
   "execution_count": 38,
   "metadata": {},
   "outputs": [],
   "source": [
    "model.compile(loss='categorical_crossentropy',   \n",
    "              optimizer = 'adam',               \n",
    "              metrics = ['accuracy']) "
   ]
  },
  {
   "cell_type": "code",
   "execution_count": 39,
   "metadata": {},
   "outputs": [
    {
     "name": "stdout",
     "output_type": "stream",
     "text": [
      "Train on 48000 samples, validate on 12000 samples\n",
      "Epoch 1/10\n",
      " - 5s - loss: 0.3714 - acc: 0.8830 - val_loss: 0.1303 - val_acc: 0.9604\n",
      "Epoch 2/10\n",
      " - 4s - loss: 0.1612 - acc: 0.9508 - val_loss: 0.0982 - val_acc: 0.9706\n",
      "Epoch 3/10\n",
      " - 4s - loss: 0.1199 - acc: 0.9630 - val_loss: 0.0842 - val_acc: 0.9761\n",
      "Epoch 4/10\n",
      " - 4s - loss: 0.0985 - acc: 0.9681 - val_loss: 0.0779 - val_acc: 0.9760\n",
      "Epoch 5/10\n",
      " - 4s - loss: 0.0837 - acc: 0.9732 - val_loss: 0.0850 - val_acc: 0.9742\n",
      "Epoch 6/10\n",
      " - 4s - loss: 0.0740 - acc: 0.9767 - val_loss: 0.0833 - val_acc: 0.9760\n",
      "Epoch 7/10\n",
      " - 4s - loss: 0.0647 - acc: 0.9789 - val_loss: 0.0715 - val_acc: 0.9791\n",
      "Epoch 8/10\n",
      " - 4s - loss: 0.0642 - acc: 0.9794 - val_loss: 0.0719 - val_acc: 0.9806\n",
      "Epoch 9/10\n",
      " - 4s - loss: 0.0560 - acc: 0.9821 - val_loss: 0.0778 - val_acc: 0.9783\n",
      "Epoch 10/10\n",
      " - 4s - loss: 0.0512 - acc: 0.9827 - val_loss: 0.0730 - val_acc: 0.9796\n"
     ]
    }
   ],
   "source": [
    "train_history = model.fit(x = x_train_normalize,  # x 為 特徵值\n",
    "                          y = y_train_onehot,     # y 為 label值\n",
    "                          validation_split=0.2,   # 設定訓練與驗證資料的比例，0.2代表拿其中的 20% 作為驗證用的，其餘 80% 為訓練用的\n",
    "                          epochs = 10,            # 執行的訓練週期， = 10 代表訓練 10 個循環\n",
    "                          batch_size = 200,       # 每一個循環所跑的資料\n",
    "                          verbose = 2)            # 設定顯示的訓練過程(等一下會 print 出來的方式)"
   ]
  },
  {
   "cell_type": "code",
   "execution_count": 40,
   "metadata": {},
   "outputs": [
    {
     "data": {
      "image/png": "[encoded data removed]",
      "text/plain": [
       "<Figure size 432x288 with 1 Axes>"
      ]
     },
     "metadata": {
      "needs_background": "light"
     },
     "output_type": "display_data"
    }
   ],
   "source": [
    "show_train_history(train_history, 'acc', 'val_acc')"
   ]
  }
 ],
 "metadata": {
  "kernelspec": {
   "display_name": "Python 3",
   "language": "python",
   "name": "python3"
  },
  "language_info": {
   "codemirror_mode": {
    "name": "ipython",
    "version": 3
   },
   "file_extension": ".py",
   "mimetype": "text/x-python",
   "name": "python",
   "nbconvert_exporter": "python",
   "pygments_lexer": "ipython3",
   "version": "3.6.5"
  }
 },
 "nbformat": 4,
 "nbformat_minor": 2
}
